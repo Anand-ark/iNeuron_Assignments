{
  "nbformat": 4,
  "nbformat_minor": 0,
  "metadata": {
    "colab": {
      "name": "Python_Subjective_Assignment.ipynb",
      "provenance": [],
      "collapsed_sections": []
    },
    "kernelspec": {
      "name": "python3",
      "display_name": "Python 3"
    }
  },
  "cells": [
    {
      "cell_type": "code",
      "metadata": {
        "id": "R6GovLJI8nxy",
        "colab_type": "code",
        "outputId": "601524ff-88ee-4ef2-f412-f327d8f7c46b",
        "colab": {
          "base_uri": "https://localhost:8080/",
          "height": 72
        }
      },
      "source": [
        "import numpy as np\n",
        "import pandas as pd\n",
        "import matplotlib.pyplot as plt\n",
        "import seaborn as sns"
      ],
      "execution_count": 0,
      "outputs": [
        {
          "output_type": "stream",
          "text": [
            "/usr/local/lib/python3.6/dist-packages/statsmodels/tools/_testing.py:19: FutureWarning: pandas.util.testing is deprecated. Use the functions in the public API at pandas.testing instead.\n",
            "  import pandas.util.testing as tm\n"
          ],
          "name": "stderr"
        }
      ]
    },
    {
      "cell_type": "markdown",
      "metadata": {
        "id": "RP6TlEBCkcs8",
        "colab_type": "text"
      },
      "source": [
        "**Q1.** Write a Python program to get the string from the given string where\n",
        "all the occurrence of its first char has been changed to '$,' except first char itself?\n",
        "\n",
        "Sample String: 'prospect'\n",
        "\n",
        "Expected Result : 'pros$ect'"
      ]
    },
    {
      "cell_type": "code",
      "metadata": {
        "id": "i887Kor9B3KJ",
        "colab_type": "code",
        "outputId": "1d9668ca-e605-405a-d5e0-7ac5c781d6d2",
        "colab": {
          "base_uri": "https://localhost:8080/",
          "height": 52
        }
      },
      "source": [
        "s=input(\"Enter String : \")\n",
        "x=s[0]\n",
        "l=[]\n",
        "for i in range(1,len(s)):\n",
        "  if(s[i]==x):\n",
        "    l.append('$')\n",
        "  else:\n",
        "    l.append(s[i])\n",
        "result=x+''.join(l)\n",
        "print(\"Result is : \",result)\n"
      ],
      "execution_count": 0,
      "outputs": [
        {
          "output_type": "stream",
          "text": [
            "Enter String : prospect\n",
            "Result is :  pros$ect\n"
          ],
          "name": "stdout"
        }
      ]
    },
    {
      "cell_type": "markdown",
      "metadata": {
        "id": "rwViNIj2GDcp",
        "colab_type": "text"
      },
      "source": [
        "**Q2.** Write a Python program to get the single string from the two given strings, and separated by the space and swap the first two characters of each string?\n",
        "\n",
        "Sample String : 'abc', 'xyz'.\n",
        "\n",
        "Expected Result: 'xyc abz'"
      ]
    },
    {
      "cell_type": "code",
      "metadata": {
        "id": "ZJZzSHYnF8Uf",
        "colab_type": "code",
        "outputId": "b0bcb2ba-bba5-41b8-d7f7-25c7cf956c27",
        "colab": {
          "base_uri": "https://localhost:8080/",
          "height": 69
        }
      },
      "source": [
        "st1=input('Enter the first string : ')\n",
        "st2=input('Enter the second string : ')\n",
        "ans=st2[0:2]+st1[2:]+' '+st1[0:2]+st2[2:]\n",
        "print(\"Result is : \",ans)\n",
        "\n"
      ],
      "execution_count": 0,
      "outputs": [
        {
          "output_type": "stream",
          "text": [
            "Enter the first string : abc\n",
            "Enter the second string : xyz\n",
            "Result is :  xyc abz\n"
          ],
          "name": "stdout"
        }
      ]
    },
    {
      "cell_type": "markdown",
      "metadata": {
        "id": "TnBz_YsVPIp3",
        "colab_type": "text"
      },
      "source": [
        "**Q3.** Write the Python program to add 'ing' at the end of the given string(length of the string should be at least 3). If given string already ends with 'ing,' then add 'ly' instead. If string length of the given string is less than 3, leave it unchanged?\n",
        "\n",
        "Sample string: ' abc '\n",
        "\n",
        "Expected result: ' abcing '\n",
        "\n",
        "Sample string: ' string '\n",
        "\n",
        "Expected result: ' stringly '"
      ]
    },
    {
      "cell_type": "code",
      "metadata": {
        "id": "_rAMHNxIQ9Jy",
        "colab_type": "code",
        "colab": {}
      },
      "source": [
        "def strings(s):\n",
        "  if(len(s)<3):\n",
        "    print('Result is : ',s)\n",
        "  else:\n",
        "    if(s[-3:]=='ing'):\n",
        "      print('Result is : ',s+'ly')\n",
        "    else:\n",
        "      print('Result is : ',s+'ing')\n",
        "\n",
        "\n"
      ],
      "execution_count": 0,
      "outputs": []
    },
    {
      "cell_type": "code",
      "metadata": {
        "id": "kFoyyTxxdgcI",
        "colab_type": "code",
        "outputId": "befa4271-5add-4574-f060-33a7aca68da0",
        "colab": {
          "base_uri": "https://localhost:8080/",
          "height": 35
        }
      },
      "source": [
        "strings('abc')"
      ],
      "execution_count": 0,
      "outputs": [
        {
          "output_type": "stream",
          "text": [
            "Result is :  abcing\n"
          ],
          "name": "stdout"
        }
      ]
    },
    {
      "cell_type": "code",
      "metadata": {
        "id": "o_6cWtZodlNE",
        "colab_type": "code",
        "outputId": "db629d8f-17d2-4a11-d583-f28d181eccf1",
        "colab": {
          "base_uri": "https://localhost:8080/",
          "height": 35
        }
      },
      "source": [
        "strings('string')"
      ],
      "execution_count": 0,
      "outputs": [
        {
          "output_type": "stream",
          "text": [
            "Result is :  stringly\n"
          ],
          "name": "stdout"
        }
      ]
    },
    {
      "cell_type": "code",
      "metadata": {
        "id": "Vm2EJyzgdoju",
        "colab_type": "code",
        "outputId": "51019074-4a87-492a-e9b0-a2fcbd9181e1",
        "colab": {
          "base_uri": "https://localhost:8080/",
          "height": 35
        }
      },
      "source": [
        "strings('an')"
      ],
      "execution_count": 0,
      "outputs": [
        {
          "output_type": "stream",
          "text": [
            "Result is :  an\n"
          ],
          "name": "stdout"
        }
      ]
    },
    {
      "cell_type": "markdown",
      "metadata": {
        "id": "4D8FYVXLaDI3",
        "colab_type": "text"
      },
      "source": [
        "**Q4.** Write the Python program to find the first appearance of the\n",
        "substring 'not' and 'poor' from the given string, if 'not' follows the 'poor', replace the whole 'not'...' poor' substring with 'good'.Return the resulting string.\n",
        "\n",
        "Sample string: \n",
        "\n",
        "'The lyrics are not that poor!'\n",
        "\n",
        "'The lyrics are poor!'\n",
        "\n",
        "Expected Result: \n",
        "\n",
        "'The lyrics are good!'\n",
        "\n",
        "'The lyrics are poor!'"
      ]
    },
    {
      "cell_type": "code",
      "metadata": {
        "id": "8gbTEmidgdh_",
        "colab_type": "code",
        "colab": {}
      },
      "source": [
        "def result(s):\n",
        "  s1=s.find('not')\n",
        "  s2=s.find('poor')\n",
        "  s3=s[:s1]+'good'+s[(s2+4):]\n",
        "  if(s1==-1 or s2==-1):\n",
        "    print(s)\n",
        "  else:\n",
        "    print(s3)"
      ],
      "execution_count": 0,
      "outputs": []
    },
    {
      "cell_type": "code",
      "metadata": {
        "id": "7VJgrCNAl69S",
        "colab_type": "code",
        "outputId": "abef8190-7b92-4214-94f3-f701433dfb7a",
        "colab": {
          "base_uri": "https://localhost:8080/",
          "height": 35
        }
      },
      "source": [
        "result('The lyrics are not that poor!')"
      ],
      "execution_count": 0,
      "outputs": [
        {
          "output_type": "stream",
          "text": [
            "The lyrics are good!\n"
          ],
          "name": "stdout"
        }
      ]
    },
    {
      "cell_type": "code",
      "metadata": {
        "id": "pBiGACdpmIJy",
        "colab_type": "code",
        "outputId": "5c2d9f02-64f6-4394-8e16-ed6f7f21f580",
        "colab": {
          "base_uri": "https://localhost:8080/",
          "height": 35
        }
      },
      "source": [
        "result('The lyrics are poor!')"
      ],
      "execution_count": 0,
      "outputs": [
        {
          "output_type": "stream",
          "text": [
            "The lyrics are poor!\n"
          ],
          "name": "stdout"
        }
      ]
    },
    {
      "cell_type": "markdown",
      "metadata": {
        "id": "2seNMBKs4hOn",
        "colab_type": "text"
      },
      "source": [
        "**Q5.** Write the Python program to remove the characters which have odd\n",
        "index values of a given string."
      ]
    },
    {
      "cell_type": "code",
      "metadata": {
        "id": "istKPVMFmQWG",
        "colab_type": "code",
        "colab": {}
      },
      "source": [
        "def even_index(s):\n",
        "  l=[]\n",
        "  for i in range(len(s)):\n",
        "    if(i%2==0):\n",
        "      l.append(s[i])\n",
        "  res=''.join(l)\n",
        "  return res\n",
        "      \n"
      ],
      "execution_count": 0,
      "outputs": []
    },
    {
      "cell_type": "code",
      "metadata": {
        "id": "4Bp1utwR8cQt",
        "colab_type": "code",
        "outputId": "57c0c287-b711-4345-c832-73c1ef87a2d9",
        "colab": {
          "base_uri": "https://localhost:8080/",
          "height": 35
        }
      },
      "source": [
        "even_index('machinelearning')"
      ],
      "execution_count": 0,
      "outputs": [
        {
          "output_type": "execute_result",
          "data": {
            "text/plain": [
              "'mcieerig'"
            ]
          },
          "metadata": {
            "tags": []
          },
          "execution_count": 12
        }
      ]
    },
    {
      "cell_type": "markdown",
      "metadata": {
        "id": "YDaQqRa89jkr",
        "colab_type": "text"
      },
      "source": [
        "**Q6.** Write the Python function to get a string made of 4 copies of the last two characters of the specified string (length must be at least 2).\n",
        "\n",
        "\n",
        "Sample function and result :\n",
        "\n",
        "insert-end ('Python') -> abababab\n",
        "\n",
        "insert-end('Exercises') -> jkjkjkjk"
      ]
    },
    {
      "cell_type": "code",
      "metadata": {
        "id": "Iin2aH-w9Qh8",
        "colab_type": "code",
        "colab": {}
      },
      "source": [
        "def last_char(s):               \n",
        "  x=s[-2:]\n",
        "  return x*4"
      ],
      "execution_count": 0,
      "outputs": []
    },
    {
      "cell_type": "code",
      "metadata": {
        "id": "eKzHkKRZ-7Fh",
        "colab_type": "code",
        "outputId": "b14bd211-71bb-46c5-c87e-45e9da5751bb",
        "colab": {
          "base_uri": "https://localhost:8080/",
          "height": 35
        }
      },
      "source": [
        "last_char('machine')"
      ],
      "execution_count": 0,
      "outputs": [
        {
          "output_type": "execute_result",
          "data": {
            "text/plain": [
              "'nenenene'"
            ]
          },
          "metadata": {
            "tags": []
          },
          "execution_count": 14
        }
      ]
    },
    {
      "cell_type": "markdown",
      "metadata": {
        "id": "1SbRa45A_gCo",
        "colab_type": "text"
      },
      "source": [
        "**Q7.** Write the python function to get a string made of its first three characters of a specified string. If the length of the string is less than 3 then return the original string.\n",
        "Sample function and result :\n",
        "\n",
        "first-three('ipy') -> ipy\n",
        "\n",
        "first-three('python') -> pyt"
      ]
    },
    {
      "cell_type": "code",
      "metadata": {
        "id": "LFDTyf2b_VGk",
        "colab_type": "code",
        "colab": {}
      },
      "source": [
        "def first_three(s):\n",
        "  if(len(s)<3):\n",
        "    return s\n",
        "  else:\n",
        "    return s[:3]"
      ],
      "execution_count": 0,
      "outputs": []
    },
    {
      "cell_type": "code",
      "metadata": {
        "id": "HiXxT1xR_6zm",
        "colab_type": "code",
        "outputId": "2b8050c4-255f-4a9e-d26d-3a30af2c6e47",
        "colab": {
          "base_uri": "https://localhost:8080/",
          "height": 35
        }
      },
      "source": [
        "first_three('python')"
      ],
      "execution_count": 0,
      "outputs": [
        {
          "output_type": "execute_result",
          "data": {
            "text/plain": [
              "'pyt'"
            ]
          },
          "metadata": {
            "tags": []
          },
          "execution_count": 16
        }
      ]
    },
    {
      "cell_type": "code",
      "metadata": {
        "id": "zkunrjifAJWV",
        "colab_type": "code",
        "outputId": "7c33ae29-8671-45d2-ed5c-c1f11d4f4d00",
        "colab": {
          "base_uri": "https://localhost:8080/",
          "height": 35
        }
      },
      "source": [
        "first_three('ipy')"
      ],
      "execution_count": 0,
      "outputs": [
        {
          "output_type": "execute_result",
          "data": {
            "text/plain": [
              "'ipy'"
            ]
          },
          "metadata": {
            "tags": []
          },
          "execution_count": 17
        }
      ]
    },
    {
      "cell_type": "markdown",
      "metadata": {
        "id": "HPRr9l2tBIBp",
        "colab_type": "text"
      },
      "source": [
        "**Q.8** Write the python program to print the following floating numbers up to 2 decimal places?"
      ]
    },
    {
      "cell_type": "code",
      "metadata": {
        "id": "PU-JmGQrAN8b",
        "colab_type": "code",
        "colab": {}
      },
      "source": [
        "def two_decimal(num):\n",
        "  return round(num,2)"
      ],
      "execution_count": 0,
      "outputs": []
    },
    {
      "cell_type": "code",
      "metadata": {
        "id": "7mlHVOugECzm",
        "colab_type": "code",
        "outputId": "085b08c2-fa1a-41c7-ca50-a66719869e10",
        "colab": {
          "base_uri": "https://localhost:8080/",
          "height": 35
        }
      },
      "source": [
        "two_decimal(13.3899)"
      ],
      "execution_count": 0,
      "outputs": [
        {
          "output_type": "execute_result",
          "data": {
            "text/plain": [
              "13.39"
            ]
          },
          "metadata": {
            "tags": []
          },
          "execution_count": 19
        }
      ]
    },
    {
      "cell_type": "markdown",
      "metadata": {
        "id": "4OPituJhUV_h",
        "colab_type": "text"
      },
      "source": [
        "**Q9.** Write the Python program to format a number with a percentage?"
      ]
    },
    {
      "cell_type": "code",
      "metadata": {
        "id": "BNO7kRTTUVWs",
        "colab_type": "code",
        "colab": {}
      },
      "source": [
        "def percent(num):\n",
        "  print(round((num*100),2),'%')\n"
      ],
      "execution_count": 0,
      "outputs": []
    },
    {
      "cell_type": "code",
      "metadata": {
        "id": "HiL7mD2iWPbP",
        "colab_type": "code",
        "outputId": "3db05ffb-d974-47f0-8507-ed8c81490bb1",
        "colab": {
          "base_uri": "https://localhost:8080/",
          "height": 35
        }
      },
      "source": [
        "percent(0.255555)"
      ],
      "execution_count": 0,
      "outputs": [
        {
          "output_type": "stream",
          "text": [
            "25.56 %\n"
          ],
          "name": "stdout"
        }
      ]
    },
    {
      "cell_type": "markdown",
      "metadata": {
        "id": "cS7dZFjiWi0Q",
        "colab_type": "text"
      },
      "source": [
        "**Q10.**Write the Python program to count occurrences of a substring in a\n",
        "String?"
      ]
    },
    {
      "cell_type": "code",
      "metadata": {
        "id": "W0pPxSofWiRy",
        "colab_type": "code",
        "colab": {}
      },
      "source": [
        "def occur(string,substring):\n",
        "  return string.count(substring)"
      ],
      "execution_count": 0,
      "outputs": []
    },
    {
      "cell_type": "code",
      "metadata": {
        "id": "6_pHCkxSW9kN",
        "colab_type": "code",
        "outputId": "60e8f005-22a3-46f4-9b0f-11f18ee5aec4",
        "colab": {
          "base_uri": "https://localhost:8080/",
          "height": 35
        }
      },
      "source": [
        "#count the occurence of i in string\n",
        "occur('i love my india','my')"
      ],
      "execution_count": 0,
      "outputs": [
        {
          "output_type": "execute_result",
          "data": {
            "text/plain": [
              "1"
            ]
          },
          "metadata": {
            "tags": []
          },
          "execution_count": 23
        }
      ]
    },
    {
      "cell_type": "markdown",
      "metadata": {
        "id": "5czLzATSXm5k",
        "colab_type": "text"
      },
      "source": [
        "**Q11.**Write the Python program to count repeated characters in a string.\n",
        "\n",
        "Sample string: ' thequickbrownjumpsoverthelazydog '\n",
        "\n",
        "Expected output:\n",
        "\n",
        "o 3\n",
        "\n",
        "e 3\n",
        "\n",
        "u 2\n",
        "\n",
        "h 2\n",
        "\n",
        "r 2\n",
        "\n",
        "t 2"
      ]
    },
    {
      "cell_type": "code",
      "metadata": {
        "id": "DqMopH_rX7Vj",
        "colab_type": "code",
        "colab": {}
      },
      "source": [
        "def count_repeat(s):\n",
        "  l=[]\n",
        "  for i in s:\n",
        "    if (i not in l):\n",
        "      l.append(i)\n",
        "  for i in range(len(l)):\n",
        "    x=s.count(l[i])\n",
        "    if(x>1):\n",
        "      print(l[i],x)\n"
      ],
      "execution_count": 0,
      "outputs": []
    },
    {
      "cell_type": "code",
      "metadata": {
        "id": "axSkte7lbhNN",
        "colab_type": "code",
        "outputId": "793e54ee-85ab-4996-b197-8b2bde96d9e8",
        "colab": {
          "base_uri": "https://localhost:8080/",
          "height": 121
        }
      },
      "source": [
        "count_repeat('thequickbrownjumpsoverthelazydog')"
      ],
      "execution_count": 0,
      "outputs": [
        {
          "output_type": "stream",
          "text": [
            "t 2\n",
            "h 2\n",
            "e 3\n",
            "u 2\n",
            "r 2\n",
            "o 3\n"
          ],
          "name": "stdout"
        }
      ]
    },
    {
      "cell_type": "markdown",
      "metadata": {
        "id": "A4QgLPfXb6hc",
        "colab_type": "text"
      },
      "source": [
        "**Q12.**Write the Python program to print the square and cube symbol in the area of a rectangle and volume of a cylinder?"
      ]
    },
    {
      "cell_type": "code",
      "metadata": {
        "id": "CKYdkNnk4alf",
        "colab_type": "code",
        "outputId": "0a7a62bd-54ee-4cb8-90e3-99adb4a97b0d",
        "colab": {
          "base_uri": "https://localhost:8080/",
          "height": 86
        }
      },
      "source": [
        "print('\\n The area of the rectangle is ' + str(856)+ 'cm\\u00b2')\n",
        "print('\\n The Volume of cylinder is ' + str(1200)+  'cm\\u00b3')"
      ],
      "execution_count": 0,
      "outputs": [
        {
          "output_type": "stream",
          "text": [
            "\n",
            " The area of the rectangle is 856cm²\n",
            "\n",
            " The Volume of cylinder is 1200cm³\n"
          ],
          "name": "stdout"
        }
      ]
    },
    {
      "cell_type": "markdown",
      "metadata": {
        "id": "haRbQ9lhkb3x",
        "colab_type": "text"
      },
      "source": [
        "**Q13.**Write the Python program to check if a string contains all letters of the alphabet?"
      ]
    },
    {
      "cell_type": "code",
      "metadata": {
        "id": "Yg4XvWGgd2FT",
        "colab_type": "code",
        "colab": {}
      },
      "source": [
        "def all_alpha(s):\n",
        "  s=s.upper()\n",
        "  #store the unique character in l\n",
        "  l=[]\n",
        "  count=0\n",
        "  for i in s:\n",
        "    if (i not in l):\n",
        "      l.append(i)\n",
        "  #store the list of all alphabets in char \n",
        "  char=[]\n",
        "  for i in range(65,91):\n",
        "      char.append(chr(i))\n",
        "  #count total unique character present in l\n",
        "  for j in l:\n",
        "    if(j in char):\n",
        "      count=count+1\n",
        "  if(count==26):\n",
        "    return True\n",
        "  else:\n",
        "    return False\n"
      ],
      "execution_count": 0,
      "outputs": []
    },
    {
      "cell_type": "code",
      "metadata": {
        "id": "eodBkFyueQfE",
        "colab_type": "code",
        "outputId": "5ba163c2-bf40-4589-8b28-8d7e5e627f26",
        "colab": {
          "base_uri": "https://localhost:8080/",
          "height": 35
        }
      },
      "source": [
        "all_alpha('The quick brown fox jumps over the lazy dog')"
      ],
      "execution_count": 0,
      "outputs": [
        {
          "output_type": "execute_result",
          "data": {
            "text/plain": [
              "True"
            ]
          },
          "metadata": {
            "tags": []
          },
          "execution_count": 28
        }
      ]
    },
    {
      "cell_type": "code",
      "metadata": {
        "id": "ackhyHomeXWs",
        "colab_type": "code",
        "outputId": "759d94d9-3b41-4f67-93b9-33aa9c0737e1",
        "colab": {
          "base_uri": "https://localhost:8080/",
          "height": 35
        }
      },
      "source": [
        "all_alpha('The quick brown fox jumps over the lazy tiger')"
      ],
      "execution_count": 0,
      "outputs": [
        {
          "output_type": "execute_result",
          "data": {
            "text/plain": [
              "False"
            ]
          },
          "metadata": {
            "tags": []
          },
          "execution_count": 29
        }
      ]
    },
    {
      "cell_type": "markdown",
      "metadata": {
        "id": "jy-kgOvbe03t",
        "colab_type": "text"
      },
      "source": [
        "\n",
        "**Q14.** Write the Python program to find the second most repeated word in a given string?"
      ]
    },
    {
      "cell_type": "code",
      "metadata": {
        "id": "nzBBPVFnfSyi",
        "colab_type": "code",
        "colab": {}
      },
      "source": [
        "def find(s):\n",
        "  d=dict()\n",
        "  words = str.split(s)\n",
        "  for i in words:\n",
        "    if i in d:\n",
        "      d[i]+=1\n",
        "    else:\n",
        "      d[i]=1\n",
        "  ans=sorted(d.items(),key=lambda i:i[-1])\n",
        "  print('\\n The second most repeated word in a given string :', ans[-2])\n"
      ],
      "execution_count": 0,
      "outputs": []
    },
    {
      "cell_type": "code",
      "metadata": {
        "id": "zer6EWLWaBxb",
        "colab_type": "code",
        "outputId": "ed0d9899-3824-4594-b5ab-014e2a02d992",
        "colab": {
          "base_uri": "https://localhost:8080/",
          "height": 52
        }
      },
      "source": [
        "s='When wealth is lost nothing is lost when health is lost something is lost when character is lost everything lost'\n",
        "find(s)"
      ],
      "execution_count": 0,
      "outputs": [
        {
          "output_type": "stream",
          "text": [
            "\n",
            " The second most repeated word in a given string : ('is', 5)\n"
          ],
          "name": "stdout"
        }
      ]
    },
    {
      "cell_type": "markdown",
      "metadata": {
        "id": "PN6TP-ovjZU6",
        "colab_type": "text"
      },
      "source": [
        "**Q15.** Write the Python program to find the minimum window in the given\n",
        "string, which will contains all the characters of another given\n",
        "strings?\n",
        "\n",
        "Example 1\n",
        "\n",
        "Input : string1 = \" PRWSOERIUSFK \"\n",
        "string2 = \" OSU \"\n",
        "\n",
        "Output:  Minimum window is \"SOERIU\"\n"
      ]
    },
    {
      "cell_type": "code",
      "metadata": {
        "id": "03QsqQPNHa6i",
        "colab_type": "code",
        "colab": {}
      },
      "source": [
        "def minwindow(s1,s2):\n",
        "  c=256\n",
        "  c1=[0]*c\n",
        "  c2=[0]*c\n",
        "  count=0\n",
        "  l1=len(s1)\n",
        "  l2=len(s2)\n",
        "  start,start_index,m=0,-1,2147483647\n",
        "  for i in range(0,l2):\n",
        "    x=ord(s2[i])\n",
        "    c2[x]=c2[x]+1\n",
        "  for j in range(0,l1):\n",
        "    y=ord(s1[j])\n",
        "    c1[y]=c1[y]+1\n",
        "    if((c2[y]!=0) and (c1[y]<= c2[y])):\n",
        "      count=count+1\n",
        "    if(count==l2):\n",
        "      while((c1[ord(s1[start])] > c2[ord(s1[start])]) or (c2[ord(s1[start])]==0)):\n",
        "        if(c1[ord(s1[start])]> c2[ord(s1[start])]):\n",
        "          c1[ord(s1[start])]-=1\n",
        "        start=start+1\n",
        "      wl=j - start + 1\n",
        "      if(m>wl):\n",
        "        m=wl  \n",
        "        start_index = start  \n",
        "\n",
        "  return (s1[start_index : start_index + m]) "
      ],
      "execution_count": 0,
      "outputs": []
    },
    {
      "cell_type": "code",
      "metadata": {
        "id": "Jd0P5IHumtLI",
        "colab_type": "code",
        "outputId": "6ef61ebd-129e-421c-c26b-d9e1fe219b4b",
        "colab": {
          "base_uri": "https://localhost:8080/",
          "height": 35
        }
      },
      "source": [
        "s1 = \"ADOBECODEBANC\" \n",
        "s2 = \"ABC\"\n",
        "minwindow(s1,s2)"
      ],
      "execution_count": 0,
      "outputs": [
        {
          "output_type": "execute_result",
          "data": {
            "text/plain": [
              "'BANC'"
            ]
          },
          "metadata": {
            "tags": []
          },
          "execution_count": 33
        }
      ]
    },
    {
      "cell_type": "code",
      "metadata": {
        "id": "nVwYiffKvBXV",
        "colab_type": "code",
        "outputId": "9e2bf6c3-edc8-40ff-f07c-11f56edb1cac",
        "colab": {
          "base_uri": "https://localhost:8080/",
          "height": 35
        }
      },
      "source": [
        "s1= 'PRWSOERIUSFK'\n",
        "s2= 'OSU'\n",
        "minwindow(s1,s2)"
      ],
      "execution_count": 0,
      "outputs": [
        {
          "output_type": "execute_result",
          "data": {
            "text/plain": [
              "'SOERIU'"
            ]
          },
          "metadata": {
            "tags": []
          },
          "execution_count": 34
        }
      ]
    },
    {
      "cell_type": "markdown",
      "metadata": {
        "id": "ndaB6fG6peaa",
        "colab_type": "text"
      },
      "source": [
        "**Q16.** Write the Python program to find smallest window that contains all characters of the given string?\n",
        "\n",
        "Original Strings: asdaewsqgtwwsa\n",
        "\n",
        "Smallest window that contains all characters of the said string: daewsqgt"
      ]
    },
    {
      "cell_type": "code",
      "metadata": {
        "id": "CANUYsSp15VD",
        "colab_type": "code",
        "outputId": "414d8e3c-e758-44c5-d4c2-3ddb0172e03f",
        "colab": {
          "base_uri": "https://localhost:8080/",
          "height": 35
        }
      },
      "source": [
        "s1='asdaewsqgtwwsa'\n",
        "uniq=[]\n",
        "for i in s1:\n",
        "  if i not in uniq:\n",
        "    uniq.append(i)\n",
        "s2=(''.join(uniq))\n",
        "#call the above function minwindow(s1,s2)\n",
        "minwindow(s1,s2)"
      ],
      "execution_count": 0,
      "outputs": [
        {
          "output_type": "execute_result",
          "data": {
            "text/plain": [
              "'daewsqgt'"
            ]
          },
          "metadata": {
            "tags": []
          },
          "execution_count": 35
        }
      ]
    },
    {
      "cell_type": "markdown",
      "metadata": {
        "id": "A5dIl95i41kQ",
        "colab_type": "text"
      },
      "source": [
        "**Q17.** Write the Python program to count number of substrings from a\n",
        "given string of lowercase alphabets with exactly k distinct (given)\n",
        "characters?\n",
        "\n",
        "Input a string (lowercase alphabets): wolf\n",
        "\n",
        "Input k: 4\n",
        "\n",
        "Number of substrings with exactly 4 distinct characters: 1"
      ]
    },
    {
      "cell_type": "code",
      "metadata": {
        "id": "veZfQpyd3Zle",
        "colab_type": "code",
        "colab": {}
      },
      "source": [
        "def count_dist(s,k):  \n",
        "  count=0\n",
        "  char=[0] * 27\n",
        "  for i in range(len(s)):\n",
        "    dchar=0\n",
        "    char=[0] * 27\n",
        "    for j in range(i, len(s)):\n",
        "      if(char[ord(s[j])-97]==0):\n",
        "        dchar+=1\n",
        "    char[ord(s[j])-97]+=1\n",
        "    if(dchar==k):\n",
        "      count+=1\n",
        "    if(dchar>k):\n",
        "      break\n",
        "  return count"
      ],
      "execution_count": 0,
      "outputs": []
    },
    {
      "cell_type": "code",
      "metadata": {
        "id": "2G3Pu_773fWE",
        "colab_type": "code",
        "outputId": "fbcb2fe3-c1ff-4c96-9533-7d83a5e81dc3",
        "colab": {
          "base_uri": "https://localhost:8080/",
          "height": 35
        }
      },
      "source": [
        "s='wolf'\n",
        "count_dist(s,4)"
      ],
      "execution_count": 59,
      "outputs": [
        {
          "output_type": "execute_result",
          "data": {
            "text/plain": [
              "1"
            ]
          },
          "metadata": {
            "tags": []
          },
          "execution_count": 59
        }
      ]
    },
    {
      "cell_type": "markdown",
      "metadata": {
        "id": "ik9rs4uDpk8A",
        "colab_type": "text"
      },
      "source": [
        "**Q18.** Write the Python program to count number of non-empty substrings\n",
        "of the given string?\n",
        "\n",
        "Input a string: w3resource\n",
        "\n",
        "Number of substrings:\n",
        "55"
      ]
    },
    {
      "cell_type": "code",
      "metadata": {
        "id": "7WdMWV1Hjig2",
        "colab_type": "code",
        "colab": {}
      },
      "source": [
        "def non_empty(x):\n",
        "  l=[]\n",
        "  for i in range(len(x)): \n",
        "    for j in range(i+1,len(x)+1): \n",
        "      l.append(x[i:j])\n",
        "  return len(l)"
      ],
      "execution_count": 0,
      "outputs": []
    },
    {
      "cell_type": "code",
      "metadata": {
        "id": "JKLuIDSMqlL4",
        "colab_type": "code",
        "outputId": "2cd43b09-5f90-4411-a9ec-10a7ac10bfd9",
        "colab": {
          "base_uri": "https://localhost:8080/",
          "height": 35
        }
      },
      "source": [
        "non_empty('w3resource')"
      ],
      "execution_count": 0,
      "outputs": [
        {
          "output_type": "execute_result",
          "data": {
            "text/plain": [
              "55"
            ]
          },
          "metadata": {
            "tags": []
          },
          "execution_count": 40
        }
      ]
    },
    {
      "cell_type": "code",
      "metadata": {
        "id": "pq3rkqxU7bpG",
        "colab_type": "code",
        "outputId": "f306043c-a67f-48b8-e378-9bc406c75821",
        "colab": {
          "base_uri": "https://localhost:8080/",
          "height": 35
        }
      },
      "source": [
        "non_empty('abcab')"
      ],
      "execution_count": 0,
      "outputs": [
        {
          "output_type": "execute_result",
          "data": {
            "text/plain": [
              "15"
            ]
          },
          "metadata": {
            "tags": []
          },
          "execution_count": 41
        }
      ]
    },
    {
      "cell_type": "markdown",
      "metadata": {
        "id": "W2nnkGyOviir",
        "colab_type": "text"
      },
      "source": [
        "**Q19.** Write the Python program to count number of substrings with same first and last characters of the given string?\n",
        "\n",
        "Input a string: abcd\n",
        "\n",
        "4"
      ]
    },
    {
      "cell_type": "code",
      "metadata": {
        "id": "UW52-84E7rpg",
        "colab_type": "code",
        "colab": {}
      },
      "source": [
        "def countsub(x):\n",
        "  l=[]\n",
        "  count=0\n",
        "  for i in range(len(x)): \n",
        "    for j in range(i+1,len(x)+1): \n",
        "      l.append(x[i:j])\n",
        "  for i in range(len(l)):\n",
        "      if (l[i][0]==l[i][-1]):\n",
        "        count=count+1\n",
        "  return count"
      ],
      "execution_count": 0,
      "outputs": []
    },
    {
      "cell_type": "code",
      "metadata": {
        "id": "BGti_7M17x9Q",
        "colab_type": "code",
        "outputId": "ee6e1d7c-dc17-46b8-9f52-aaaf26821a14",
        "colab": {
          "base_uri": "https://localhost:8080/",
          "height": 35
        }
      },
      "source": [
        "countsub('abcd')"
      ],
      "execution_count": 0,
      "outputs": [
        {
          "output_type": "execute_result",
          "data": {
            "text/plain": [
              "4"
            ]
          },
          "metadata": {
            "tags": []
          },
          "execution_count": 43
        }
      ]
    },
    {
      "cell_type": "markdown",
      "metadata": {
        "id": "OcOUhMkN0aq_",
        "colab_type": "text"
      },
      "source": [
        "**Q20.** Write the Python program to count the number of strings where the string length is 2 or more, and first and last character are same from a given list of strings.\n",
        "\n",
        "Sample List : ['abc', 'xyz', 'wxw', '1331']\n",
        "\n",
        "Expected Result: 2"
      ]
    },
    {
      "cell_type": "code",
      "metadata": {
        "id": "gprf-03c0tqF",
        "colab_type": "code",
        "colab": {}
      },
      "source": [
        "def count_fl(l):\n",
        "  count=0\n",
        "  for i in range(len(l)):\n",
        "    if (l[i][0]==l[i][-1]):\n",
        "      count=count+1\n",
        "  return count"
      ],
      "execution_count": 0,
      "outputs": []
    },
    {
      "cell_type": "code",
      "metadata": {
        "id": "C60sZ3sT2VlK",
        "colab_type": "code",
        "outputId": "4881abf3-da8e-406c-a05e-d9b131c90053",
        "colab": {
          "base_uri": "https://localhost:8080/",
          "height": 35
        }
      },
      "source": [
        "count_fl(['abc', 'xyz', 'wxw', '1331'])"
      ],
      "execution_count": 0,
      "outputs": [
        {
          "output_type": "execute_result",
          "data": {
            "text/plain": [
              "2"
            ]
          },
          "metadata": {
            "tags": []
          },
          "execution_count": 45
        }
      ]
    },
    {
      "cell_type": "markdown",
      "metadata": {
        "id": "OB2yLqac6D_2",
        "colab_type": "text"
      },
      "source": [
        "**Q21.** Write the Python program to get a list, sorted in increasing order by\n",
        "the last element in each tuple from the given list of non-empty\n",
        "tuples?\n",
        "\n",
        "Sample List - [ (2, 5), (1, 2), (4, 4), (2, 3), (2, 1) ]\n",
        "\n",
        "Expected Result - [ (2, 1), (1, 2), (2, 3), (4, 4), (2, 5) ]"
      ]
    },
    {
      "cell_type": "code",
      "metadata": {
        "id": "mK5z7Lwo1vv0",
        "colab_type": "code",
        "colab": {}
      },
      "source": [
        "def res(l):\n",
        "  ans=sorted(l,key=lambda i:i[-1])\n",
        "  return ans"
      ],
      "execution_count": 0,
      "outputs": []
    },
    {
      "cell_type": "code",
      "metadata": {
        "id": "kyKw7bgI3OcN",
        "colab_type": "code",
        "outputId": "200fa521-8694-44cf-bb61-6220eb86632a",
        "colab": {
          "base_uri": "https://localhost:8080/",
          "height": 35
        }
      },
      "source": [
        "l=[ (2, 5), (1, 2), (4, 4), (2, 3), (2, 1) ]\n",
        "res(l)"
      ],
      "execution_count": 0,
      "outputs": [
        {
          "output_type": "execute_result",
          "data": {
            "text/plain": [
              "[(2, 1), (1, 2), (2, 3), (4, 4), (2, 5)]"
            ]
          },
          "metadata": {
            "tags": []
          },
          "execution_count": 47
        }
      ]
    },
    {
      "cell_type": "markdown",
      "metadata": {
        "id": "M8Bly3mCYjUD",
        "colab_type": "text"
      },
      "source": [
        "**Q22.** Write the Python program to remove duplicates from a list?"
      ]
    },
    {
      "cell_type": "code",
      "metadata": {
        "id": "Ru1nPnUnYldo",
        "colab_type": "code",
        "colab": {}
      },
      "source": [
        "def rem_dupli(l):\n",
        "  result=[]\n",
        "  [result.append(i) for i in l if i not in result]\n",
        "  return result\n"
      ],
      "execution_count": 0,
      "outputs": []
    },
    {
      "cell_type": "code",
      "metadata": {
        "id": "vghP-pG3ZbNI",
        "colab_type": "code",
        "outputId": "21001fe0-d1bf-43e3-e49b-95c4a2400895",
        "colab": {
          "base_uri": "https://localhost:8080/",
          "height": 35
        }
      },
      "source": [
        "l=[10,9,9,4,4,4,2,1,1]\n",
        "rem_dupli(l)"
      ],
      "execution_count": 0,
      "outputs": [
        {
          "output_type": "execute_result",
          "data": {
            "text/plain": [
              "[10, 9, 4, 2, 1]"
            ]
          },
          "metadata": {
            "tags": []
          },
          "execution_count": 49
        }
      ]
    },
    {
      "cell_type": "code",
      "metadata": {
        "id": "UJorjwWCaUs0",
        "colab_type": "code",
        "outputId": "8805eb05-86c2-432c-b849-38ccb20bbe72",
        "colab": {
          "base_uri": "https://localhost:8080/",
          "height": 35
        }
      },
      "source": [
        "l=['cat','dog','tiger','cat','dog']\n",
        "rem_dupli(l)"
      ],
      "execution_count": 0,
      "outputs": [
        {
          "output_type": "execute_result",
          "data": {
            "text/plain": [
              "['cat', 'dog', 'tiger']"
            ]
          },
          "metadata": {
            "tags": []
          },
          "execution_count": 50
        }
      ]
    },
    {
      "cell_type": "markdown",
      "metadata": {
        "id": "H9TaIKKXanFs",
        "colab_type": "text"
      },
      "source": [
        "**Q23.** Write the Python program to find the list of words that are longer\n",
        "than n from a given list of words?"
      ]
    },
    {
      "cell_type": "code",
      "metadata": {
        "id": "2klQxq_UbNDD",
        "colab_type": "code",
        "colab": {}
      },
      "source": [
        "def longer_n(w,n):\n",
        "  ans=[]\n",
        "  [ans.append(i) for i in w if(len(i)>n)]\n",
        "  return ans"
      ],
      "execution_count": 0,
      "outputs": []
    },
    {
      "cell_type": "code",
      "metadata": {
        "id": "x011E1DYcbdA",
        "colab_type": "code",
        "outputId": "48869b99-5a3e-4e56-fc85-e51a23e5e770",
        "colab": {
          "base_uri": "https://localhost:8080/",
          "height": 35
        }
      },
      "source": [
        "w=['cat','tiger','elephant','ox']\n",
        "longer_n(w,3)"
      ],
      "execution_count": 0,
      "outputs": [
        {
          "output_type": "execute_result",
          "data": {
            "text/plain": [
              "['tiger', 'elephant']"
            ]
          },
          "metadata": {
            "tags": []
          },
          "execution_count": 52
        }
      ]
    },
    {
      "cell_type": "markdown",
      "metadata": {
        "id": "5R10dlQ7jIow",
        "colab_type": "text"
      },
      "source": [
        "**Q24.** Write the Python program to print a specified list after removing the\n",
        "0th, 4th, and 5th elements?\n",
        "\n",
        "Sample List - ['Red', 'Green', 'White', 'Black', 'Pink', 'Yellow']\n",
        "\n",
        "Expected Output - ['Green', 'White', 'Black']"
      ]
    },
    {
      "cell_type": "code",
      "metadata": {
        "id": "q57DM1pPjOB-",
        "colab_type": "code",
        "colab": {}
      },
      "source": [
        "def rem(l):\n",
        "  out=[]\n",
        "  [out.append(l[i]) for i in range(len(l)) if i not in (0,4,5)]\n",
        "  return out\n"
      ],
      "execution_count": 0,
      "outputs": []
    },
    {
      "cell_type": "code",
      "metadata": {
        "id": "NqeAkZ1Frja6",
        "colab_type": "code",
        "outputId": "e68d660b-af42-4ec9-cb5f-53aa950f690a",
        "colab": {
          "base_uri": "https://localhost:8080/",
          "height": 35
        }
      },
      "source": [
        "l=['Red', 'Green', 'White', 'Black', 'Pink', 'Yellow']\n",
        "rem(l)"
      ],
      "execution_count": 0,
      "outputs": [
        {
          "output_type": "execute_result",
          "data": {
            "text/plain": [
              "['Green', 'White', 'Black']"
            ]
          },
          "metadata": {
            "tags": []
          },
          "execution_count": 54
        }
      ]
    },
    {
      "cell_type": "markdown",
      "metadata": {
        "id": "IxRk6Akirinx",
        "colab_type": "text"
      },
      "source": [
        "**Q25.** Write the Python program to generate all permutations of a list in\n",
        "Python?"
      ]
    },
    {
      "cell_type": "code",
      "metadata": {
        "id": "q4U6UswOYMWL",
        "colab_type": "code",
        "colab": {}
      },
      "source": [
        "def perm(n,i):\n",
        "  if (len(n) - 1==i):\n",
        "    print (n)\n",
        "  else:\n",
        "    for j in range(i, len(n)):\n",
        "      n[i], n[j] = n[j], n[i]\n",
        "      perm(n,i+1)\n",
        "      n[i], n[j] = n[j], n[i] # swap back, for the next loop"
      ],
      "execution_count": 0,
      "outputs": []
    },
    {
      "cell_type": "code",
      "metadata": {
        "id": "0EjfPUD6mL0O",
        "colab_type": "code",
        "outputId": "070aa95c-c8f5-487e-f0fc-bbc72f701fc4",
        "colab": {
          "base_uri": "https://localhost:8080/",
          "height": 121
        }
      },
      "source": [
        "n=[1,2,3]\n",
        "perm(n,0)"
      ],
      "execution_count": 0,
      "outputs": [
        {
          "output_type": "stream",
          "text": [
            "[1, 2, 3]\n",
            "[1, 3, 2]\n",
            "[2, 1, 3]\n",
            "[2, 3, 1]\n",
            "[3, 2, 1]\n",
            "[3, 1, 2]\n"
          ],
          "name": "stdout"
        }
      ]
    },
    {
      "cell_type": "code",
      "metadata": {
        "id": "Yjlsw2O_02f6",
        "colab_type": "code",
        "outputId": "72dff6d4-4399-4179-8915-ca27f059a1ea",
        "colab": {
          "base_uri": "https://localhost:8080/",
          "height": 121
        }
      },
      "source": [
        "n=['a','b','c']\n",
        "perm(n,0)"
      ],
      "execution_count": 0,
      "outputs": [
        {
          "output_type": "stream",
          "text": [
            "['a', 'b', 'c']\n",
            "['a', 'c', 'b']\n",
            "['b', 'a', 'c']\n",
            "['b', 'c', 'a']\n",
            "['c', 'b', 'a']\n",
            "['c', 'a', 'b']\n"
          ],
          "name": "stdout"
        }
      ]
    },
    {
      "cell_type": "markdown",
      "metadata": {
        "id": "uB7xTe-ZwzzU",
        "colab_type": "text"
      },
      "source": [
        "**Q26.** Write the Python program to convert a pair of values into a sorted\n",
        "unique array?\n",
        "\n",
        " Original List- [ (1, 2), (3, 4), (1, 2), (5, 6), (7, 8), (1, 2), (3, 4), (3, 4), (7, 8), (9, 10) ]\n",
        " \n",
        " Sorted Unique Data- [ 1, 2, 3, 4, 5, 6, 7, 8, 9, 10 ] "
      ]
    },
    {
      "cell_type": "code",
      "metadata": {
        "id": "0d66UDdOK-wB",
        "colab_type": "code",
        "colab": {}
      },
      "source": [
        "def pair(x):\n",
        "  ans=[]\n",
        "  for i in range(len(x)):\n",
        "    for j in range(2):\n",
        "      if x[i][j] not in ans:\n",
        "        ans.append(x[i][j])\n",
        "  return sorted(ans)\n"
      ],
      "execution_count": 0,
      "outputs": []
    },
    {
      "cell_type": "code",
      "metadata": {
        "id": "oRXGGHXTMmPr",
        "colab_type": "code",
        "colab": {}
      },
      "source": [
        "x=[ (1, 2), (3, 4), (1, 2), (5, 6), (7, 8), (1, 2), (3, 4), (3, 4), (7, 8), (9, 10) ]\n",
        "pair(x)"
      ],
      "execution_count": 0,
      "outputs": []
    },
    {
      "cell_type": "markdown",
      "metadata": {
        "id": "jbwfAPVpg_c3",
        "colab_type": "text"
      },
      "source": [
        "**Q27.** Write the Python class to convert an integer to a roman numeral?"
      ]
    },
    {
      "cell_type": "code",
      "metadata": {
        "id": "APGbVkQBwhZW",
        "colab_type": "code",
        "colab": {}
      },
      "source": [
        "def printRoman(number): \n",
        "    num = [1, 4, 5, 9, 10, 40, 50, 90,  \n",
        "           100, 400, 500, 900, 1000] \n",
        "    sym = [\"I\", \"IV\", \"V\", \"IX\", \"X\", \"XL\",  \n",
        "           \"L\", \"XC\", \"C\", \"CD\", \"D\", \"CM\", \"M\"] \n",
        "    i = 12\n",
        "    while number: \n",
        "        div = number // num[i] \n",
        "        number %= num[i] \n",
        "  \n",
        "        while div: \n",
        "            print(sym[i], end = \"\") \n",
        "            div -= 1\n",
        "        i -= 1"
      ],
      "execution_count": 0,
      "outputs": []
    },
    {
      "cell_type": "code",
      "metadata": {
        "id": "M1Vt3Re6wpFM",
        "colab_type": "code",
        "colab": {
          "base_uri": "https://localhost:8080/",
          "height": 35
        },
        "outputId": "b7d7e61f-1993-4767-8c40-293cc904c312"
      },
      "source": [
        "printRoman(4000)"
      ],
      "execution_count": 61,
      "outputs": [
        {
          "output_type": "stream",
          "text": [
            "MMMM"
          ],
          "name": "stdout"
        }
      ]
    },
    {
      "cell_type": "markdown",
      "metadata": {
        "id": "evwF31XShDrP",
        "colab_type": "text"
      },
      "source": [
        "**Q28.** Write the Python class to convert a Roman numeral to an integer?"
      ]
    },
    {
      "cell_type": "code",
      "metadata": {
        "id": "6jL9kQiRw9o8",
        "colab_type": "code",
        "colab": {}
      },
      "source": [
        "def inte(rom): \n",
        "    value = {'M': 1000,'D': 500,'C': 100,'L': 50,'X': 10,'V': 5,'I': 1} \n",
        "    p = 0\n",
        "    ans = 0\n",
        "    n = len(rom)  \n",
        "    for i in range(n-1,-1,-1): \n",
        "        if value[rom[i]] >= p: \n",
        "            ans += value[rom[i]] \n",
        "        else: \n",
        "            ans -= value[rom[i]]\n",
        "        p = value[rom[i]] \n",
        "    print(ans) "
      ],
      "execution_count": 0,
      "outputs": []
    },
    {
      "cell_type": "code",
      "metadata": {
        "id": "Sc8UBjECxUWh",
        "colab_type": "code",
        "colab": {
          "base_uri": "https://localhost:8080/",
          "height": 35
        },
        "outputId": "6e8b7197-b9e2-4b29-b1de-2e52359a4612"
      },
      "source": [
        "inte('MMMM')"
      ],
      "execution_count": 64,
      "outputs": [
        {
          "output_type": "stream",
          "text": [
            "4000\n"
          ],
          "name": "stdout"
        }
      ]
    },
    {
      "cell_type": "markdown",
      "metadata": {
        "id": "jtFqtkEPhHUY",
        "colab_type": "text"
      },
      "source": [
        "**Q29.** Write the Python class to find the validity of the string of the\n",
        "parentheses, '(', ')', '{', '}', '[' and '] and the brackets must be closed\n",
        "in the correct order, example - \"()\" and \"()[]{}\" are valid but \"[)\",\n",
        "\"({[)]\" and \"{{{\" are invalid."
      ]
    },
    {
      "cell_type": "code",
      "metadata": {
        "id": "7-iloRGb95GS",
        "colab_type": "code",
        "outputId": "35e36c6f-f3fa-4ad5-da71-25f0f3108d9b",
        "colab": {
          "base_uri": "https://localhost:8080/",
          "height": 86
        }
      },
      "source": [
        "class solution:\n",
        "   def valid_parenth(self, str1):\n",
        "        k=[]\n",
        "        char ={\"(\": \")\", \"{\": \"}\", \"[\": \"]\"}\n",
        "        for p in str1:\n",
        "            if p in char:\n",
        "                k.append(p)\n",
        "            elif len(k) == 0 or char[k.pop()] != p:\n",
        "                return False\n",
        "        return len(k) == 0\n",
        "z=solution()\n",
        "print(z.valid_parenth(\"()[]\"))\n",
        "print(z.valid_parenth(\"()[)}\"))\n",
        "print(z.valid_parenth(\"()\"))\n",
        "print(z.valid_parenth(\"(}\"))"
      ],
      "execution_count": 0,
      "outputs": [
        {
          "output_type": "stream",
          "text": [
            "True\n",
            "False\n",
            "True\n",
            "False\n"
          ],
          "name": "stdout"
        }
      ]
    },
    {
      "cell_type": "markdown",
      "metadata": {
        "id": "E2O9FrS5x1RQ",
        "colab_type": "text"
      },
      "source": [
        "**Q30.** Write the Python class to get all possible unique subsets from a set\n",
        "of distinct integers?\n",
        "\n",
        "Input - [4, 5, 6]\n",
        "\n",
        "Output - [[], [6], [5], [5, 6], [4], [4, 6], [4, 5], [4, 5, 6]]"
      ]
    },
    {
      "cell_type": "code",
      "metadata": {
        "id": "LWv6WhxfaHpm",
        "colab_type": "code",
        "outputId": "225f6855-7cc5-4f85-8267-1a5f31e99282",
        "colab": {
          "base_uri": "https://localhost:8080/",
          "height": 86
        }
      },
      "source": [
        "class Solution:\n",
        "  def uniq_subset(self,nums):\n",
        "    result=[[]]\n",
        "    for i in nums:\n",
        "      result+=[j+[i] for j in result]\n",
        "    return result\n",
        "\n",
        "nums=[4,5,6]\n",
        "x=Solution()\n",
        "y=x.uniq_subset(nums)\n",
        "print('\\n All possible unique subsets of ' + str(nums)+ ' are \\n','-'*50)\n",
        "print(y)"
      ],
      "execution_count": 0,
      "outputs": [
        {
          "output_type": "stream",
          "text": [
            "\n",
            " All possible unique subsets of [4, 5, 6] are \n",
            " --------------------------------------------------\n",
            "[[], [4], [5], [4, 5], [6], [4, 6], [5, 6], [4, 5, 6]]\n"
          ],
          "name": "stdout"
        }
      ]
    },
    {
      "cell_type": "markdown",
      "metadata": {
        "id": "Gsj9ActbjZv1",
        "colab_type": "text"
      },
      "source": [
        "**Q31.** Write the Python class to find a pair of elements (indices of the two\n",
        "numbers) from a given array whose sum equals the specific target\n",
        "number?\n",
        "\n",
        "Input: numbers- [10,20,10,40,50,60,70], target=50\n",
        "\n",
        "Output- 3, 4"
      ]
    },
    {
      "cell_type": "code",
      "metadata": {
        "id": "tFFdl7K1VqK8",
        "colab_type": "code",
        "outputId": "1d308f0d-f05f-4084-bb01-1fce9874acf2",
        "colab": {
          "base_uri": "https://localhost:8080/",
          "height": 35
        }
      },
      "source": [
        "class solution:\n",
        "  def pairs(self,x,target):\n",
        "    for i in range(0, len(x)-1):\n",
        "      if (x[i] + x[i+1] == target):\n",
        "        return i+1,i+2\n",
        "x= [10,20,10,40,50,60,70]\n",
        "s=solution()\n",
        "s.pairs(x,50)\n",
        "    "
      ],
      "execution_count": 0,
      "outputs": [
        {
          "output_type": "execute_result",
          "data": {
            "text/plain": [
              "(3, 4)"
            ]
          },
          "metadata": {
            "tags": []
          },
          "execution_count": 60
        }
      ]
    },
    {
      "cell_type": "code",
      "metadata": {
        "id": "DhGV88ogy5id",
        "colab_type": "code",
        "outputId": "d8e3d902-9bb9-4661-c0a2-dfaa9f2510ef",
        "colab": {
          "base_uri": "https://localhost:8080/",
          "height": 35
        }
      },
      "source": [
        "s.pairs(x,130)"
      ],
      "execution_count": 0,
      "outputs": [
        {
          "output_type": "execute_result",
          "data": {
            "text/plain": [
              "(6, 7)"
            ]
          },
          "metadata": {
            "tags": []
          },
          "execution_count": 61
        }
      ]
    },
    {
      "cell_type": "markdown",
      "metadata": {
        "id": "pQXPmKBYjcY1",
        "colab_type": "text"
      },
      "source": [
        "**Q32.** Write the Python class to find the three elements that sum to zero\n",
        "from the set of n real numbers?\n",
        "\n",
        "Input array- [-25, -10, -7, -3, 2, 4, 8, 10]\n",
        "\n",
        "Output - [[-10, 2, 8], [-7, -3, 10]]"
      ]
    },
    {
      "cell_type": "code",
      "metadata": {
        "id": "lHv_iSt71Eju",
        "colab_type": "code",
        "colab": {}
      },
      "source": [
        "class elements:\n",
        "  def sumzero(self,x):\n",
        "    a=[]\n",
        "    for i in range(0,len(x)-2):\n",
        "      for j in range(i+1,len(x)-1):\n",
        "        for k in range(j+1,len(x)):\n",
        "          b=[]\n",
        "          if(x[i]+x[j]+x[k]==0):\n",
        "            b.append(x[i])\n",
        "            b.append(x[j])\n",
        "            b.append(x[k])\n",
        "            a.append(b)\n",
        "    return a \n"
      ],
      "execution_count": 0,
      "outputs": []
    },
    {
      "cell_type": "code",
      "metadata": {
        "id": "QyuFgyJC29SU",
        "colab_type": "code",
        "outputId": "8b8f2af4-4341-4129-ad66-a7f6e26d6843",
        "colab": {
          "base_uri": "https://localhost:8080/",
          "height": 35
        }
      },
      "source": [
        "x=[-25, -10, -7, -3, 2, 4, 8, 10]\n",
        "ans=elements()\n",
        "ans.sumzero(x)"
      ],
      "execution_count": 0,
      "outputs": [
        {
          "output_type": "execute_result",
          "data": {
            "text/plain": [
              "[[-10, 2, 8], [-7, -3, 10]]"
            ]
          },
          "metadata": {
            "tags": []
          },
          "execution_count": 63
        }
      ]
    },
    {
      "cell_type": "markdown",
      "metadata": {
        "id": "gDoKKaCtjmfz",
        "colab_type": "text"
      },
      "source": [
        "**Q33.** Write the Python class to implement pow(x, n)?"
      ]
    },
    {
      "cell_type": "code",
      "metadata": {
        "id": "0HFWg_CRhVk9",
        "colab_type": "code",
        "outputId": "999ca183-73ab-4a29-e012-563d91cec7c4",
        "colab": {
          "base_uri": "https://localhost:8080/",
          "height": 69
        }
      },
      "source": [
        "class solution:\n",
        "   def power(self,x,n):\n",
        "     if(n==0):\n",
        "       return 1\n",
        "     if(n<0):\n",
        "        return 1/self.power(x,-n)\n",
        "     val = self.power(x,n//2)\n",
        "     if (n%2 ==0):\n",
        "       return (val*val)\n",
        "     return (val*val*x)\n",
        "y=solution()\n",
        "print(y.power(2,3))\n",
        "print(y.power(2,0))\n",
        "print(y.power(2,-1))"
      ],
      "execution_count": 0,
      "outputs": [
        {
          "output_type": "stream",
          "text": [
            "8\n",
            "1\n",
            "0.5\n"
          ],
          "name": "stdout"
        }
      ]
    },
    {
      "cell_type": "markdown",
      "metadata": {
        "id": "Sv6cfnWKjvtD",
        "colab_type": "text"
      },
      "source": [
        "**Q34.** Write the Python class which has two methods get_String and\n",
        "print_String. get_String accept the string from the user \n",
        "print_String print the string in upper case."
      ]
    },
    {
      "cell_type": "code",
      "metadata": {
        "id": "UAnIim6dfvVL",
        "colab_type": "code",
        "outputId": "e379c684-649f-4518-8f3b-d5b1c222e3ac",
        "colab": {
          "base_uri": "https://localhost:8080/",
          "height": 69
        }
      },
      "source": [
        "class string:\n",
        "  def get_string(self,s):\n",
        "    self.s=s\n",
        "  def print_string(self):\n",
        "    return (s.upper())\n",
        "s=input('Enter String :')\n",
        "x=string()\n",
        "print('\\n Output : ',x.print_string()) "
      ],
      "execution_count": 0,
      "outputs": [
        {
          "output_type": "stream",
          "text": [
            "Enter String :machine learning\n",
            "\n",
            " Output :  MACHINE LEARNING\n"
          ],
          "name": "stdout"
        }
      ]
    },
    {
      "cell_type": "markdown",
      "metadata": {
        "id": "_wtB3HHrjz5B",
        "colab_type": "text"
      },
      "source": [
        "**Q35.** Write the Python class named Rectangle constructed by a length\n",
        "and width and the method which will compute the area of the\n",
        "rectangle?"
      ]
    },
    {
      "cell_type": "code",
      "metadata": {
        "id": "lZ83YUk49v2o",
        "colab_type": "code",
        "outputId": "6401e5e8-ea37-47db-bf78-af7fa41834a5",
        "colab": {
          "base_uri": "https://localhost:8080/",
          "height": 52
        }
      },
      "source": [
        "class Rectangle:\n",
        "  def __init__(self,l,b):\n",
        "    self.l=l\n",
        "    self.b=b\n",
        "  def area(self):\n",
        "    return self.l*self.b\n",
        "rect=Rectangle(12,12)\n",
        "x=rect.area()\n",
        "print('\\n Area of Rectangle = ',x)\n"
      ],
      "execution_count": 0,
      "outputs": [
        {
          "output_type": "stream",
          "text": [
            "\n",
            " Area of Rectangle =  144\n"
          ],
          "name": "stdout"
        }
      ]
    },
    {
      "cell_type": "markdown",
      "metadata": {
        "id": "57PQY3GZj5Nt",
        "colab_type": "text"
      },
      "source": [
        "**Q36.** Write the Python class named Circle constructed by the radius\n",
        "and two methods which will compute the area and perimeter of\n",
        "the circle?"
      ]
    },
    {
      "cell_type": "code",
      "metadata": {
        "id": "5pc3KXMyPNY_",
        "colab_type": "code",
        "outputId": "0c6c1510-846e-4da4-abe4-07e3fe4acd70",
        "colab": {
          "base_uri": "https://localhost:8080/",
          "height": 86
        }
      },
      "source": [
        "class Circle:\n",
        "  def __init__(self,r):\n",
        "    self.r=r\n",
        "  def area(self):\n",
        "    return (self.r*self.r *3.14)\n",
        "  def perimeter(self):\n",
        "    return (2*3.14*self.r)\n",
        "cir=Circle(3)\n",
        "a=cir.area()\n",
        "b=cir.perimeter()\n",
        "print('\\n Area of Circle = ',a)\n",
        "print('\\n Perimeter of Circle = ',b)"
      ],
      "execution_count": 0,
      "outputs": [
        {
          "output_type": "stream",
          "text": [
            "\n",
            " Area of Circle =  28.26\n",
            "\n",
            " Perimeter of Circle =  18.84\n"
          ],
          "name": "stdout"
        }
      ]
    },
    {
      "cell_type": "markdown",
      "metadata": {
        "id": "o4BuQAgvj87U",
        "colab_type": "text"
      },
      "source": [
        "**Q37.** Write the Python program to get the class name of an instance in\n",
        "Python?"
      ]
    },
    {
      "cell_type": "code",
      "metadata": {
        "id": "GKJEzPPjYraw",
        "colab_type": "code",
        "outputId": "6143e9b6-a41d-491f-b7a1-b06453f75180",
        "colab": {
          "base_uri": "https://localhost:8080/",
          "height": 35
        }
      },
      "source": [
        "class first:\n",
        "  def second(self,m):\n",
        "    pass\n",
        "x=first()\n",
        "print(type(x).__name__)"
      ],
      "execution_count": 0,
      "outputs": [
        {
          "output_type": "stream",
          "text": [
            "first\n"
          ],
          "name": "stdout"
        }
      ]
    },
    {
      "cell_type": "markdown",
      "metadata": {
        "id": "EzzQO12KwvKe",
        "colab_type": "text"
      },
      "source": [
        "**Q.38**Write the Python program to count the number of students of\n",
        "individual class?\n",
        "\n",
        "Sample dataclasses = (\n",
        "('V', 1),\n",
        "('VI', 1),\n",
        "('V', 2),\n",
        "('VI', 2),\n",
        "('VI', 3),\n",
        "('VII', 1),\n",
        ")\n",
        "\n",
        "Expected OutputCounter({'VI': 6, 'V': 3, 'VII': 1})"
      ]
    },
    {
      "cell_type": "code",
      "metadata": {
        "id": "RDbyD80f1kEx",
        "colab_type": "code",
        "colab": {}
      },
      "source": [
        "def student(data):\n",
        "  count ={i:0 for i, v in x}\n",
        "  for key, value in x:\n",
        "    count[key] = count[key]+value\n",
        "  return count\n"
      ],
      "execution_count": 0,
      "outputs": []
    },
    {
      "cell_type": "code",
      "metadata": {
        "id": "Xnuwuswg2PMA",
        "colab_type": "code",
        "colab": {}
      },
      "source": [
        "data=( ('V', 1), ('VI', 1), ('V', 2), ('VI', 2), ('VI', 3), ('VII', 1), )\n",
        "student(data)"
      ],
      "execution_count": 0,
      "outputs": []
    },
    {
      "cell_type": "markdown",
      "metadata": {
        "id": "6hvMuTdt2ake",
        "colab_type": "text"
      },
      "source": [
        "**Q39.** Write the Python program to create an instance of an OrderedDict \n",
        "\n",
        "using the given dictionary and sort dictionary during the\n",
        "creation and print members of the dictionary in reverse order?\n",
        "\n",
        "Expected Output :----\n",
        "\n",
        "Angola 244.\n",
        "\n",
        "Andorra 376.\n",
        "\n",
        "Algeria 213.\n",
        "\n",
        "Afghanistan 93.\n",
        "\n",
        "Albania 355.\n",
        "\n",
        "In reverse order:----\n",
        "\n",
        "Albania 355.\n",
        "\n",
        "Afghanistan 93.\n",
        "\n",
        "Algeria 213.\n",
        "\n",
        "Andorra 376.\n",
        "\n",
        "Angola 244."
      ]
    },
    {
      "cell_type": "code",
      "metadata": {
        "id": "ZxVbuvFRRxtL",
        "colab_type": "code",
        "colab": {}
      },
      "source": [
        "from collections import OrderedDict\n",
        "dict = {'Angola': 244,'Andorra':376,'Algeria':213,'Afghanistan':93,'Albania':355}\n",
        "n=OrderedDict(dict.items())\n",
        "for key in n:\n",
        "    print (key, n[key])\n",
        "\n",
        "print('\\nIn reverse order:-------')\n",
        "for key in reversed(n):\n",
        "    print (key, n[key])\n"
      ],
      "execution_count": 0,
      "outputs": []
    },
    {
      "cell_type": "markdown",
      "metadata": {
        "id": "ARlcw3oD3KbV",
        "colab_type": "text"
      },
      "source": [
        "**Q40.** Write the Python program to compare two unordered lists (not\n",
        "sets)?\n",
        "\n",
        " Expected Output: False"
      ]
    },
    {
      "cell_type": "code",
      "metadata": {
        "id": "RRvMNRUd3BCk",
        "colab_type": "code",
        "colab": {}
      },
      "source": [
        "def compare(l1,l2):\n",
        "  l1=sorted(l1)\n",
        "  l2=sorted(l2)\n",
        "  if(l1==l2):\n",
        "    return True\n",
        "  else:\n",
        "    return False"
      ],
      "execution_count": 0,
      "outputs": []
    },
    {
      "cell_type": "code",
      "metadata": {
        "id": "idTQVCKb4jOQ",
        "colab_type": "code",
        "colab": {}
      },
      "source": [
        "l1=[10,20,30,40]\n",
        "l2=[30,20,40,10]\n",
        "compare(l1,l2)"
      ],
      "execution_count": 0,
      "outputs": []
    },
    {
      "cell_type": "code",
      "metadata": {
        "id": "I__GxONW5Ug3",
        "colab_type": "code",
        "colab": {}
      },
      "source": [
        "l1=['one', 'two', 'three']\n",
        "l2=['one', 'four', 'two']\n",
        "compare(l1,l2)"
      ],
      "execution_count": 0,
      "outputs": []
    },
    {
      "cell_type": "markdown",
      "metadata": {
        "id": "noqUnWHx5oVm",
        "colab_type": "text"
      },
      "source": [
        "**Q41.** Write the Python program to get an array buffer information?\n",
        "\n",
        "Expected Output:\n",
        "\n",
        "Array buffer start address in memory and number of elements.\n",
        "\n",
        "(25855056, 2)"
      ]
    },
    {
      "cell_type": "code",
      "metadata": {
        "id": "mq6jbU6061iJ",
        "colab_type": "code",
        "outputId": "f7d71666-f6c3-4ddb-a947-a0e5f4771090",
        "colab": {
          "base_uri": "https://localhost:8080/",
          "height": 86
        }
      },
      "source": [
        "from array import array\n",
        "a=array('I',[1,2])\n",
        "print('\\nArray buffer start address in memory and number of elements.\\n')\n",
        "a.buffer_info()"
      ],
      "execution_count": 0,
      "outputs": [
        {
          "output_type": "stream",
          "text": [
            "\n",
            "Array buffer start address in memory and number of elements.\n",
            "\n"
          ],
          "name": "stdout"
        },
        {
          "output_type": "execute_result",
          "data": {
            "text/plain": [
              "(139849286412296, 2)"
            ]
          },
          "metadata": {
            "tags": []
          },
          "execution_count": 73
        }
      ]
    },
    {
      "cell_type": "markdown",
      "metadata": {
        "id": "wx7LqqFg8CHa",
        "colab_type": "text"
      },
      "source": [
        "**Q42.** Write the Python program to convert an array to an array of\n",
        "machine values and return the bytes representation?\n",
        "\n",
        "\n",
        "Expected Output : Original array\n",
        "\n",
        "A1: array('i', [1, 2, 3, 4, 5, 6])\n",
        "\n",
        "Array of bytes:\n",
        "b'010000000200000003000000040000000500000006000000'"
      ]
    },
    {
      "cell_type": "code",
      "metadata": {
        "id": "b6zwGPpk8crV",
        "colab_type": "code",
        "outputId": "f15b4e5d-6c19-497b-b544-5b4c1209ea76",
        "colab": {
          "base_uri": "https://localhost:8080/",
          "height": 86
        }
      },
      "source": [
        "import binascii\n",
        "a=array('I',[1,2,3,4,5,6])\n",
        "print('\\nArray of Bytes:\\n')\n",
        "#Return the hexadecimal representation of the binary data.\n",
        "#Every byte of data is converted into the corresponding 2-digit hex representation.\n",
        "as_bytes=a.tobytes()\n",
        "binascii.hexlify(as_bytes)"
      ],
      "execution_count": 0,
      "outputs": [
        {
          "output_type": "stream",
          "text": [
            "\n",
            "Array of Bytes:\n",
            "\n"
          ],
          "name": "stdout"
        },
        {
          "output_type": "execute_result",
          "data": {
            "text/plain": [
              "b'010000000200000003000000040000000500000006000000'"
            ]
          },
          "metadata": {
            "tags": []
          },
          "execution_count": 74
        }
      ]
    },
    {
      "cell_type": "markdown",
      "metadata": {
        "id": "FbY80zWFa3b1",
        "colab_type": "text"
      },
      "source": [
        "**Q43.** Write the Python program to read a string and interpreting the\n",
        "string as an array of machine values?\n",
        "\n",
        "Expected Outputarray1- \n",
        "\n",
        "array('b', [100,97,116,97,115,99,105,101,110,99,101])\n",
        "\n",
        "string: b'datascience\n"
      ]
    },
    {
      "cell_type": "code",
      "metadata": {
        "id": "U5CG8l9sa_xo",
        "colab_type": "code",
        "outputId": "18d1a27b-d4f3-4934-e9d9-30e6d454a605",
        "colab": {
          "base_uri": "https://localhost:8080/",
          "height": 35
        }
      },
      "source": [
        "#ASCII code for lower letter is 97-122\n",
        "#ASCII code for upper letter is 65-90\n",
        "x = array('b', [100,97,116,97,115,99,105,101,110,99,101])\n",
        "\n",
        "s = x.tobytes()\n",
        "print(s)"
      ],
      "execution_count": 0,
      "outputs": [
        {
          "output_type": "stream",
          "text": [
            "b'datascience'\n"
          ],
          "name": "stdout"
        }
      ]
    },
    {
      "cell_type": "markdown",
      "metadata": {
        "id": "pD2cT3oBbWqu",
        "colab_type": "text"
      },
      "source": [
        "**Q44.**Write the Python program to push three items into the heap and\n",
        "return the smallest item from the heap. Also, return and pop the\n",
        "smallest item from the heap?"
      ]
    },
    {
      "cell_type": "code",
      "metadata": {
        "id": "FegJwxgbbbdp",
        "colab_type": "code",
        "outputId": "af28cab4-5209-4aff-a03a-df3d0fd5a670",
        "colab": {
          "base_uri": "https://localhost:8080/",
          "height": 276
        }
      },
      "source": [
        "import heapq\n",
        "heap = []\n",
        "heapq.heappush(heap, ('V', 3))\n",
        "heapq.heappush(heap, ('V', 2))\n",
        "heapq.heappush(heap, ('V', 1))\n",
        "print('\\n Items present in the heap\\n','-'*30)\n",
        "for a in heap:\n",
        "\tprint(a)\n",
        "print('\\nThe smallest item in the heap \\n','-'*30)\n",
        "print(heap[0])\n",
        "print('\\nAfter Poping the smallest item in the heap \\n','-'*50)\n",
        "heapq.heappop(heap)\n",
        "for a in heap:\n",
        "\tprint(a)"
      ],
      "execution_count": 0,
      "outputs": [
        {
          "output_type": "stream",
          "text": [
            "\n",
            " Items present in the heap\n",
            " ------------------------------\n",
            "('V', 1)\n",
            "('V', 3)\n",
            "('V', 2)\n",
            "\n",
            "The smallest item in the heap \n",
            " ------------------------------\n",
            "('V', 1)\n",
            "\n",
            "After Poping the smallest item in the heap \n",
            " --------------------------------------------------\n",
            "('V', 2)\n",
            "('V', 3)\n"
          ],
          "name": "stdout"
        }
      ]
    },
    {
      "cell_type": "markdown",
      "metadata": {
        "id": "Erl2-UyXbPPB",
        "colab_type": "text"
      },
      "source": [
        "**Q45.** Write the Python program to locate the left insertion point for a\n",
        "specified value in sorted order?"
      ]
    },
    {
      "cell_type": "code",
      "metadata": {
        "id": "V68rahSAvEfk",
        "colab_type": "code",
        "outputId": "b319aeae-446f-4e16-a760-3afe66bf8d09",
        "colab": {
          "base_uri": "https://localhost:8080/",
          "height": 52
        }
      },
      "source": [
        "import bisect\n",
        "def left(a, x):\n",
        "    i = bisect.bisect_left(a, x)\n",
        "    return i\n",
        "    \n",
        "a = [1,2,14,5,10,7,23]\n",
        "print(left(a, 4))\n",
        "print(left(a, 11))"
      ],
      "execution_count": 0,
      "outputs": [
        {
          "output_type": "stream",
          "text": [
            "2\n",
            "6\n"
          ],
          "name": "stdout"
        }
      ]
    },
    {
      "cell_type": "markdown",
      "metadata": {
        "id": "RLLSUv9cbDwX",
        "colab_type": "text"
      },
      "source": [
        "**Q46.** Write the Python program to create the FIFO queue?"
      ]
    },
    {
      "cell_type": "code",
      "metadata": {
        "id": "ZIcoWIAccYVC",
        "colab_type": "code",
        "outputId": "3f3d3c94-52dc-4f62-f57f-a4250dc6845d",
        "colab": {
          "base_uri": "https://localhost:8080/",
          "height": 86
        }
      },
      "source": [
        "import queue\n",
        "q1 = queue.Queue()\n",
        "\n",
        "for i in range(4):\n",
        "    q1.put(i) # this will additem from 0 to 20 to the queue\n",
        "\n",
        "while not q1.empty():\n",
        "  print(\"The value is \", q1.get()) # get() will remove the item from the queue."
      ],
      "execution_count": 0,
      "outputs": [
        {
          "output_type": "stream",
          "text": [
            "The value is  0\n",
            "The value is  1\n",
            "The value is  2\n",
            "The value is  3\n"
          ],
          "name": "stdout"
        }
      ]
    },
    {
      "cell_type": "markdown",
      "metadata": {
        "id": "ORrpRNKDayZA",
        "colab_type": "text"
      },
      "source": [
        "**Q47.** Write the Python program to calculate the harmonic sum of n-1.\n",
        " Note: The harmonic sum is the sum of reciprocals of the positive\n",
        "Integers?"
      ]
    },
    {
      "cell_type": "code",
      "metadata": {
        "id": "xZ-TcNppZADd",
        "colab_type": "code",
        "colab": {}
      },
      "source": [
        "def harmonic_sum(n):\n",
        "  total = 0\n",
        "  for i in range(1, n+1):\n",
        "    total = total + 1/i\n",
        "  return round(total,3)"
      ],
      "execution_count": 0,
      "outputs": []
    },
    {
      "cell_type": "code",
      "metadata": {
        "id": "nHcr6YggaTi3",
        "colab_type": "code",
        "outputId": "a1ad99f3-15b6-418e-fc41-0c83d327ed0a",
        "colab": {
          "base_uri": "https://localhost:8080/",
          "height": 35
        }
      },
      "source": [
        "harmonic_sum(2)"
      ],
      "execution_count": 0,
      "outputs": [
        {
          "output_type": "execute_result",
          "data": {
            "text/plain": [
              "1.5"
            ]
          },
          "metadata": {
            "tags": []
          },
          "execution_count": 80
        }
      ]
    },
    {
      "cell_type": "code",
      "metadata": {
        "id": "GN4Bb_3wav6v",
        "colab_type": "code",
        "outputId": "8eff7cc1-e6b5-4bc4-f104-348b7f0e4bab",
        "colab": {
          "base_uri": "https://localhost:8080/",
          "height": 35
        }
      },
      "source": [
        "harmonic_sum(5)"
      ],
      "execution_count": 0,
      "outputs": [
        {
          "output_type": "execute_result",
          "data": {
            "text/plain": [
              "2.283"
            ]
          },
          "metadata": {
            "tags": []
          },
          "execution_count": 81
        }
      ]
    },
    {
      "cell_type": "markdown",
      "metadata": {
        "id": "GMHbOOT78Mjb",
        "colab_type": "text"
      },
      "source": [
        "**Q48.** Write the NumPy program to create a 2d array with 6 on the border\n",
        "and 0 inside?\n",
        "\n",
        "Expected OutputOriginal array-\n",
        "\n",
        "[ [6 6 6 6 6]\n",
        "\n",
        " [ 6 6 6 6 6]\n",
        "\n",
        " [ 6 6 6 6 6 ]\n",
        "\n",
        "[ 6 6 6 6 6 ]\n",
        "\n",
        "[ 6 6 6 6 ] ].\n",
        "\n",
        "6 on the border and 0 inside in the array-\n",
        "\n",
        "[[ 6 6 6 6 6]\n",
        "\n",
        "[ 6 0 0 0 6]\n",
        "\n",
        "[ 6 0 0 0 6]\n",
        "\n",
        "[ 6 0 0 0 6]\n",
        "\n",
        "[ 6 6 6 6 6]]."
      ]
    },
    {
      "cell_type": "code",
      "metadata": {
        "id": "VbS-4bRA8ZGh",
        "colab_type": "code",
        "outputId": "f74fd38e-7de8-4802-a7cf-9a6b657e6f07",
        "colab": {
          "base_uri": "https://localhost:8080/",
          "height": 259
        }
      },
      "source": [
        "a=np.full((5,5),6)\n",
        "print('\\n Original Array : \\n',a)\n",
        "a[1:4,1:4]=0\n",
        "print('\\nOutput Array-\\n',a)"
      ],
      "execution_count": 0,
      "outputs": [
        {
          "output_type": "stream",
          "text": [
            "\n",
            " Original Array : \n",
            " [[6 6 6 6 6]\n",
            " [6 6 6 6 6]\n",
            " [6 6 6 6 6]\n",
            " [6 6 6 6 6]\n",
            " [6 6 6 6 6]]\n",
            "\n",
            "Output Array-\n",
            " [[6 6 6 6 6]\n",
            " [6 0 0 0 6]\n",
            " [6 0 0 0 6]\n",
            " [6 0 0 0 6]\n",
            " [6 6 6 6 6]]\n"
          ],
          "name": "stdout"
        }
      ]
    },
    {
      "cell_type": "markdown",
      "metadata": {
        "id": "faK08e_4-rve",
        "colab_type": "text"
      },
      "source": [
        "**Q49.** Write the NumPy program to create a 8x8 matrix and fill it with the\n",
        "checkerboard pattern?\n",
        "\n",
        "Checkerboard pattern-\n",
        "\n",
        "[[3 9 3 9 3 9 3 9]\n",
        "\n",
        "[9 3 9 3 9 3 9 3]\n",
        "\n",
        "[3 9 3 9 3 9 3 9]\n",
        "\n",
        "[9 3 9 3 9 3 9 3]\n",
        "\n",
        "[3 9 3 9 3 9 3 9]\n",
        "\n",
        "[9 3 9 3 9 3 9 3]\n",
        "\n",
        "[3 9 3 9 3 9 3 9]\n",
        "\n",
        "[9 3 9 3 9 3 9 3]]."
      ]
    },
    {
      "cell_type": "code",
      "metadata": {
        "id": "RdMfcOij-yxF",
        "colab_type": "code",
        "outputId": "3c695db5-bc96-41f5-b768-5e244033efe1",
        "colab": {
          "base_uri": "https://localhost:8080/",
          "height": 190
        }
      },
      "source": [
        "b=np.full((8,8),3)\n",
        "b[1::2,0::2]=9\n",
        "b[0::2,1::2]=9\n",
        "print('\\n Checkboard Pattern\\n',b)"
      ],
      "execution_count": 0,
      "outputs": [
        {
          "output_type": "stream",
          "text": [
            "\n",
            " Checkboard Pattern\n",
            " [[3 9 3 9 3 9 3 9]\n",
            " [9 3 9 3 9 3 9 3]\n",
            " [3 9 3 9 3 9 3 9]\n",
            " [9 3 9 3 9 3 9 3]\n",
            " [3 9 3 9 3 9 3 9]\n",
            " [9 3 9 3 9 3 9 3]\n",
            " [3 9 3 9 3 9 3 9]\n",
            " [9 3 9 3 9 3 9 3]]\n"
          ],
          "name": "stdout"
        }
      ]
    },
    {
      "cell_type": "markdown",
      "metadata": {
        "id": "jpPIQBaIEaxa",
        "colab_type": "text"
      },
      "source": [
        "**Q50.**Write the NumPy program to create an empty and a full array."
      ]
    },
    {
      "cell_type": "code",
      "metadata": {
        "id": "NyJjhw6AEnZv",
        "colab_type": "code",
        "outputId": "5ca8dd47-2b98-4ec1-ff77-2f383dce703e",
        "colab": {
          "base_uri": "https://localhost:8080/",
          "height": 207
        }
      },
      "source": [
        "c=np.empty((4,3))\n",
        "print('\\n Empty Array\\n',c)\n",
        "d=np.full((3,3),6)\n",
        "print('\\n Full Array\\n',d)\n"
      ],
      "execution_count": 0,
      "outputs": [
        {
          "output_type": "stream",
          "text": [
            "\n",
            " Empty Array\n",
            " [[2.36949931e-316 0.00000000e+000 4.11556683e-321]\n",
            " [2.70258375e-316 6.90948004e-310 6.90948004e-310]\n",
            " [6.90948004e-310 6.90948004e-310 0.00000000e+000]\n",
            " [4.94065646e-324 6.36598737e-314 6.39708861e-308]]\n",
            "\n",
            " Full Array\n",
            " [[6 6 6]\n",
            " [6 6 6]\n",
            " [6 6 6]]\n"
          ],
          "name": "stdout"
        }
      ]
    },
    {
      "cell_type": "markdown",
      "metadata": {
        "id": "-1-Ar6rJF5nF",
        "colab_type": "text"
      },
      "source": [
        "**Q51.** Write the NumPy program to convert the values of Centigrade\n",
        "degrees into the Fahrenheit degrees and the centigrade values are\n",
        "stored in the NumPy array.\n",
        "\n",
        "Sample Array -\n",
        "[0, 12, 45.21 ,34, 99.91]\n",
        "\n",
        "Expected Output :\n",
        "\n",
        "Values in Fahrenheit degrees-\n",
        "[ 0. 12. 45.21 34. 99.91]\n",
        "\n",
        "Values in Centigrade degrees-\n",
        "[-17.77777778 -11.11111111 7.33888889 1.11111111 37.72777778]"
      ]
    },
    {
      "cell_type": "code",
      "metadata": {
        "id": "yTQ7y5lhGFmh",
        "colab_type": "code",
        "colab": {}
      },
      "source": [
        "def conversion(values):\n",
        "  F=np.array(values)\n",
        "  print('\\n Values in Fahrenheit degrees\\n',F)\n",
        "  C=5*((F-32)/9)\n",
        "  print('\\n Values in Centigrade degrees\\n',C)"
      ],
      "execution_count": 0,
      "outputs": []
    },
    {
      "cell_type": "code",
      "metadata": {
        "id": "932G5uPDJbYr",
        "colab_type": "code",
        "outputId": "ef7456bb-d628-434c-fe43-97c505982ad4",
        "colab": {
          "base_uri": "https://localhost:8080/",
          "height": 121
        }
      },
      "source": [
        "conversion([0, 12, 45.21 ,34, 99.91])"
      ],
      "execution_count": 0,
      "outputs": [
        {
          "output_type": "stream",
          "text": [
            "\n",
            " Values in Fahrenheit degrees\n",
            " [ 0.   12.   45.21 34.   99.91]\n",
            "\n",
            " Values in Centigrade degrees\n",
            " [-17.77777778 -11.11111111   7.33888889   1.11111111  37.72777778]\n"
          ],
          "name": "stdout"
        }
      ]
    },
    {
      "cell_type": "markdown",
      "metadata": {
        "id": "1NLC7wD5JkCo",
        "colab_type": "text"
      },
      "source": [
        "**Q52.** Write the NumPy program to find the real and imaginary parts of an\n",
        "array of complex numbers?\n",
        "\n",
        "Expected Output\n",
        "\n",
        "Original array [ 1.00000000+0.j 0.70710678+0.70710678j]\n",
        "\n",
        "Real part of the array-\n",
        "[ 1. 0.70710678]\n",
        "\n",
        "Imaginary part of the array-\n",
        "[ 0. 0.70710678]"
      ]
    },
    {
      "cell_type": "code",
      "metadata": {
        "id": "PWiBtscrJuWJ",
        "colab_type": "code",
        "colab": {}
      },
      "source": [
        "def reim(a):\n",
        "  a=np.array(a)\n",
        "  real=np.real(a)\n",
        "  print('\\n Original array -',a)\n",
        "  print('\\n Real part of the array -',real)\n",
        "  im=np.imag(a)\n",
        "  print('\\n Imaginary part of the array - ',im)"
      ],
      "execution_count": 0,
      "outputs": []
    },
    {
      "cell_type": "code",
      "metadata": {
        "id": "XFXN18Y8Oxy8",
        "colab_type": "code",
        "outputId": "ce41fa70-7b45-4584-89e3-9ddc2c3d059a",
        "colab": {
          "base_uri": "https://localhost:8080/",
          "height": 121
        }
      },
      "source": [
        "a=[ 1+0.j , 0.70710678+0.70710678j]\n",
        "reim(a)"
      ],
      "execution_count": 0,
      "outputs": [
        {
          "output_type": "stream",
          "text": [
            "\n",
            " Original array - [1.        +0.j         0.70710678+0.70710678j]\n",
            "\n",
            " Real part of the array - [1.         0.70710678]\n",
            "\n",
            " Imaginary part of the array -  [0.         0.70710678]\n"
          ],
          "name": "stdout"
        }
      ]
    },
    {
      "cell_type": "markdown",
      "metadata": {
        "id": "14KwQeCCPDlN",
        "colab_type": "text"
      },
      "source": [
        "**Q53.** Write the NumPy program to test whether each element of a 1-D\n",
        "array is also present in the second array?\n",
        "\n",
        "\n",
        "Expected Output\n",
        "\n",
        "Array1: [ 0 10 20 40 60]\n",
        "\n",
        "Array2: [0, 40]\n",
        "\n",
        "Compare each element of array1 and array2\n",
        "\n",
        "[ True False False True False]"
      ]
    },
    {
      "cell_type": "code",
      "metadata": {
        "id": "UiH2Y5yzPSv_",
        "colab_type": "code",
        "colab": {}
      },
      "source": [
        "def compare(a1,a2):\n",
        "  a1=np.array(a1)\n",
        "  a2=np.array(a2)\n",
        "  print('\\n Array1 : \\n',a1)\n",
        "  print('\\n Array2 : \\n',a2)\n",
        "  print('\\n Comparing a1 and a2\\n',np.isin(a1,a2))"
      ],
      "execution_count": 0,
      "outputs": []
    },
    {
      "cell_type": "code",
      "metadata": {
        "id": "Q9p9YaJ_QKu9",
        "colab_type": "code",
        "outputId": "e4013a4e-0406-4ed2-af1c-ec6e14724791",
        "colab": {
          "base_uri": "https://localhost:8080/",
          "height": 173
        }
      },
      "source": [
        "a1=[ 0, 10, 20, 40, 60]\n",
        "a2=[0, 40]\n",
        "compare(a1,a2)"
      ],
      "execution_count": 0,
      "outputs": [
        {
          "output_type": "stream",
          "text": [
            "\n",
            " Array1 : \n",
            " [ 0 10 20 40 60]\n",
            "\n",
            " Array2 : \n",
            " [ 0 40]\n",
            "\n",
            " Comparing a1 and a2\n",
            " [ True False False  True False]\n"
          ],
          "name": "stdout"
        }
      ]
    },
    {
      "cell_type": "markdown",
      "metadata": {
        "id": "G0VyTROGQmSc",
        "colab_type": "text"
      },
      "source": [
        "**Q54.** Write the NumPy program to find common values between two\n",
        "arrays?\n",
        "Expected Output\n",
        "\n",
        "Array1: [ 0 10 20 40 60]\n",
        "\n",
        "Array2: [10 30 40]\n",
        "\n",
        "Common values between two arrays-\n",
        "\n",
        "[10 40]"
      ]
    },
    {
      "cell_type": "code",
      "metadata": {
        "id": "pE0TZusbQ2a9",
        "colab_type": "code",
        "colab": {}
      },
      "source": [
        "def common(a1,a2):\n",
        "  a1=np.array(a1)\n",
        "  a2=np.array(a2)\n",
        "  print('\\n Array1 : \\n',a1)\n",
        "  print('\\n Array2 : \\n',a2)\n",
        "  print('\\n Common Values Between a1 and a2\\n',np.intersect1d(a1,a2))"
      ],
      "execution_count": 0,
      "outputs": []
    },
    {
      "cell_type": "code",
      "metadata": {
        "id": "sLNLsfZ6Q_zN",
        "colab_type": "code",
        "outputId": "cab49caa-bf32-4cd9-d450-aa3d903f56ac",
        "colab": {
          "base_uri": "https://localhost:8080/",
          "height": 173
        }
      },
      "source": [
        "a1=[ 0, 10, 20, 40, 60]\n",
        "a2=[10, 30, 40]\n",
        "common(a1,a2)\n"
      ],
      "execution_count": 0,
      "outputs": [
        {
          "output_type": "stream",
          "text": [
            "\n",
            " Array1 : \n",
            " [ 0 10 20 40 60]\n",
            "\n",
            " Array2 : \n",
            " [10 30 40]\n",
            "\n",
            " Common Values Between a1 and a2\n",
            " [10 40]\n"
          ],
          "name": "stdout"
        }
      ]
    },
    {
      "cell_type": "markdown",
      "metadata": {
        "id": "OdtCHG0kRaHa",
        "colab_type": "text"
      },
      "source": [
        "**Q55.** Write the NumPy program to get the unique elements of an array?\n",
        "\n",
        "Expected OutputOriginal array-\n",
        "\n",
        "[10 10 20 20 30 30]\n",
        "\n",
        "Unique elements of the above array-\n",
        "\n",
        "[10 20 30]\n",
        "\n",
        "Original array-\n",
        "\n",
        "[[1 1]\n",
        "[2 3]]\n",
        "\n",
        "Unique elements of the above array-\n",
        "\n",
        "[1 2 3]"
      ]
    },
    {
      "cell_type": "code",
      "metadata": {
        "id": "NdbH3PmDRzjT",
        "colab_type": "code",
        "colab": {}
      },
      "source": [
        "def unique(a):\n",
        "  a=np.array(a)\n",
        "  print('\\n Original array - \\n',a)\n",
        "  print('\\n Unique Elements of the Above array\\n',np.unique(a))"
      ],
      "execution_count": 0,
      "outputs": []
    },
    {
      "cell_type": "code",
      "metadata": {
        "id": "qsokWY74SJNk",
        "colab_type": "code",
        "outputId": "551b76ad-dc50-4bc8-fa83-89477b99c61b",
        "colab": {
          "base_uri": "https://localhost:8080/",
          "height": 121
        }
      },
      "source": [
        "a=[10, 10, 20, 20, 30, 30]\n",
        "unique(a)"
      ],
      "execution_count": 0,
      "outputs": [
        {
          "output_type": "stream",
          "text": [
            "\n",
            " Original array - \n",
            " [10 10 20 20 30 30]\n",
            "\n",
            " Unique Elements of the Above array\n",
            " [10 20 30]\n"
          ],
          "name": "stdout"
        }
      ]
    },
    {
      "cell_type": "code",
      "metadata": {
        "id": "UWbleRY2Sm_-",
        "colab_type": "code",
        "outputId": "2574cae9-9c28-4da6-cb73-e053bb92c60e",
        "colab": {
          "base_uri": "https://localhost:8080/",
          "height": 138
        }
      },
      "source": [
        "a=[[1, 1], [2, 3]]\n",
        "unique(a)"
      ],
      "execution_count": 0,
      "outputs": [
        {
          "output_type": "stream",
          "text": [
            "\n",
            " Original array - \n",
            " [[1 1]\n",
            " [2 3]]\n",
            "\n",
            " Unique Elements of the Above array\n",
            " [1 2 3]\n"
          ],
          "name": "stdout"
        }
      ]
    },
    {
      "cell_type": "markdown",
      "metadata": {
        "id": "ACdMcwjhS1H7",
        "colab_type": "text"
      },
      "source": [
        "**Q56.** Write the NumPy program to find the set exclusive-or of two arrays.\n",
        "Set exclusive-or will return the sorted, unique values that are in\n",
        "only one (not both) of the input arrays?\n",
        "\n",
        "Array1- [ 0 10 20 40 60 80]\n",
        "\n",
        "Array2- [10 30 40 50 70]\n",
        "\n",
        "Unique values that are in only one (not both) of the input arrays-\n",
        "\n",
        "[ 0 20 30 50 60 70 80]"
      ]
    },
    {
      "cell_type": "code",
      "metadata": {
        "id": "OesUUzyKTDn5",
        "colab_type": "code",
        "colab": {}
      },
      "source": [
        "def excor(a1,a2):\n",
        "  a1=np.array(a1)\n",
        "  a2=np.array(a2)\n",
        "  print('\\n Array1 - \\n',a1)\n",
        "  print('\\n Array2 - \\n',a2)\n",
        "  print('\\n Unique values that are in only one (not both) of the input arrays\\n',np.setxor1d(a1,a2))"
      ],
      "execution_count": 0,
      "outputs": []
    },
    {
      "cell_type": "code",
      "metadata": {
        "id": "jzg9kt5cVnFf",
        "colab_type": "code",
        "outputId": "b70a55ea-81c1-4096-b4f0-ff54adddd1f8",
        "colab": {
          "base_uri": "https://localhost:8080/",
          "height": 173
        }
      },
      "source": [
        "a1=[ 0, 10, 20, 40, 60, 80]\n",
        "a2=[10, 30, 40, 50, 70]\n",
        "excor(a1,a2)"
      ],
      "execution_count": 0,
      "outputs": [
        {
          "output_type": "stream",
          "text": [
            "\n",
            " Array1 - \n",
            " [ 0 10 20 40 60 80]\n",
            "\n",
            " Array2 - \n",
            " [10 30 40 50 70]\n",
            "\n",
            " Unique values that are in only one (not both) of the input arrays\n",
            " [ 0 20 30 50 60 70 80]\n"
          ],
          "name": "stdout"
        }
      ]
    },
    {
      "cell_type": "markdown",
      "metadata": {
        "id": "-z2rkSUhWegN",
        "colab_type": "text"
      },
      "source": [
        "**Q57.** Write the NumPy program to test if all elements in an array\n",
        "evaluate to True ?\n",
        "\n",
        " Note: 0 evaluates to False in NumPy."
      ]
    },
    {
      "cell_type": "code",
      "metadata": {
        "id": "aJexqJU-WkjY",
        "colab_type": "code",
        "colab": {}
      },
      "source": [
        "def test(a):\n",
        "  return np.all(a)\n"
      ],
      "execution_count": 0,
      "outputs": []
    },
    {
      "cell_type": "code",
      "metadata": {
        "id": "00ckmkt5Xw3C",
        "colab_type": "code",
        "outputId": "7f7e0f95-ae39-4504-abd6-f86946430b54",
        "colab": {
          "base_uri": "https://localhost:8080/",
          "height": 35
        }
      },
      "source": [
        "a=[10,20,30,0,40,50]\n",
        "test(a)"
      ],
      "execution_count": 0,
      "outputs": [
        {
          "output_type": "execute_result",
          "data": {
            "text/plain": [
              "False"
            ]
          },
          "metadata": {
            "tags": []
          },
          "execution_count": 102
        }
      ]
    },
    {
      "cell_type": "code",
      "metadata": {
        "id": "3iY-2OHrX5xp",
        "colab_type": "code",
        "outputId": "ea9a4ddc-7ee8-4673-fbd9-aa028d7e1dec",
        "colab": {
          "base_uri": "https://localhost:8080/",
          "height": 35
        }
      },
      "source": [
        "a=[10,20,30,80,40,50]\n",
        "test(a)"
      ],
      "execution_count": 0,
      "outputs": [
        {
          "output_type": "execute_result",
          "data": {
            "text/plain": [
              "True"
            ]
          },
          "metadata": {
            "tags": []
          },
          "execution_count": 103
        }
      ]
    },
    {
      "cell_type": "code",
      "metadata": {
        "id": "5PJgL2eZX_2i",
        "colab_type": "code",
        "outputId": "7dae7392-1926-4504-b452-e5b8d548f97c",
        "colab": {
          "base_uri": "https://localhost:8080/",
          "height": 35
        }
      },
      "source": [
        "a=[True,True,True,True]\n",
        "test(a)"
      ],
      "execution_count": 0,
      "outputs": [
        {
          "output_type": "execute_result",
          "data": {
            "text/plain": [
              "True"
            ]
          },
          "metadata": {
            "tags": []
          },
          "execution_count": 104
        }
      ]
    },
    {
      "cell_type": "markdown",
      "metadata": {
        "id": "xmcdk2_gYOfC",
        "colab_type": "text"
      },
      "source": [
        "**Q58** Write the NumPy program to test whether any array element along\n",
        "the given axis evaluates to True?"
      ]
    },
    {
      "cell_type": "code",
      "metadata": {
        "id": "ppXv9rqHTRE5",
        "colab_type": "code",
        "outputId": "08836d93-5108-4b19-ce56-f3bb864f7fe5",
        "colab": {
          "base_uri": "https://localhost:8080/",
          "height": 35
        }
      },
      "source": [
        "z=np.any([-1, 4, 0],axis=0)\n",
        "print(z)"
      ],
      "execution_count": 0,
      "outputs": [
        {
          "output_type": "stream",
          "text": [
            "True\n"
          ],
          "name": "stdout"
        }
      ]
    },
    {
      "cell_type": "code",
      "metadata": {
        "id": "t2RKp-u1Ts1m",
        "colab_type": "code",
        "outputId": "31d8c87c-c5d4-4db9-be3c-23f9a37edc8d",
        "colab": {
          "base_uri": "https://localhost:8080/",
          "height": 35
        }
      },
      "source": [
        "x=np.any([[1,2,3],[0,0,0]],axis=0)\n",
        "print(x)"
      ],
      "execution_count": 0,
      "outputs": [
        {
          "output_type": "stream",
          "text": [
            "[ True  True  True]\n"
          ],
          "name": "stdout"
        }
      ]
    },
    {
      "cell_type": "code",
      "metadata": {
        "id": "xx8bOKQuUIjT",
        "colab_type": "code",
        "outputId": "64ab3290-fce5-4607-adb5-d7520f3f198e",
        "colab": {
          "base_uri": "https://localhost:8080/",
          "height": 35
        }
      },
      "source": [
        "x=np.any([[1,2,3],[0,0,0]],axis=1)\n",
        "print(x)"
      ],
      "execution_count": 0,
      "outputs": [
        {
          "output_type": "stream",
          "text": [
            "[ True False]\n"
          ],
          "name": "stdout"
        }
      ]
    },
    {
      "cell_type": "markdown",
      "metadata": {
        "id": "F5iJY_b_ZPlo",
        "colab_type": "text"
      },
      "source": [
        "**Q59.** Write the NumPy program to construct an array by repeating?\n",
        "\n",
        "Sample array- [1, 2, 3, 4]\n",
        "\n",
        "Expected Output\n",
        "\n",
        "Original array\n",
        "[1 2 3 4]\n",
        "\n",
        "Repeating 2 times\n",
        "[1 2 3 4 1 2 3 4]\n",
        "\n",
        "Repeating 3 times\n",
        "[1 2 3 4 1 2 3 4 1 2 3 4]"
      ]
    },
    {
      "cell_type": "code",
      "metadata": {
        "id": "ECRg6FQCfm3F",
        "colab_type": "code",
        "colab": {}
      },
      "source": [
        "def repeat(a,n):\n",
        "  a=np.array(a)\n",
        "  print('\\n Original array \\n',a)\n",
        "  print('\\n Repeating ' + str(n) + ' times\\n',np.tile(a,n))"
      ],
      "execution_count": 0,
      "outputs": []
    },
    {
      "cell_type": "code",
      "metadata": {
        "id": "-tfn6_jlghJd",
        "colab_type": "code",
        "outputId": "76090838-cd0b-4be4-ff41-ac69e3a740c2",
        "colab": {
          "base_uri": "https://localhost:8080/",
          "height": 121
        }
      },
      "source": [
        "a=[1, 2, 3, 4]\n",
        "repeat(a,2)"
      ],
      "execution_count": 0,
      "outputs": [
        {
          "output_type": "stream",
          "text": [
            "\n",
            " Original array \n",
            " [1 2 3 4]\n",
            "\n",
            " Repeating 2 times\n",
            " [1 2 3 4 1 2 3 4]\n"
          ],
          "name": "stdout"
        }
      ]
    },
    {
      "cell_type": "code",
      "metadata": {
        "id": "8LZZNZ0hoPjJ",
        "colab_type": "code",
        "outputId": "bf10f8c1-fe4e-4ea9-f01b-435f0d572f1a",
        "colab": {
          "base_uri": "https://localhost:8080/",
          "height": 121
        }
      },
      "source": [
        "a=[1, 2, 3, 4]\n",
        "repeat(a,3)"
      ],
      "execution_count": 0,
      "outputs": [
        {
          "output_type": "stream",
          "text": [
            "\n",
            " Original array \n",
            " [1 2 3 4]\n",
            "\n",
            " Repeating 3 times\n",
            " [1 2 3 4 1 2 3 4 1 2 3 4]\n"
          ],
          "name": "stdout"
        }
      ]
    },
    {
      "cell_type": "markdown",
      "metadata": {
        "id": "mpdnmU-2oXF1",
        "colab_type": "text"
      },
      "source": [
        "**Q60.** Write the NumPy program to find the indices of the maximum and\n",
        "minimum values with the given axis of an array?\n",
        "\n",
        "\n",
        "Original array- [1 2 3 4 5 6]\n",
        "\n",
        "Maximum Values- 5\n",
        "\n",
        "Minimum Values- 0\n"
      ]
    },
    {
      "cell_type": "code",
      "metadata": {
        "id": "0fwgBhGUpIAf",
        "colab_type": "code",
        "colab": {}
      },
      "source": [
        "def array(a,n):\n",
        "  a=np.array(a)\n",
        "  print('\\n Original array -\\n',a)\n",
        "  print('\\n Maximum Values -',np.argmax(a,axis=n))\n",
        "  print('\\n Minimum Values -',np.argmin(a,axis=n))"
      ],
      "execution_count": 0,
      "outputs": []
    },
    {
      "cell_type": "code",
      "metadata": {
        "id": "Nm18K_huvGkw",
        "colab_type": "code",
        "outputId": "359f648e-5264-484b-f5dc-850cc88d472d",
        "colab": {
          "base_uri": "https://localhost:8080/",
          "height": 138
        }
      },
      "source": [
        "array([1,2,3,4,5,6],0)"
      ],
      "execution_count": 0,
      "outputs": [
        {
          "output_type": "stream",
          "text": [
            "\n",
            " Original array -\n",
            " [1 2 3 4 5 6]\n",
            "\n",
            " Maximum Values - 5\n",
            "\n",
            " Minimum Values - 0\n"
          ],
          "name": "stdout"
        }
      ]
    },
    {
      "cell_type": "code",
      "metadata": {
        "id": "wvrGRHHawvdF",
        "colab_type": "code",
        "outputId": "18a7bfde-3b6e-4388-d59e-a34accde5622",
        "colab": {
          "base_uri": "https://localhost:8080/",
          "height": 173
        }
      },
      "source": [
        "a=[[ 7, 10, 13],\n",
        "   [21, 1, 27],\n",
        "   [50, 26, 2]]\n",
        "#on passing axis=0 it give maximum value in each row and similarly for minimum\n",
        "array(a,0)"
      ],
      "execution_count": 0,
      "outputs": [
        {
          "output_type": "stream",
          "text": [
            "\n",
            " Original array -\n",
            " [[ 7 10 13]\n",
            " [21  1 27]\n",
            " [50 26  2]]\n",
            "\n",
            " Maximum Values - [2 2 1]\n",
            "\n",
            " Minimum Values - [0 1 2]\n"
          ],
          "name": "stdout"
        }
      ]
    },
    {
      "cell_type": "code",
      "metadata": {
        "id": "goMtwPZAyJCi",
        "colab_type": "code",
        "outputId": "50902279-d301-40b1-86f1-2b3705b44564",
        "colab": {
          "base_uri": "https://localhost:8080/",
          "height": 173
        }
      },
      "source": [
        "#on passing axis=1 it give maximum value in each row and similarly for minimum\n",
        "array(a,1)"
      ],
      "execution_count": 0,
      "outputs": [
        {
          "output_type": "stream",
          "text": [
            "\n",
            " Original array -\n",
            " [[ 7 10 13]\n",
            " [21  1 27]\n",
            " [50 26  2]]\n",
            "\n",
            " Maximum Values - [2 2 0]\n",
            "\n",
            " Minimum Values - [0 1 2]\n"
          ],
          "name": "stdout"
        }
      ]
    },
    {
      "cell_type": "markdown",
      "metadata": {
        "id": "_S8ck1CP3sFs",
        "colab_type": "text"
      },
      "source": [
        "**Q61.** Write the NumPy program compare two arrays using numpy?\n",
        "\n",
        "Array a- [1 2]\n",
        "\n",
        "Array b- [4 5]\n",
        "\n",
        "a > b\n",
        "[False False]\n",
        "\n",
        "a >= b\n",
        "[False False]\n",
        "\n",
        "a < b\n",
        "[ True True]\n",
        "\n",
        "a <= b\n",
        "[ True True]"
      ]
    },
    {
      "cell_type": "code",
      "metadata": {
        "id": "LQ8p2Azt49No",
        "colab_type": "code",
        "colab": {}
      },
      "source": [
        "def compares(a,b):\n",
        "  a=np.array(a)\n",
        "  b=np.array(b)\n",
        "  print('\\n Array a - ',a)\n",
        "  print('\\n Array b - ',b)\n",
        "  print('\\n a > b ',np.greater(a, b))\n",
        "  print('\\n a >= b ',np.greater_equal(a, b))\n",
        "  print('\\n a < b',np.less(a, b))\n",
        "  print('\\n a <= b',np.less_equal(a, b))"
      ],
      "execution_count": 0,
      "outputs": []
    },
    {
      "cell_type": "code",
      "metadata": {
        "id": "DxOtpwZ09BOt",
        "colab_type": "code",
        "outputId": "efddf419-3920-490b-d6a1-42d0ed327eb4",
        "colab": {
          "base_uri": "https://localhost:8080/",
          "height": 225
        }
      },
      "source": [
        "a=[1, 2]\n",
        "b=[4, 5]\n",
        "compares(a,b)"
      ],
      "execution_count": 0,
      "outputs": [
        {
          "output_type": "stream",
          "text": [
            "\n",
            " Array a -  [1 2]\n",
            "\n",
            " Array b -  [4 5]\n",
            "\n",
            " a > b  [False False]\n",
            "\n",
            " a >= b  [False False]\n",
            "\n",
            " a < b [ True  True]\n",
            "\n",
            " a <= b [ True  True]\n"
          ],
          "name": "stdout"
        }
      ]
    },
    {
      "cell_type": "markdown",
      "metadata": {
        "id": "QqJnYUV89Vnz",
        "colab_type": "text"
      },
      "source": [
        "**Q62.** Write the NumPy program to sort an along the first, last axis of an\n",
        "array?\n",
        "\n",
        "Sample array- \n",
        "[[2,5],[4,4]]\n",
        "\n",
        "Expected Output\n",
        "\n",
        "Original array:\n",
        "\n",
        "[[4 6]\n",
        "[2 1]]\n",
        "\n",
        "Sort along the first axis:\n",
        "\n",
        "[[2 1]\n",
        "[4 6]]\n",
        "\n",
        "Sort along the last axis-\n",
        "\n",
        "[[1 2]\n",
        "[4 6]]"
      ]
    },
    {
      "cell_type": "code",
      "metadata": {
        "id": "d_bebervI7y-",
        "colab_type": "code",
        "colab": {}
      },
      "source": [
        "def sort(a):\n",
        "  a=np.array(a)\n",
        "  print('\\n Original Array :\\n',a)\n",
        "  print('\\n Sort along the first axis \\n',np.sort(a,axis=0))\n",
        "  print('\\n Sort along the first axis \\n',np.sort(a,axis=1))\n"
      ],
      "execution_count": 0,
      "outputs": []
    },
    {
      "cell_type": "code",
      "metadata": {
        "id": "knYa_A35J3fY",
        "colab_type": "code",
        "outputId": "b256ca4b-2b34-4a6b-c78d-d688dfc76233",
        "colab": {
          "base_uri": "https://localhost:8080/",
          "height": 225
        }
      },
      "source": [
        "a=[[4, 6], [2, 1]]\n",
        "sort(a)"
      ],
      "execution_count": 0,
      "outputs": [
        {
          "output_type": "stream",
          "text": [
            "\n",
            " Original Array :\n",
            " [[4 6]\n",
            " [2 1]]\n",
            "\n",
            " Sort along the first axis \n",
            " [[2 1]\n",
            " [4 6]]\n",
            "\n",
            " Sort along the first axis \n",
            " [[4 6]\n",
            " [1 2]]\n"
          ],
          "name": "stdout"
        }
      ]
    },
    {
      "cell_type": "markdown",
      "metadata": {
        "id": "ZA7WVn59Org3",
        "colab_type": "text"
      },
      "source": [
        "**Q63.** Write the NumPy program to sort pairs of first name and last name\n",
        "return their indices (first by last name, then by first name).\n",
        "\n",
        "first_names - ( Betsey, Shelley, Lanell, Genesis, Margery )\n",
        "\n",
        "last_names - ( Battle, Brien, Plotner, Stahl, Woolum )\n",
        "\n",
        "Expected Output-\n",
        "[0 1 2 3 4]"
      ]
    },
    {
      "cell_type": "code",
      "metadata": {
        "id": "IjPOL0ExWC0N",
        "colab_type": "code",
        "outputId": "ef21f71e-e8b5-4694-deb2-330075b656f1",
        "colab": {
          "base_uri": "https://localhost:8080/",
          "height": 35
        }
      },
      "source": [
        "first_names=('Betsey', 'Shelley', 'Lanell', 'Genesis', 'Margery' )\n",
        "last_names=('Battle', 'Brien', 'Plotner', 'Stahl', 'Woolum' )\n",
        "x = np.lexsort((first_names, last_names))\n",
        "print(x)"
      ],
      "execution_count": 0,
      "outputs": [
        {
          "output_type": "stream",
          "text": [
            "[0 1 2 3 4]\n"
          ],
          "name": "stdout"
        }
      ]
    },
    {
      "cell_type": "markdown",
      "metadata": {
        "id": "aPPKTPnZP7iz",
        "colab_type": "text"
      },
      "source": [
        "**Q64.** Write the NumPy program to get the values and indices of the\n",
        "elements that are bigger than 10 in the given array?\n",
        "\n",
        "Original array-\n",
        "\n",
        "[[ 0 10 20]\n",
        "\n",
        "[20 30 40]]\n",
        "\n",
        "Values bigger than 10 = [20 20 30 40]\n",
        "\n",
        "Their indices are (array([0, 1, 1, 1]), array([2, 0, 1, 2]))"
      ]
    },
    {
      "cell_type": "code",
      "metadata": {
        "id": "MS3Nv9L_QKB1",
        "colab_type": "code",
        "colab": {}
      },
      "source": [
        "def arr(a):\n",
        "  a=np.array(a)\n",
        "  print('\\n Original Array :\\n',a)\n",
        "  print('\\n Values bigger than 10 =',a[a>10])\n",
        "  print('\\n Their indices are ',np.nonzero(a>10))\n"
      ],
      "execution_count": 0,
      "outputs": []
    },
    {
      "cell_type": "code",
      "metadata": {
        "id": "ELG0Dn10X0gT",
        "colab_type": "code",
        "outputId": "612072c8-f954-4865-adcc-a34ad5455d6a",
        "colab": {
          "base_uri": "https://localhost:8080/",
          "height": 155
        }
      },
      "source": [
        "a=[[ 0, 10, 20],\n",
        "\n",
        "[20, 30, 40]]\n",
        "arr(a)"
      ],
      "execution_count": 0,
      "outputs": [
        {
          "output_type": "stream",
          "text": [
            "\n",
            " Original Array :\n",
            " [[ 0 10 20]\n",
            " [20 30 40]]\n",
            "\n",
            " Values bigger than 10 = [20 20 30 40]\n",
            "\n",
            " Their indices are  (array([0, 1, 1, 1]), array([2, 0, 1, 2]))\n"
          ],
          "name": "stdout"
        }
      ]
    },
    {
      "cell_type": "markdown",
      "metadata": {
        "id": "2cTd9crFiUVg",
        "colab_type": "text"
      },
      "source": [
        "**Q65.** Write the NumPy program to find the memory size of a NumPy\n",
        "array?\n",
        "\n",
        "Expected Output\n",
        "\n",
        "128 bytes"
      ]
    },
    {
      "cell_type": "code",
      "metadata": {
        "id": "tJyV-kPCjO8n",
        "colab_type": "code",
        "colab": {}
      },
      "source": [
        "def arr(a):\n",
        "  print(a.size*a.itemsize,'bytes')"
      ],
      "execution_count": 0,
      "outputs": []
    },
    {
      "cell_type": "code",
      "metadata": {
        "id": "4cc5M9nDm-hG",
        "colab_type": "code",
        "outputId": "83224688-f21f-4da8-d1bc-3e564b33bcce",
        "colab": {
          "base_uri": "https://localhost:8080/",
          "height": 35
        }
      },
      "source": [
        "a=np.ones((4,4))\n",
        "arr(a)"
      ],
      "execution_count": 0,
      "outputs": [
        {
          "output_type": "stream",
          "text": [
            "128 bytes\n"
          ],
          "name": "stdout"
        }
      ]
    },
    {
      "cell_type": "markdown",
      "metadata": {
        "id": "Twqa-dD91Fdg",
        "colab_type": "text"
      },
      "source": [
        "**Q66.** Write the NumPy program to create an array of ones and an array\n",
        "of zeros?\n",
        "\n",
        "Expected Output\n",
        "\n",
        "Create an array of zeros\n",
        "\n",
        "Default type is float\n",
        "\n",
        "[[ 0. 0.]]\n",
        "\n",
        "Type changes to int\n",
        "\n",
        "[[0 0]]\n",
        "\n",
        "Create an array of ones\n",
        "\n",
        "Default type is float\n",
        "\n",
        "[[ 1. 1.]]\n",
        "\n",
        "Type changes to int\n",
        "\n",
        "[[1 1]]"
      ]
    },
    {
      "cell_type": "code",
      "metadata": {
        "id": "hLt3oopi4jTl",
        "colab_type": "code",
        "outputId": "c2ab74d1-e6f9-4fea-e11c-8719f9f8ff5c",
        "colab": {
          "base_uri": "https://localhost:8080/",
          "height": 259
        }
      },
      "source": [
        "a=np.zeros((1,4))\n",
        "print('\\n Array of zeros\\n')\n",
        "print('Default type is Float\\n',a)\n",
        "a=a.astype(int)\n",
        "print('Type changes to int\\n',a)\n",
        "b=np.ones((1,4))\n",
        "print('\\n Array of ones\\n')\n",
        "print('Default type is Float\\n',b)\n",
        "b=b.astype(int)\n",
        "print('Type changes to int\\n',b)"
      ],
      "execution_count": 0,
      "outputs": [
        {
          "output_type": "stream",
          "text": [
            "\n",
            " Array of zeros\n",
            "\n",
            "Default type is Float\n",
            " [[0. 0. 0. 0.]]\n",
            "Type changes to int\n",
            " [[0 0 0 0]]\n",
            "\n",
            " Array of ones\n",
            "\n",
            "Default type is Float\n",
            " [[1. 1. 1. 1.]]\n",
            "Type changes to int\n",
            " [[1 1 1 1]]\n"
          ],
          "name": "stdout"
        }
      ]
    },
    {
      "cell_type": "markdown",
      "metadata": {
        "id": "-3o7FxmM54Ui",
        "colab_type": "text"
      },
      "source": [
        "**Q67.** Write the NumPy program to change the dimension of an array?\n",
        "\n",
        "Expected Output\n",
        "\n",
        "6 rows and 0 columns\n",
        "\n",
        "(6,)\n",
        "\n",
        "(3, 3) -> 3 rows and 3 columns\n",
        "\n",
        "[[1 2 3]\n",
        "[4 5 6]\n",
        "[7 8 9]]\n",
        "\n",
        "Change array shape to (3, 3) -> 3 rows and 3 columns\n",
        "\n",
        "[[1 2 3]\n",
        "[4 5 6]\n",
        "[7 8 9]]"
      ]
    },
    {
      "cell_type": "code",
      "metadata": {
        "id": "6DNsK19X6eM6",
        "colab_type": "code",
        "outputId": "89750fb9-1fc7-4ae2-a429-5e07dab4eff9",
        "colab": {
          "base_uri": "https://localhost:8080/",
          "height": 242
        }
      },
      "source": [
        "a= np.array([1, 2, 3, 4, 5, 6])\n",
        "print('\\n6 rows and 0 columns\\n',a.shape)\n",
        "b = np.array([[1, 2, 3],[4, 5, 6],[7,8,9]])\n",
        "print('\\n(3, 3) -> 3 rows and 3 columns\\n',b)\n",
        "print('\\nChange array shape to (3, 3) -> 3 rows and 3 columns\\n',b.reshape(3,3))"
      ],
      "execution_count": 0,
      "outputs": [
        {
          "output_type": "stream",
          "text": [
            "\n",
            "6 rows and 0 columns\n",
            " (6,)\n",
            "\n",
            "(3, 3) -> 3 rows and 3 columns\n",
            " [[1 2 3]\n",
            " [4 5 6]\n",
            " [7 8 9]]\n",
            "\n",
            "Change array shape to (3, 3) -> 3 rows and 3 columns\n",
            " [[1 2 3]\n",
            " [4 5 6]\n",
            " [7 8 9]]\n"
          ],
          "name": "stdout"
        }
      ]
    },
    {
      "cell_type": "markdown",
      "metadata": {
        "id": "KaVXRb-I7XmI",
        "colab_type": "text"
      },
      "source": [
        "**Q68.** Write the NumPy program to create a new shape to an array\n",
        "without changing its data ?\n",
        "\n",
        "Reshape 3x2-\n",
        "\n",
        "[[1 2]\n",
        "[3 4]\n",
        "[5 6]]\n",
        "\n",
        "Reshape 2x3-\n",
        "\n",
        "[[1 2 3]\n",
        "[4 5 6]]"
      ]
    },
    {
      "cell_type": "code",
      "metadata": {
        "id": "qhtKTKiO7iRZ",
        "colab_type": "code",
        "outputId": "832857f3-a667-4dfc-f4a4-3b3f9e21d8ea",
        "colab": {
          "base_uri": "https://localhost:8080/",
          "height": 173
        }
      },
      "source": [
        "a=np.arange(1,7)\n",
        "print('\\n Reshape 3x2- \\n',a.reshape(3,2))\n",
        "print('\\n Reshape 2x3- \\n',a.reshape(2,3))"
      ],
      "execution_count": 0,
      "outputs": [
        {
          "output_type": "stream",
          "text": [
            "\n",
            " Reshape 3x2- \n",
            " [[1 2]\n",
            " [3 4]\n",
            " [5 6]]\n",
            "\n",
            " Reshape 2x3- \n",
            " [[1 2 3]\n",
            " [4 5 6]]\n"
          ],
          "name": "stdout"
        }
      ]
    },
    {
      "cell_type": "markdown",
      "metadata": {
        "id": "rB98TY7S8SKN",
        "colab_type": "text"
      },
      "source": [
        "**Q69.** Write the NumPy program to create a new array of 3*5, filled with\n",
        "2?\n",
        "\n",
        "Expected Output-\n",
        "\n",
        "[[2 2 2 2 2]\n",
        "[2 2 2 2 2]\n",
        "[2 2 2 2 2]]\n",
        "[[2 2 2 2 2]\n",
        "[2 2 2 2 2]\n",
        "[2 2 2 2 2]]"
      ]
    },
    {
      "cell_type": "code",
      "metadata": {
        "id": "9FEXwsIf8ZiT",
        "colab_type": "code",
        "outputId": "9e55734f-b11c-4658-de4a-3cdc191a5a18",
        "colab": {
          "base_uri": "https://localhost:8080/",
          "height": 173
        }
      },
      "source": [
        "a=np.full((2,3,5),2)\n",
        "print('\\n Output\\n',a)"
      ],
      "execution_count": 0,
      "outputs": [
        {
          "output_type": "stream",
          "text": [
            "\n",
            " Output\n",
            " [[[2 2 2 2 2]\n",
            "  [2 2 2 2 2]\n",
            "  [2 2 2 2 2]]\n",
            "\n",
            " [[2 2 2 2 2]\n",
            "  [2 2 2 2 2]\n",
            "  [2 2 2 2 2]]]\n"
          ],
          "name": "stdout"
        }
      ]
    },
    {
      "cell_type": "markdown",
      "metadata": {
        "id": "c5e57Lfi8zIR",
        "colab_type": "text"
      },
      "source": [
        "**Q70.** Write the NumPy program to create a 3-D array with ones on a\n",
        "diagonal and zeros elsewhere?\n",
        "\n",
        "Expected Output-\n",
        "\n",
        "[[ 1. 0. 0.]\n",
        "\n",
        "[ 0. 1. 0.]\n",
        "\n",
        "[ 0. 0. 1.]]"
      ]
    },
    {
      "cell_type": "code",
      "metadata": {
        "id": "ODTcQu3I86dy",
        "colab_type": "code",
        "outputId": "dfbcd0fd-afdf-4b96-c062-2ec3d0b29f20",
        "colab": {
          "base_uri": "https://localhost:8080/",
          "height": 69
        }
      },
      "source": [
        "c=np.eye(3)\n",
        "print(c)"
      ],
      "execution_count": 0,
      "outputs": [
        {
          "output_type": "stream",
          "text": [
            "[[1. 0. 0.]\n",
            " [0. 1. 0.]\n",
            " [0. 0. 1.]]\n"
          ],
          "name": "stdout"
        }
      ]
    },
    {
      "cell_type": "markdown",
      "metadata": {
        "id": "JsmZbv_H91OV",
        "colab_type": "text"
      },
      "source": [
        "**Q71.** Write the NumPy program to split an array of 14 elements into the\n",
        "3 arrays and each of which has 2, 4, and 8 elements in original\n",
        "order?\n",
        "\n",
        "\n",
        "Expected Output\n",
        "\n",
        "Original array- [ 1 2 3 4 5 6 7 8 9 10 11 12 13 14]\n",
        "\n",
        "After splitting-\n",
        "\n",
        "[array([1, 2]), array([3, 4, 5, 6]), array([ 7, 8, 9, 10, 11, 12, 13, 14])]"
      ]
    },
    {
      "cell_type": "code",
      "metadata": {
        "id": "Qq3gvEDl-CbK",
        "colab_type": "code",
        "outputId": "11c58283-a787-4067-b01f-c8e8b1e7c969",
        "colab": {
          "base_uri": "https://localhost:8080/",
          "height": 121
        }
      },
      "source": [
        "x=np.arange(1,15)\n",
        "print('\\n Original Array\\n',x)\n",
        "print('\\n After splitting\\n',np.split(x,[2,6]))"
      ],
      "execution_count": 0,
      "outputs": [
        {
          "output_type": "stream",
          "text": [
            "\n",
            " Original Array\n",
            " [ 1  2  3  4  5  6  7  8  9 10 11 12 13 14]\n",
            "\n",
            " After splitting\n",
            " [array([1, 2]), array([3, 4, 5, 6]), array([ 7,  8,  9, 10, 11, 12, 13, 14])]\n"
          ],
          "name": "stdout"
        }
      ]
    },
    {
      "cell_type": "markdown",
      "metadata": {
        "id": "S5f49u4a_33G",
        "colab_type": "text"
      },
      "source": [
        "**Q72.** Write the NumPy program to split of an array of shape 4x4 it into\n",
        "two arrays along the second axis ?\n",
        "\n",
        "Sample array -\n",
        "\n",
        "[[ 0 1 2 3]\n",
        "[ 4 5 6 7]\n",
        "[ 8 9 10 11]\n",
        "[12 13 14 15]]\n",
        "\n",
        "Expected Output-\n",
        "\n",
        "[array([[ 0, 1],\n",
        "\n",
        "[ 4, 5],\n",
        "\n",
        "[ 8, 9],\n",
        "\n",
        "[12, 13]]), \n",
        "\n",
        "array([[ 2, 3],\n",
        "\n",
        "[ 6, 7],\n",
        "\n",
        "[10, 11],\n",
        "\n",
        "[14, 15]]),\n",
        "\n",
        " array([], shape=(4, 0), dtype=int64)]\n"
      ]
    },
    {
      "cell_type": "code",
      "metadata": {
        "id": "w8ybRqhdAT8A",
        "colab_type": "code",
        "outputId": "7f979f73-06fb-4988-cee4-0dd2e458ceb0",
        "colab": {
          "base_uri": "https://localhost:8080/",
          "height": 276
        }
      },
      "source": [
        "a=np.arange(16).reshape((4,4))\n",
        "print('\\n Original Array\\n',a)\n",
        "a=np.hsplit(a,[2,4]) #[2,4] ----> means that slicing column from [0:2] ,[2:4]\n",
        "print('\\n After Splitting in to two arrays\\n',a)\n"
      ],
      "execution_count": 0,
      "outputs": [
        {
          "output_type": "stream",
          "text": [
            "\n",
            " Original Array\n",
            " [[ 0  1  2  3]\n",
            " [ 4  5  6  7]\n",
            " [ 8  9 10 11]\n",
            " [12 13 14 15]]\n",
            "\n",
            " After Splitting in to two arrays\n",
            " [array([[ 0,  1],\n",
            "       [ 4,  5],\n",
            "       [ 8,  9],\n",
            "       [12, 13]]), array([[ 2,  3],\n",
            "       [ 6,  7],\n",
            "       [10, 11],\n",
            "       [14, 15]]), array([], shape=(4, 0), dtype=int64)]\n"
          ],
          "name": "stdout"
        }
      ]
    },
    {
      "cell_type": "markdown",
      "metadata": {
        "id": "ClvZimlDfpxB",
        "colab_type": "text"
      },
      "source": [
        "**Q73.** Write the NumPy program to create a 5x5 matrix with row values\n",
        "ranging from 0 to 4?"
      ]
    },
    {
      "cell_type": "code",
      "metadata": {
        "id": "ARGhUeeIeMPj",
        "colab_type": "code",
        "outputId": "7eea3549-c74c-4fbc-aa1c-ad6cc1585391",
        "colab": {
          "base_uri": "https://localhost:8080/",
          "height": 259
        }
      },
      "source": [
        "a=np.zeros((5,5))\n",
        "print('\\n Original Array\\n',a)\n",
        "for i in range(1,a.shape[0]):\n",
        "  a[:,i]=i\n",
        "print('\\n Row Values Ranging from 0 to 4 \\n',a)"
      ],
      "execution_count": 0,
      "outputs": [
        {
          "output_type": "stream",
          "text": [
            "\n",
            " Original Array\n",
            " [[0. 0. 0. 0. 0.]\n",
            " [0. 0. 0. 0. 0.]\n",
            " [0. 0. 0. 0. 0.]\n",
            " [0. 0. 0. 0. 0.]\n",
            " [0. 0. 0. 0. 0.]]\n",
            "\n",
            " Row Values Ranging from 0 to 4 \n",
            " [[0. 1. 2. 3. 4.]\n",
            " [0. 1. 2. 3. 4.]\n",
            " [0. 1. 2. 3. 4.]\n",
            " [0. 1. 2. 3. 4.]\n",
            " [0. 1. 2. 3. 4.]]\n"
          ],
          "name": "stdout"
        }
      ]
    },
    {
      "cell_type": "markdown",
      "metadata": {
        "id": "mWB5MO1Qg-ik",
        "colab_type": "text"
      },
      "source": [
        "**Q74.** Write the NumPy program to create an array of zeros and three\n",
        "column types (integer, float, character)?\n",
        "\n",
        "Expected Output-\n",
        "\n",
        "[(1, 2., b'Albert Einstein') (2, 2., b'Edmond Halley')\n",
        "(3, 3., b'Gertrude B. Elion')]"
      ]
    },
    {
      "cell_type": "code",
      "metadata": {
        "id": "sg4QgJheVj55",
        "colab_type": "code",
        "outputId": "eda316f0-6724-4b91-ba37-4fc36e83abcd",
        "colab": {
          "base_uri": "https://localhost:8080/",
          "height": 52
        }
      },
      "source": [
        "n = np.zeros((3,), dtype=('i4,f4,a40'))\n",
        "data=[(1, 2., \"Albert Einstein\"), (2, 2., \"Edmond Halley\"), (3, 3., \"Gertrude B. Elion\")]\n",
        "n[:]=data\n",
        "print(n)"
      ],
      "execution_count": 0,
      "outputs": [
        {
          "output_type": "stream",
          "text": [
            "[(1, 2., b'Albert Einstein') (2, 2., b'Edmond Halley')\n",
            " (3, 3., b'Gertrude B. Elion')]\n"
          ],
          "name": "stdout"
        }
      ]
    },
    {
      "cell_type": "markdown",
      "metadata": {
        "id": "HOzEoZy1hS0h",
        "colab_type": "text"
      },
      "source": [
        "**Q75.** Write the NumPy program to remove the negative values in the\n",
        "numpy array with 0?\n",
        "\n",
        "Expected Output\n",
        "\n",
        "Original array:\n",
        "[-1 -4 0 2 3 4 5 -6]\n",
        "\n",
        "Replace the negative values of the said array with 0-\n",
        "[0 0 0 2 3 4 5 0]"
      ]
    },
    {
      "cell_type": "code",
      "metadata": {
        "id": "5FRtzHYmhcmb",
        "colab_type": "code",
        "colab": {}
      },
      "source": [
        "def reneg(a):\n",
        "  a=np.array(a)\n",
        "  print('\\n Original Array : ',a)\n",
        "  a[a<0]=0\n",
        "  print('\\n Replace the negative values with 0 - ',a)\n"
      ],
      "execution_count": 0,
      "outputs": []
    },
    {
      "cell_type": "code",
      "metadata": {
        "id": "QSrmtXBZiqcC",
        "colab_type": "code",
        "outputId": "7b46cb6a-7d0d-4551-8fca-9e2ef2100b6d",
        "colab": {
          "base_uri": "https://localhost:8080/",
          "height": 86
        }
      },
      "source": [
        "a=[-1, -4, 0, 2, 3, 4, 5, -6]\n",
        "reneg(a)"
      ],
      "execution_count": 0,
      "outputs": [
        {
          "output_type": "stream",
          "text": [
            "\n",
            " Original Array :  [-1 -4  0  2  3  4  5 -6]\n",
            "\n",
            " Replace the negative values with 0 -  [0 0 0 2 3 4 5 0]\n"
          ],
          "name": "stdout"
        }
      ]
    },
    {
      "cell_type": "markdown",
      "metadata": {
        "id": "E6e3YhKti6x7",
        "colab_type": "text"
      },
      "source": [
        "**Q76.**Write the NumPy program to compute the histogram of a set of\n",
        "data?"
      ]
    },
    {
      "cell_type": "code",
      "metadata": {
        "id": "8qbDTSYaByEq",
        "colab_type": "code",
        "outputId": "190a4df7-8aec-4e8d-adc1-cc3ffa8cb9c3",
        "colab": {
          "base_uri": "https://localhost:8080/",
          "height": 282
        }
      },
      "source": [
        "x=np.random.rand(8).reshape((4,2))\n",
        "labels=['a','b']\n",
        "df=pd.DataFrame(x,columns=labels)\n",
        "df.plot(kind='hist')"
      ],
      "execution_count": 0,
      "outputs": [
        {
          "output_type": "execute_result",
          "data": {
            "text/plain": [
              "<matplotlib.axes._subplots.AxesSubplot at 0x7f312fcc03c8>"
            ]
          },
          "metadata": {
            "tags": []
          },
          "execution_count": 136
        },
        {
          "output_type": "display_data",
          "data": {
            "image/png": "[encoded data removed]",
            "text/plain": [
              "<Figure size 432x288 with 1 Axes>"
            ]
          },
          "metadata": {
            "tags": [],
            "needs_background": "light"
          }
        }
      ]
    },
    {
      "cell_type": "markdown",
      "metadata": {
        "id": "wDIbFA6-MjwR",
        "colab_type": "text"
      },
      "source": [
        "**Q77.** Write the NumPy program to compute the line graph of a set of\n",
        "data?"
      ]
    },
    {
      "cell_type": "code",
      "metadata": {
        "id": "HBFQSsoLNLPG",
        "colab_type": "code",
        "outputId": "6e362624-f553-4d6c-e615-6b3dc77a9919",
        "colab": {
          "base_uri": "https://localhost:8080/",
          "height": 282
        }
      },
      "source": [
        "x=np.random.rand(8).reshape((8,1))\n",
        "labels=['a']\n",
        "df=pd.DataFrame(x,columns=labels)\n",
        "df.plot(kind='line')"
      ],
      "execution_count": 0,
      "outputs": [
        {
          "output_type": "execute_result",
          "data": {
            "text/plain": [
              "<matplotlib.axes._subplots.AxesSubplot at 0x7f312fb9d780>"
            ]
          },
          "metadata": {
            "tags": []
          },
          "execution_count": 137
        },
        {
          "output_type": "display_data",
          "data": {
            "image/png": "[encoded data removed]",
            "text/plain": [
              "<Figure size 432x288 with 1 Axes>"
            ]
          },
          "metadata": {
            "tags": [],
            "needs_background": "light"
          }
        }
      ]
    },
    {
      "cell_type": "markdown",
      "metadata": {
        "id": "3zjR-6e1jDmF",
        "colab_type": "text"
      },
      "source": [
        "**Q78.** Write the NumPy program to extracts all the elements from second\n",
        "row from given (4x4) array?"
      ]
    },
    {
      "cell_type": "code",
      "metadata": {
        "id": "UUveiBRvjKR8",
        "colab_type": "code",
        "outputId": "aa6bd427-4338-45f7-b31f-d6df0520d1e3",
        "colab": {
          "base_uri": "https://localhost:8080/",
          "height": 173
        }
      },
      "source": [
        "a=np.arange(16).reshape((4,4))\n",
        "print('\\n Original Array :\\n',a)\n",
        "print('\\n Extracted data- Second row \\n',a[1,:])"
      ],
      "execution_count": 0,
      "outputs": [
        {
          "output_type": "stream",
          "text": [
            "\n",
            " Original Array :\n",
            " [[ 0  1  2  3]\n",
            " [ 4  5  6  7]\n",
            " [ 8  9 10 11]\n",
            " [12 13 14 15]]\n",
            "\n",
            " Extracted data- Second row \n",
            " [4 5 6 7]\n"
          ],
          "name": "stdout"
        }
      ]
    },
    {
      "cell_type": "markdown",
      "metadata": {
        "id": "Xau8wSLHkt3W",
        "colab_type": "text"
      },
      "source": [
        "**Q79.** Write the NumPy program to extract first element of the second\n",
        "row and fourth element of fourth row from a given (4x4) array? "
      ]
    },
    {
      "cell_type": "code",
      "metadata": {
        "id": "dgs-94jKkv_1",
        "colab_type": "code",
        "outputId": "52457518-3f66-4ee2-a19d-4cf9cae90153",
        "colab": {
          "base_uri": "https://localhost:8080/",
          "height": 190
        }
      },
      "source": [
        "b=np.arange(16).reshape((4,4))\n",
        "print('\\n Original Array :\\n',b)\n",
        "print('\\n First element of the second row :',b[1,0])\n",
        "print('\\n Fourth element of the fourth row :',b[3,3])"
      ],
      "execution_count": 0,
      "outputs": [
        {
          "output_type": "stream",
          "text": [
            "\n",
            " Original Array :\n",
            " [[ 0  1  2  3]\n",
            " [ 4  5  6  7]\n",
            " [ 8  9 10 11]\n",
            " [12 13 14 15]]\n",
            "\n",
            " First element of the second row : 4\n",
            "\n",
            " Fourth element of the fourth row : 15\n"
          ],
          "name": "stdout"
        }
      ]
    },
    {
      "cell_type": "markdown",
      "metadata": {
        "id": "E0a6M127mCL3",
        "colab_type": "text"
      },
      "source": [
        "**Q80.** Write the NumPy program to add two arrays A and B of sizes (3,3)\n",
        "and (,3)?\n",
        "\n",
        "Sample Output : Original array\n",
        "\n",
        "Array-1\n",
        "[[1 1 1]\n",
        "[1 1 1]\n",
        "[1 1 1]]\n",
        "\n",
        "Array-2\n",
        "[0 1 2]\n",
        "\n",
        "A + B:\n",
        "[[1 2 3] [1 2 3] [1 2 3]]"
      ]
    },
    {
      "cell_type": "code",
      "metadata": {
        "id": "HJN-ywNomM5P",
        "colab_type": "code",
        "outputId": "c08d42ea-39ec-4f56-90cd-74c12a720543",
        "colab": {
          "base_uri": "https://localhost:8080/",
          "height": 276
        }
      },
      "source": [
        "A=np.ones((3,3))\n",
        "B=np.arange(3)\n",
        "print('\\n Original Array : ')\n",
        "print('\\n Array 1 \\n',A)\n",
        "print('\\n Array 2 \\n',B)\n",
        "print('\\n A+B : \\n',A+B)\n"
      ],
      "execution_count": 0,
      "outputs": [
        {
          "output_type": "stream",
          "text": [
            "\n",
            " Original Array : \n",
            "\n",
            " Array 1 \n",
            " [[1. 1. 1.]\n",
            " [1. 1. 1.]\n",
            " [1. 1. 1.]]\n",
            "\n",
            " Array 2 \n",
            " [0 1 2]\n",
            "\n",
            " A+B : \n",
            " [[1. 2. 3.]\n",
            " [1. 2. 3.]\n",
            " [1. 2. 3.]]\n"
          ],
          "name": "stdout"
        }
      ]
    },
    {
      "cell_type": "markdown",
      "metadata": {
        "id": "7J0Rdhz0nM9s",
        "colab_type": "text"
      },
      "source": [
        "**Q81.** Write the NumPy program to copy data from a given array to\n",
        "another array?\n",
        "\n",
        "Sample Output\n",
        "\n",
        "Original array-\n",
        "[24 27 30 29 18 14]\n",
        "\n",
        "Copy of the said array-\n",
        "[24 27 30 29 18 14]"
      ]
    },
    {
      "cell_type": "code",
      "metadata": {
        "id": "76-6rN4GnUN9",
        "colab_type": "code",
        "colab": {}
      },
      "source": [
        "def copied(a):\n",
        "  a=np.array(a)\n",
        "  print('\\n Original Array\\n',a)\n",
        "  b=np.copy(a)\n",
        "  print('\\n Copy of the said array - \\n',b)\n"
      ],
      "execution_count": 0,
      "outputs": []
    },
    {
      "cell_type": "code",
      "metadata": {
        "id": "rurTIkKaoEaW",
        "colab_type": "code",
        "outputId": "93e42743-3ece-48a9-8127-a69d1bfdd1f6",
        "colab": {
          "base_uri": "https://localhost:8080/",
          "height": 121
        }
      },
      "source": [
        "a=[24, 27, 30, 29, 18, 14]\n",
        "copied(a)"
      ],
      "execution_count": 0,
      "outputs": [
        {
          "output_type": "stream",
          "text": [
            "\n",
            " Original Array\n",
            " [24 27 30 29 18 14]\n",
            "\n",
            " Copy of the said array - \n",
            " [24 27 30 29 18 14]\n"
          ],
          "name": "stdout"
        }
      ]
    },
    {
      "cell_type": "markdown",
      "metadata": {
        "id": "BEwF4eYqov-i",
        "colab_type": "text"
      },
      "source": [
        "**Q82.** Write the NumPy program to calculate the sum of all columns of\n",
        "the 2D numpy array?"
      ]
    },
    {
      "cell_type": "code",
      "metadata": {
        "id": "oKjZig_Go21k",
        "colab_type": "code",
        "outputId": "27b243f8-db25-47fc-e9c3-dfa3d31bdad8",
        "colab": {
          "base_uri": "https://localhost:8080/",
          "height": 173
        }
      },
      "source": [
        "x=np.arange(36).reshape((4,9))\n",
        "print('\\n Original Array : \\n',x)\n",
        "print('\\n Sum of all Columns : \\n',np.sum(x,axis=0))"
      ],
      "execution_count": 0,
      "outputs": [
        {
          "output_type": "stream",
          "text": [
            "\n",
            " Original Array : \n",
            " [[ 0  1  2  3  4  5  6  7  8]\n",
            " [ 9 10 11 12 13 14 15 16 17]\n",
            " [18 19 20 21 22 23 24 25 26]\n",
            " [27 28 29 30 31 32 33 34 35]]\n",
            "\n",
            " Sum of all Columns : \n",
            " [54 58 62 66 70 74 78 82 86]\n"
          ],
          "name": "stdout"
        }
      ]
    },
    {
      "cell_type": "markdown",
      "metadata": {
        "id": "9ATfG8wfpufu",
        "colab_type": "text"
      },
      "source": [
        "**Q83.** Write the NumPy program to calculate averages without NaNs\n",
        "along the given array?"
      ]
    },
    {
      "cell_type": "code",
      "metadata": {
        "id": "ZOp92Y7Dp8Yc",
        "colab_type": "code",
        "outputId": "4c6e1049-43e0-4e37-b93c-fb29a59f3fe1",
        "colab": {
          "base_uri": "https://localhost:8080/",
          "height": 173
        }
      },
      "source": [
        "a = np.array([[10, 20 ,30], [40, 50, np.nan], [np.nan, 6, np.nan], [np.nan, np.nan, np.nan]])\n",
        "print('Original Array  \\n',a)\n",
        "print('\\n Averages without NaNs along the said array :',np.nanmean(a,axis=1))\n",
        "\n"
      ],
      "execution_count": 0,
      "outputs": [
        {
          "output_type": "stream",
          "text": [
            "Original Array  \n",
            " [[10. 20. 30.]\n",
            " [40. 50. nan]\n",
            " [nan  6. nan]\n",
            " [nan nan nan]]\n",
            "\n",
            " Averages without NaNs along the said array : [20. 45.  6. nan]\n"
          ],
          "name": "stdout"
        },
        {
          "output_type": "stream",
          "text": [
            "/usr/local/lib/python3.6/dist-packages/ipykernel_launcher.py:3: RuntimeWarning: Mean of empty slice\n",
            "  This is separate from the ipykernel package so we can avoid doing imports until\n"
          ],
          "name": "stderr"
        }
      ]
    },
    {
      "cell_type": "markdown",
      "metadata": {
        "id": "YXO6uH_or_rV",
        "colab_type": "text"
      },
      "source": [
        "**Q84.** Create two arrays of six elements. Write the NumPy program to\n",
        "count the number of instances of a value occurring in one array on\n",
        "the condition of another array."
      ]
    },
    {
      "cell_type": "code",
      "metadata": {
        "id": "CD67LaAstlP8",
        "colab_type": "code",
        "outputId": "6c383530-0393-4d49-87b5-8531de0dc8e6",
        "colab": {
          "base_uri": "https://localhost:8080/",
          "height": 121
        }
      },
      "source": [
        "x = np.array([10,-10,10,-10,-10,10])\n",
        "y = np.array([.85,.45,.9,.8,.12,.6])\n",
        "print('Original arrays:\\n',x)\n",
        "print(y)\n",
        "z=np.sum((x==10) & (y>0.50))\n",
        "print('\\nNumber of instances of a value occurring in one array on the condition of another array:\\n',z)"
      ],
      "execution_count": 0,
      "outputs": [
        {
          "output_type": "stream",
          "text": [
            "Original arrays:\n",
            " [ 10 -10  10 -10 -10  10]\n",
            "[0.85 0.45 0.9  0.8  0.12 0.6 ]\n",
            "\n",
            "Number of instances of a value occurring in one array on the condition of another array:\n",
            " 3\n"
          ],
          "name": "stdout"
        }
      ]
    },
    {
      "cell_type": "markdown",
      "metadata": {
        "id": "NX37UMjwNOO2",
        "colab_type": "text"
      },
      "source": [
        "**Q85.** Write the NumPy program to convert a Python dictionary to a\n",
        "Numpy ndarray ?\n",
        "\n",
        "Original dictionary-\n",
        "\n",
        "{'column0': {'a': 1, 'b': 0.0, 'c': 0.0, 'd': 2.0},\n",
        "\n",
        "'column1': {'a': 3.0, 'b': 1, 'c': 0.0, 'd': -1.0},\n",
        "\n",
        "'column2': {'a': 4, 'b': 1, 'c': 5.0, 'd': -1.0},\n",
        "\n",
        "'column3': {'a': 3.0, 'b': -1.0, 'c': -1.0, 'd': -1.0}}\n",
        "\n",
        "Type: <class 'dict'>\n",
        "\n",
        "ndarray-\n",
        "\n",
        "[[ 1. 0. 0. 2.]\n",
        "\n",
        "[ 3. 1. 0. -1.]\n",
        "\n",
        "[ 4. 1. 5. -1.]\n",
        "\n",
        "[ 3. -1. -1. -1.]]\n",
        "\n",
        "Type: <class 'numpy.ndarray'>"
      ]
    },
    {
      "cell_type": "code",
      "metadata": {
        "id": "yJeqwW9jNgVx",
        "colab_type": "code",
        "outputId": "903c74d6-e9a0-4ecb-be28-ccf8dfa11217",
        "colab": {
          "base_uri": "https://localhost:8080/",
          "height": 262
        }
      },
      "source": [
        "x={'column0': {'a': 1, 'b': 0.0, 'c': 0.0, 'd': 2.0},\n",
        "'column1': {'a': 3.0, 'b': 1, 'c': 0.0, 'd': -1.0},\n",
        "'column2': {'a': 4, 'b': 1, 'c': 5.0, 'd': -1.0},\n",
        "'column3': {'a': 3.0, 'b': -1.0, 'c': -1.0, 'd': -1.0}}\n",
        "print('\\n Original Dictionary\\n',x)\n",
        "print('\\nType : ',type(x))\n",
        "a=[[v[i] for i in ['a', 'b', 'c','d'] ] for k,v in x.items()]\n",
        "y=np.array(a)\n",
        "print('\\n ndarray\\n',y)\n",
        "print('\\n Type:',type(y))\n",
        "\n"
      ],
      "execution_count": 0,
      "outputs": [
        {
          "output_type": "stream",
          "text": [
            "\n",
            " Original Dictionary\n",
            " {'column0': {'a': 1, 'b': 0.0, 'c': 0.0, 'd': 2.0}, 'column1': {'a': 3.0, 'b': 1, 'c': 0.0, 'd': -1.0}, 'column2': {'a': 4, 'b': 1, 'c': 5.0, 'd': -1.0}, 'column3': {'a': 3.0, 'b': -1.0, 'c': -1.0, 'd': -1.0}}\n",
            "\n",
            "Type :  <class 'dict'>\n",
            "\n",
            " ndarray\n",
            " [[ 1.  0.  0.  2.]\n",
            " [ 3.  1.  0. -1.]\n",
            " [ 4.  1.  5. -1.]\n",
            " [ 3. -1. -1. -1.]]\n",
            "\n",
            " Type: <class 'numpy.ndarray'>\n"
          ],
          "name": "stdout"
        }
      ]
    },
    {
      "cell_type": "markdown",
      "metadata": {
        "id": "qxjSfbEXc49z",
        "colab_type": "text"
      },
      "source": [
        "**Q86.** Write the Numpy program to find and store the non-zero unique\n",
        "rows in an array after comparing each row with other row in the\n",
        "given matrix?\n",
        " \n",
        "Original array-\n",
        "[[ 1 1 0]\n",
        "[ 0 0 0]\n",
        "[ 0 2 3]\n",
        "[ 0 0 0]\n",
        "[ 0 -1 1]\n",
        "[ 0 0 0]]\n",
        "\n",
        "Non-zero unique rows-\n",
        "[[ 1 1 0]\n",
        "[ 0 2 3]\n",
        "[ 0 -1 1]]"
      ]
    },
    {
      "cell_type": "code",
      "metadata": {
        "id": "f4KzZNTnhkkA",
        "colab_type": "code",
        "outputId": "9de77aa6-bf24-4915-cd18-5aa2fc7ac276",
        "colab": {
          "base_uri": "https://localhost:8080/",
          "height": 242
        }
      },
      "source": [
        "a=np.array([[ 1, 1, 0], [ 0, 0, 0], [ 0, 2, 3], [ 0, 0, 0], [ 0, -1, 1], [ 0, 0, 0]])\n",
        "print('\\n Original Array\\n',a)\n",
        "a=a[~np.all(a == 0, axis=1)]\n",
        "print('\\n Non-zero Unique rows\\n',a)\n"
      ],
      "execution_count": 0,
      "outputs": [
        {
          "output_type": "stream",
          "text": [
            "\n",
            " Original Array\n",
            " [[ 1  1  0]\n",
            " [ 0  0  0]\n",
            " [ 0  2  3]\n",
            " [ 0  0  0]\n",
            " [ 0 -1  1]\n",
            " [ 0  0  0]]\n",
            "\n",
            " Non-zero Unique rows\n",
            " [[ 1  1  0]\n",
            " [ 0  2  3]\n",
            " [ 0 -1  1]]\n"
          ],
          "name": "stdout"
        }
      ]
    },
    {
      "cell_type": "markdown",
      "metadata": {
        "id": "LaeWAzvATcBI",
        "colab_type": "text"
      },
      "source": [
        "**Q87.** Write the NumPy program to multiply the matrix by another matrix\n",
        "of complex numbers and create a new matrix of complex\n",
        "numbers?\n",
        "\n",
        "Sample output\n",
        "\n",
        "First array-\n",
        "[ 1.+2.j 3.+4.j]\n",
        "\n",
        "Second array-\n",
        "[ 5.+6.j 7.+8.j]\n",
        "\n",
        "Product of above two arrays-\n",
        "(70-8j)"
      ]
    },
    {
      "cell_type": "code",
      "metadata": {
        "id": "w2Q35VzWTrTF",
        "colab_type": "code",
        "outputId": "e3c0bae3-0adf-4c79-a3f9-d12e88282e56",
        "colab": {
          "base_uri": "https://localhost:8080/",
          "height": 173
        }
      },
      "source": [
        "a=np.array([1+2j,3+4j])\n",
        "print('\\n First array\\n',a)\n",
        "b=np.array([5+6j,7+8j])\n",
        "print('\\n Second array\\n',b)\n",
        "c=np.vdot(a,b) # elementwise multiplication\n",
        "print('\\n Product of above two arrays\\n ',c)"
      ],
      "execution_count": 0,
      "outputs": [
        {
          "output_type": "stream",
          "text": [
            "\n",
            " First array\n",
            " [1.+2.j 3.+4.j]\n",
            "\n",
            " Second array\n",
            " [5.+6.j 7.+8.j]\n",
            "\n",
            " Product of above two arrays\n",
            "  (70-8j)\n"
          ],
          "name": "stdout"
        }
      ]
    },
    {
      "cell_type": "markdown",
      "metadata": {
        "id": "aD1RCR6RWx89",
        "colab_type": "text"
      },
      "source": [
        "**Q88.** Write a NumPy program to generate the matrix product of two\n",
        "Arrays?"
      ]
    },
    {
      "cell_type": "code",
      "metadata": {
        "id": "S21QZR4WW7Yj",
        "colab_type": "code",
        "colab": {}
      },
      "source": [
        "def prod(x,y):\n",
        "  x=np.array(x)\n",
        "  print('\\n Matrices and vectors\\n')\n",
        "  print('\\n x- \\n',x)\n",
        "  y=np.array(y)\n",
        "  print('\\n y- \\n',y)\n",
        "  z=np.dot(x,y)\n",
        "  print('\\n Matrix product of above two arrays- \\n',z)"
      ],
      "execution_count": 0,
      "outputs": []
    },
    {
      "cell_type": "code",
      "metadata": {
        "id": "bW7tsqp6X9YS",
        "colab_type": "code",
        "outputId": "42d8c1f7-2c70-4fcc-bfb5-507f19266210",
        "colab": {
          "base_uri": "https://localhost:8080/",
          "height": 276
        }
      },
      "source": [
        "x=[[1, 0], [1, 1]]\n",
        "y=[[3, 1], [2, 2]]\n",
        "prod(x,y)"
      ],
      "execution_count": 0,
      "outputs": [
        {
          "output_type": "stream",
          "text": [
            "\n",
            " Matrices and vectors\n",
            "\n",
            "\n",
            " x- \n",
            " [[1 0]\n",
            " [1 1]]\n",
            "\n",
            " y- \n",
            " [[3 1]\n",
            " [2 2]]\n",
            "\n",
            " Matrix product of above two arrays- \n",
            " [[3 1]\n",
            " [5 3]]\n"
          ],
          "name": "stdout"
        }
      ]
    },
    {
      "cell_type": "markdown",
      "metadata": {
        "id": "5NCLAtwUadm3",
        "colab_type": "text"
      },
      "source": [
        "**Q89.** Write the NumPy program to find roots of the following\n",
        "Polynomials?\n",
        "$$ a) x^2 - 2 x + 1 $$\n",
        "$$ b) x^2 - 4 x + 7 $$\n",
        "$$ c) x^4 - 11 x^3 + 9 x^2 + 11 x - 10 $$\n",
        "\n",
        "Sample output :\n",
        "\n",
        "Roots of the first polynomial-\n",
        "[ 1. 1.]\n",
        "\n",
        "Roots of the second polynomial- [2.+1.73205081j 2.-1.73205081j]\n",
        "\n",
        "Roots of the third polynomial-\n",
        "\n",
        "[10.+0.0000000e+00j -1.+0.0000000e+00j  1.+9.6357437e-09j\n",
        "  1.-9.6357437e-09j]"
      ]
    },
    {
      "cell_type": "code",
      "metadata": {
        "id": "o68JZQnqizdh",
        "colab_type": "code",
        "outputId": "5ce0020a-1123-4def-9bc4-e40a5547c0eb",
        "colab": {
          "base_uri": "https://localhost:8080/",
          "height": 138
        }
      },
      "source": [
        "print('\\n Roots of the first polynomial- ',np.roots([1, -2, 1]))\n",
        "print('\\n Roots of the second polynomial- ',np.roots([1, -4, 7]))\n",
        "print('\\n Roots of the third polynomial-',np.roots([1, -11, 9, 11, -10]))"
      ],
      "execution_count": 0,
      "outputs": [
        {
          "output_type": "stream",
          "text": [
            "\n",
            " Roots of the first polynomial-  [1. 1.]\n",
            "\n",
            " Roots of the second polynomial-  [2.+1.73205081j 2.-1.73205081j]\n",
            "\n",
            " Roots of the third polynomial- [10.+0.0000000e+00j -1.+0.0000000e+00j  1.+9.6357437e-09j\n",
            "  1.-9.6357437e-09j]\n"
          ],
          "name": "stdout"
        }
      ]
    },
    {
      "cell_type": "markdown",
      "metadata": {
        "id": "gjTBZNzBEczE",
        "colab_type": "text"
      },
      "source": [
        "**Q90.** Write the NumPy program to calculate inverse of sine, cosine,\n",
        "and inverse tangent for all elements in a given array?\n",
        "\n",
        "Sample Input\n",
        "\n",
        "[-1., 0, 1.]\n",
        "\n",
        "Sample output\n",
        "\n",
        "Inverse sine- [-1.57079633 0. 1.57079633]\n",
        "\n",
        "Inverse cosine- [3.14159265 1.57079633 0. ]\n",
        "\n",
        "Inverse tangent- [-0.78539816 0. 0.78539816]"
      ]
    },
    {
      "cell_type": "code",
      "metadata": {
        "id": "VhLOeF4nEumj",
        "colab_type": "code",
        "colab": {}
      },
      "source": [
        "def trig(x):\n",
        "  x=np.array(x)\n",
        "  print('\\n Original array\\n',x)\n",
        "  print('\\n Inverse sine-',np.arcsin(x))\n",
        "  print('\\n Inverse cosine-',np.arccos(x))\n",
        "  print('\\n Inverse tangent-',np.arctan(x))"
      ],
      "execution_count": 0,
      "outputs": []
    },
    {
      "cell_type": "code",
      "metadata": {
        "id": "DddJ_YJtGH-p",
        "colab_type": "code",
        "outputId": "b1eac30b-383f-459a-c703-f18929a4e07a",
        "colab": {
          "base_uri": "https://localhost:8080/",
          "height": 173
        }
      },
      "source": [
        "trig([-1, 0, 1])"
      ],
      "execution_count": 0,
      "outputs": [
        {
          "output_type": "stream",
          "text": [
            "\n",
            " Original array\n",
            " [-1  0  1]\n",
            "\n",
            " Inverse sine- [-1.57079633  0.          1.57079633]\n",
            "\n",
            " Inverse cosine- [3.14159265 1.57079633 0.        ]\n",
            "\n",
            " Inverse tangent- [-0.78539816  0.          0.78539816]\n"
          ],
          "name": "stdout"
        }
      ]
    },
    {
      "cell_type": "markdown",
      "metadata": {
        "id": "MlW2cyzJG-PU",
        "colab_type": "text"
      },
      "source": [
        "**Q91.** Write the NumPy program to calculate the difference between in\n",
        "neighbouring elements, element-wise of a given array?\n",
        "\n",
        "Sample output\n",
        "\n",
        "Original array-\n",
        "\n",
        "[1 3 5 7 0]\n",
        "\n",
        "\n",
        "Difference between neighbouring elements, element-wise of the said array-\n",
        "\n",
        "[ 2 2 2 -7]"
      ]
    },
    {
      "cell_type": "code",
      "metadata": {
        "id": "fIJ1uu-dHM1J",
        "colab_type": "code",
        "colab": {}
      },
      "source": [
        "def diffe(x):\n",
        "  x=np.array(x)\n",
        "  print('\\n Original Array\\n',x)\n",
        "  print('\\n Difference between neighbouring elements, element-wise of the said array\\n',np.diff(x))"
      ],
      "execution_count": 0,
      "outputs": []
    },
    {
      "cell_type": "code",
      "metadata": {
        "id": "HYAhWDWwPnvR",
        "colab_type": "code",
        "colab": {}
      },
      "source": [
        "diffe([1, 3, 5, 7, 0])"
      ],
      "execution_count": 0,
      "outputs": []
    },
    {
      "cell_type": "markdown",
      "metadata": {
        "id": "RB_fYBLncLa2",
        "colab_type": "text"
      },
      "source": [
        "**Q92.** Write the Python program to find the maximum and the minimum\n",
        "value of a given flattened array?\n",
        "\n",
        "Expected Output\n",
        "\n",
        "Original flattened array-\n",
        "\n",
        "[[0 1]\n",
        "[2 3]]\n",
        "\n",
        "Maximum value of the above flattened array 3\n",
        "\n",
        "Minimum value of the above flattened array 0"
      ]
    },
    {
      "cell_type": "code",
      "metadata": {
        "id": "Vd7RpkNWhZfb",
        "colab_type": "code",
        "colab": {}
      },
      "source": [
        "def val(a):\n",
        "  a=np.array(a)\n",
        "  print('\\n Original Array\\n',a)\n",
        "  print('\\n Maximum value of the above flattened array is ',max(a.flatten()))\n",
        "  print('\\n Maximum value of the above flattened array is ',min(a.flatten()))\n"
      ],
      "execution_count": 0,
      "outputs": []
    },
    {
      "cell_type": "code",
      "metadata": {
        "id": "iR9m8QpAk42A",
        "colab_type": "code",
        "outputId": "306e4ea8-5519-47f9-df66-8f9054572508",
        "colab": {
          "base_uri": "https://localhost:8080/",
          "height": 155
        }
      },
      "source": [
        "a=np.arange(4).reshape((2,2))\n",
        "val(a)"
      ],
      "execution_count": 0,
      "outputs": [
        {
          "output_type": "stream",
          "text": [
            "\n",
            " Original Array\n",
            " [[0 1]\n",
            " [2 3]]\n",
            "\n",
            " Maximum value of the above flattened array is  3\n",
            "\n",
            " Maximum value of the above flattened array is  0\n"
          ],
          "name": "stdout"
        }
      ]
    },
    {
      "cell_type": "markdown",
      "metadata": {
        "id": "DOt-0bRpmKYR",
        "colab_type": "text"
      },
      "source": [
        "**Q93.** Write the NumPy program to calculate the difference between in\n",
        "the maximum and the minimum values of a given array along the\n",
        "second axis ?\n",
        "\n",
        "Expected Output:\n",
        "\n",
        "Original array-\n",
        "[[ 0 1 2 3 4 5]\n",
        "[ 6 7 8 9 10 11]]\n",
        "\n",
        "\n",
        "Difference between the maximum and the minimum values of the said array-\n",
        "\n",
        "[5 5]"
      ]
    },
    {
      "cell_type": "code",
      "metadata": {
        "id": "5xsCGEY9mSbb",
        "colab_type": "code",
        "colab": {}
      },
      "source": [
        "def val(a):\n",
        "  a=np.array(a)\n",
        "  print('\\n Original Array -\\n',a)\n",
        "  ans=np.amax(a,axis=1)-np.min(a,axis=1)\n",
        "  print('\\n Difference between the maximum and the minimum values along the second axis-\\n',ans)\n"
      ],
      "execution_count": 0,
      "outputs": []
    },
    {
      "cell_type": "code",
      "metadata": {
        "id": "L9NrvWTP-thv",
        "colab_type": "code",
        "outputId": "c385df37-04ac-4721-857f-cc4f709fe14c",
        "colab": {
          "base_uri": "https://localhost:8080/",
          "height": 138
        }
      },
      "source": [
        "a=np.arange(12).reshape((2,6))\n",
        "val(a)"
      ],
      "execution_count": 0,
      "outputs": [
        {
          "output_type": "stream",
          "text": [
            "\n",
            " Original Array -\n",
            " [[ 0  1  2  3  4  5]\n",
            " [ 6  7  8  9 10 11]]\n",
            "\n",
            " Difference between the maximum and the minimum values along the second axis-\n",
            " [5 5]\n"
          ],
          "name": "stdout"
        }
      ]
    },
    {
      "cell_type": "markdown",
      "metadata": {
        "id": "UD0YG-aX_90J",
        "colab_type": "text"
      },
      "source": [
        "**Q94.** Write the NumPy program to compute the weighted of the given\n",
        "array ?\n",
        "\n",
        "Sample Output\n",
        "\n",
        "Original array-\n",
        "[0 1 2 3 4]\n",
        "\n",
        "Weighted average of the said array\n",
        "2.6666666666666665"
      ]
    },
    {
      "cell_type": "code",
      "metadata": {
        "id": "zIWGA1XD--PU",
        "colab_type": "code",
        "outputId": "e7f20ab7-7af2-44a8-ddc3-44cfbcf94eb8",
        "colab": {
          "base_uri": "https://localhost:8080/",
          "height": 121
        }
      },
      "source": [
        "a=np.arange(5)\n",
        "print('\\n Original array\\n',a)\n",
        "weight=np.arange(1,6)\n",
        "x=np.average(a,axis=0,weights=weight)\n",
        "print('\\n Weighted average of the said array\\n',x)\n"
      ],
      "execution_count": 0,
      "outputs": [
        {
          "output_type": "stream",
          "text": [
            "\n",
            " Original array\n",
            " [0 1 2 3 4]\n",
            "\n",
            " Weighted average of the said array\n",
            " 2.6666666666666665\n"
          ],
          "name": "stdout"
        }
      ]
    },
    {
      "cell_type": "markdown",
      "metadata": {
        "id": "71Lorol-JJVM",
        "colab_type": "text"
      },
      "source": [
        "**Q95.** Write the NumPy program to compute the mean, standard\n",
        "deviation, and the variance of a given array along the second\n",
        "axis?\n",
        "\n",
        "Sample output\n",
        "\n",
        "Original array-\n",
        "[0 1 2 3 4 5]\n",
        "\n",
        "Mean- 2.5\n",
        "\n",
        "std- 1\n",
        "\n",
        "variance- 2.9166666666666665"
      ]
    },
    {
      "cell_type": "code",
      "metadata": {
        "id": "LMY3OJTfKP3C",
        "colab_type": "code",
        "colab": {}
      },
      "source": [
        "def stat(a,n):\n",
        "  a=np.array(a)\n",
        "  print('\\n Original array\\n',a)\n",
        "  print('\\n Mean -',np.mean(a,axis=n))\n",
        "  print('\\n std -',np.std(a,axis=n))\n",
        "  print('\\n variance -',np.var(a,axis=n))\n",
        "\n",
        "\n"
      ],
      "execution_count": 0,
      "outputs": []
    },
    {
      "cell_type": "code",
      "metadata": {
        "id": "UPJ3U3WqtE2U",
        "colab_type": "code",
        "outputId": "bc64ffab-4ed3-4364-8ce8-51275e65ec0d",
        "colab": {
          "base_uri": "https://localhost:8080/",
          "height": 173
        }
      },
      "source": [
        "a=np.arange(6)\n",
        "stat(a,0)"
      ],
      "execution_count": 0,
      "outputs": [
        {
          "output_type": "stream",
          "text": [
            "\n",
            " Original array\n",
            " [0 1 2 3 4 5]\n",
            "\n",
            " Mean - 2.5\n",
            "\n",
            " std - 1.707825127659933\n",
            "\n",
            " variance - 2.9166666666666665\n"
          ],
          "name": "stdout"
        }
      ]
    },
    {
      "cell_type": "code",
      "metadata": {
        "id": "_8IO3eV6tQdH",
        "colab_type": "code",
        "outputId": "f60ba9d6-374b-4cfd-99af-fd3f87aefcb7",
        "colab": {
          "base_uri": "https://localhost:8080/",
          "height": 225
        }
      },
      "source": [
        "a=np.arange(16).reshape((4,4))\n",
        "stat(a,0)"
      ],
      "execution_count": 0,
      "outputs": [
        {
          "output_type": "stream",
          "text": [
            "\n",
            " Original array\n",
            " [[ 0  1  2  3]\n",
            " [ 4  5  6  7]\n",
            " [ 8  9 10 11]\n",
            " [12 13 14 15]]\n",
            "\n",
            " Mean - [6. 7. 8. 9.]\n",
            "\n",
            " std - [4.47213595 4.47213595 4.47213595 4.47213595]\n",
            "\n",
            " variance - [20. 20. 20. 20.]\n"
          ],
          "name": "stdout"
        }
      ]
    },
    {
      "cell_type": "markdown",
      "metadata": {
        "id": "pa71f24Rttqt",
        "colab_type": "text"
      },
      "source": [
        "**Q96.** Write the Numpy program to compute the covariance matrix of the\n",
        "two given arrays?\n",
        "\n",
        "Sample Output\n",
        "\n",
        "Original array1-\n",
        "[0 1 2]\n",
        "\n",
        "Original array1-\n",
        "[2 1 0]\n",
        "\n",
        "Covariance matrix of the said arrays-\n",
        "[[ 1. -1.]\n",
        "[-1. 1.]]"
      ]
    },
    {
      "cell_type": "code",
      "metadata": {
        "id": "FSk8LZ_iuHoA",
        "colab_type": "code",
        "colab": {}
      },
      "source": [
        "def covariance(a1,a2,n):\n",
        "  a1=np.array(a1)\n",
        "  print('\\n Original array1 -',a1)\n",
        "  a2=np.array(a2)\n",
        "  print('\\n Original array2 -',a2)\n",
        "  a3 = np.stack((a1, a2), axis = n) \n",
        "  print('\\n Covariance matrix of the said arrays -\\n',np.cov(a3))"
      ],
      "execution_count": 0,
      "outputs": []
    },
    {
      "cell_type": "code",
      "metadata": {
        "id": "uAIFPTSIvU5H",
        "colab_type": "code",
        "outputId": "8c683926-5434-41f1-f54b-554048a6efe4",
        "colab": {
          "base_uri": "https://localhost:8080/",
          "height": 155
        }
      },
      "source": [
        "a1=[0, 1, 2]\n",
        "a2=[2, 1, 0]\n",
        "covariance(a1,a2,0)"
      ],
      "execution_count": 0,
      "outputs": [
        {
          "output_type": "stream",
          "text": [
            "\n",
            " Original array1 - [0 1 2]\n",
            "\n",
            " Original array2 - [2 1 0]\n",
            "\n",
            " Covariance matrix of the said arrays -\n",
            " [[ 1. -1.]\n",
            " [-1.  1.]]\n"
          ],
          "name": "stdout"
        }
      ]
    },
    {
      "cell_type": "code",
      "metadata": {
        "id": "KYKws8Ddwpcy",
        "colab_type": "code",
        "outputId": "753b5476-aa4b-46f6-c94d-ab80f31049d7",
        "colab": {
          "base_uri": "https://localhost:8080/",
          "height": 173
        }
      },
      "source": [
        "covariance(a1,a2,1)"
      ],
      "execution_count": 0,
      "outputs": [
        {
          "output_type": "stream",
          "text": [
            "\n",
            " Original array1 - [0 1 2]\n",
            "\n",
            " Original array2 - [2 1 0]\n",
            "\n",
            " Covariance matrix of the said arrays -\n",
            " [[ 2.  0. -2.]\n",
            " [ 0.  0.  0.]\n",
            " [-2.  0.  2.]]\n"
          ],
          "name": "stdout"
        }
      ]
    },
    {
      "cell_type": "markdown",
      "metadata": {
        "id": "H6fW38kwwuKC",
        "colab_type": "text"
      },
      "source": [
        "**Q97.** Write a NumPy program to compute the cross-correlation of two\n",
        "given arrays ?\n",
        "Sample Output\n",
        "\n",
        "Original array1-\n",
        "[0 1 3]\n",
        "\n",
        "Original array1-\n",
        "[2 4 5]\n",
        "\n",
        "Cross-correlation of the said arrays-\n",
        "\n",
        "[ [ 2.33333333 2.16666667 ]\n",
        " [ 2.16666667 2.33333333 ] ]"
      ]
    },
    {
      "cell_type": "code",
      "metadata": {
        "id": "oCIkQbdiw426",
        "colab_type": "code",
        "colab": {}
      },
      "source": [
        "def crosscor(a1,a2):\n",
        "  a1=np.array(a1)\n",
        "  print('\\n Original array1 -',a1)\n",
        "  a2=np.array(a2)\n",
        "  print('\\n Original array2 -',a2)\n",
        "  print('\\n Cross-correlation of the said arrays -\\n',np.cov(a1,a2))"
      ],
      "execution_count": 0,
      "outputs": []
    },
    {
      "cell_type": "code",
      "metadata": {
        "id": "wxj8ZnlcxYKt",
        "colab_type": "code",
        "outputId": "9e3a5269-df5a-46ea-b44f-78b48afef745",
        "colab": {
          "base_uri": "https://localhost:8080/",
          "height": 155
        }
      },
      "source": [
        "a1=[0,1,3]\n",
        "a2=[2,4,5]\n",
        "crosscor(a1,a2)"
      ],
      "execution_count": 0,
      "outputs": [
        {
          "output_type": "stream",
          "text": [
            "\n",
            " Original array1 - [0 1 3]\n",
            "\n",
            " Original array2 - [2 4 5]\n",
            "\n",
            " Cross-correlation of the said arrays -\n",
            " [[2.33333333 2.16666667]\n",
            " [2.16666667 2.33333333]]\n"
          ],
          "name": "stdout"
        }
      ]
    },
    {
      "cell_type": "markdown",
      "metadata": {
        "id": "TQCbXywrxhIb",
        "colab_type": "text"
      },
      "source": [
        "**Q98.** Write the NumPy program to compute Pearson product-moment\n",
        "correlation coefficients of two given arrays?\n",
        "\n",
        "Sample Output\n",
        "\n",
        "Original array1-\n",
        "[0 1 3]\n",
        "\n",
        "Original array1-\n",
        "[2 4 5]\n",
        "\n",
        "Pearson product-moment correlation coefficients of the said arrays-\n",
        "\n",
        "[[1. 0.92857143]\n",
        "[0.92857143 1. ]]"
      ]
    },
    {
      "cell_type": "code",
      "metadata": {
        "id": "Ztr39A0cx7au",
        "colab_type": "code",
        "colab": {}
      },
      "source": [
        "def pearson(a1,a2):\n",
        "  a1=np.array(a1)\n",
        "  print('\\n Original array1 -',a1)\n",
        "  a2=np.array(a2)\n",
        "  print('\\n Original array2 -',a2)\n",
        "  print('\\n Pearson product-moment correlation coefficients of the said arrays- -\\n',np.corrcoef(a1,a2))"
      ],
      "execution_count": 0,
      "outputs": []
    },
    {
      "cell_type": "code",
      "metadata": {
        "id": "dW2W0ailyL37",
        "colab_type": "code",
        "outputId": "8ec988d5-a4b6-4767-f651-380e4a4460a2",
        "colab": {
          "base_uri": "https://localhost:8080/",
          "height": 155
        }
      },
      "source": [
        "a1=[0, 1, 3]\n",
        "a2=[2, 4, 5]\n",
        "pearson(a1,a2)"
      ],
      "execution_count": 0,
      "outputs": [
        {
          "output_type": "stream",
          "text": [
            "\n",
            " Original array1 - [0 1 3]\n",
            "\n",
            " Original array2 - [2 4 5]\n",
            "\n",
            " Pearson product-moment correlation coefficients of the said arrays- -\n",
            " [[1.         0.92857143]\n",
            " [0.92857143 1.        ]]\n"
          ],
          "name": "stdout"
        }
      ]
    },
    {
      "cell_type": "markdown",
      "metadata": {
        "id": "MJ5WHmjWychd",
        "colab_type": "text"
      },
      "source": [
        "**Q99.** Write the python program to count the number of occurrences of\n",
        "each value in a given array of non-negative integers?\n",
        "\n",
        " *Note:* bincount() Function- It count the occurrence of each value in an array of the\n",
        "non- negative integers in the range of the array between the minimum and maximum values\n",
        "including the values that did not occur.\n",
        "\n",
        "Sample Output\n",
        "\n",
        "Original array-\n",
        "[0, 1, 6, 1, 4, 1, 2, 2, 7]\n",
        "\n",
        "Number of occurrences of each value in array-\n",
        "[1 3 2 0 1 0 1 1]"
      ]
    },
    {
      "cell_type": "code",
      "metadata": {
        "id": "w5TYQXMByqlV",
        "colab_type": "code",
        "colab": {}
      },
      "source": [
        "def occuren(a):\n",
        "  a=np.array(a)\n",
        "  print('\\n Original array1 -',a)\n",
        "  print('\\n Number of occurrences of each value in array\\n',np.bincount(a))\n"
      ],
      "execution_count": 0,
      "outputs": []
    },
    {
      "cell_type": "code",
      "metadata": {
        "id": "3lPFg4Z5zhhi",
        "colab_type": "code",
        "outputId": "dff53f59-c000-4b1e-dbcb-5d44477eb3be",
        "colab": {
          "base_uri": "https://localhost:8080/",
          "height": 104
        }
      },
      "source": [
        "occuren([0,1,6,1,4,1,2,2,7])"
      ],
      "execution_count": 0,
      "outputs": [
        {
          "output_type": "stream",
          "text": [
            "\n",
            " Original array1 - [0 1 6 1 4 1 2 2 7]\n",
            "\n",
            " Number of occurrences of each value in array\n",
            " [1 3 2 0 1 0 1 1]\n"
          ],
          "name": "stdout"
        }
      ]
    },
    {
      "cell_type": "markdown",
      "metadata": {
        "id": "dgujkF9S0Ssm",
        "colab_type": "text"
      },
      "source": [
        "**Q100.** Write a Numpy program to compute the histogram of nums\n",
        "against the bins?"
      ]
    },
    {
      "cell_type": "code",
      "metadata": {
        "id": "9fz6yBgdRcle",
        "colab_type": "code",
        "outputId": "969f7355-6029-4882-bdf7-9d2140b1ae72",
        "colab": {
          "base_uri": "https://localhost:8080/",
          "height": 282
        }
      },
      "source": [
        "num=np.random.uniform(2,6,20)\n",
        "df=pd.DataFrame(num,columns=['num'])\n",
        "df.plot(kind='hist',bins=[2, 3, 4, 5, 6])"
      ],
      "execution_count": 0,
      "outputs": [
        {
          "output_type": "execute_result",
          "data": {
            "text/plain": [
              "<matplotlib.axes._subplots.AxesSubplot at 0x7f312f6539e8>"
            ]
          },
          "metadata": {
            "tags": []
          },
          "execution_count": 176
        },
        {
          "output_type": "display_data",
          "data": {
            "image/png": "[encoded data removed]",
            "text/plain": [
              "<Figure size 432x288 with 1 Axes>"
            ]
          },
          "metadata": {
            "tags": [],
            "needs_background": "light"
          }
        }
      ]
    },
    {
      "cell_type": "markdown",
      "metadata": {
        "id": "LvWqNdc70Y8C",
        "colab_type": "text"
      },
      "source": [
        "**Q101.** Write the Python program to add, subtract, multiply and divide\n",
        "two pandas series ?\n",
        "\n",
        "Sample Series- [2, 4, 6, 8, 10], [1, 3, 5, 7, 9]"
      ]
    },
    {
      "cell_type": "code",
      "metadata": {
        "id": "zOqDYC0y0i3B",
        "colab_type": "code",
        "colab": {}
      },
      "source": [
        "def operation(s1,s2):\n",
        "  s1=pd.Series(s1)\n",
        "  print('\\n Series 1\\n','-'*10, sep='')\n",
        "  print(s1)\n",
        "  s2=pd.Series(s2)\n",
        "  print('\\n Series 2\\n','-'*10, sep='')\n",
        "  print(s2)\n",
        "  print('\\n Adding two series\\n','-'*20, sep='')\n",
        "  print(s1+s2)\n",
        "  print('\\n Subtracting two series\\n','-'*30, sep='')\n",
        "  print(s1-s2)\n",
        "  print('\\n Multiplying two series\\n','-'*30, sep='')\n",
        "  print(s1*s2)\n",
        "  print('\\n Dividing two series\\n','-'*30, sep='')\n",
        "  print(s1/s2)"
      ],
      "execution_count": 0,
      "outputs": []
    },
    {
      "cell_type": "code",
      "metadata": {
        "id": "eQ6KwMJv37nf",
        "colab_type": "code",
        "outputId": "8d4ba9f5-747d-4fb6-b5d5-c649bcd45a50",
        "colab": {
          "base_uri": "https://localhost:8080/",
          "height": 950
        }
      },
      "source": [
        "s1=np.arange(2,12,2)\n",
        "s2=np.arange(1,10,2)\n",
        "operation(s1,s2)"
      ],
      "execution_count": 0,
      "outputs": [
        {
          "output_type": "stream",
          "text": [
            "\n",
            " Series 1\n",
            "----------\n",
            "0     2\n",
            "1     4\n",
            "2     6\n",
            "3     8\n",
            "4    10\n",
            "dtype: int64\n",
            "\n",
            " Series 2\n",
            "----------\n",
            "0    1\n",
            "1    3\n",
            "2    5\n",
            "3    7\n",
            "4    9\n",
            "dtype: int64\n",
            "\n",
            " Adding two series\n",
            "--------------------\n",
            "0     3\n",
            "1     7\n",
            "2    11\n",
            "3    15\n",
            "4    19\n",
            "dtype: int64\n",
            "\n",
            " Subtracting two series\n",
            "------------------------------\n",
            "0    1\n",
            "1    1\n",
            "2    1\n",
            "3    1\n",
            "4    1\n",
            "dtype: int64\n",
            "\n",
            " Multiplying two series\n",
            "------------------------------\n",
            "0     2\n",
            "1    12\n",
            "2    30\n",
            "3    56\n",
            "4    90\n",
            "dtype: int64\n",
            "\n",
            " Dividing two series\n",
            "------------------------------\n",
            "0    2.000000\n",
            "1    1.333333\n",
            "2    1.200000\n",
            "3    1.142857\n",
            "4    1.111111\n",
            "dtype: float64\n"
          ],
          "name": "stdout"
        }
      ]
    },
    {
      "cell_type": "markdown",
      "metadata": {
        "id": "g4Y1kfJg7t8A",
        "colab_type": "text"
      },
      "source": [
        "**Q102.** Write a Python program to convert a dictionary to the Pandas\n",
        "Series?"
      ]
    },
    {
      "cell_type": "code",
      "metadata": {
        "id": "kwnHCkLY74Ym",
        "colab_type": "code",
        "colab": {}
      },
      "source": [
        "def conver(a):\n",
        "  print('\\n Converted Series\\n','-'*20, sep='')\n",
        "  print(pd.Series(a))"
      ],
      "execution_count": 0,
      "outputs": []
    },
    {
      "cell_type": "code",
      "metadata": {
        "id": "aE-pILUA8ydi",
        "colab_type": "code",
        "outputId": "31c20e2d-bf6a-426e-e8c9-42af3128b9cd",
        "colab": {
          "base_uri": "https://localhost:8080/",
          "height": 173
        }
      },
      "source": [
        "a={'a': 100, 'b': 200, 'c': 300, 'd': 400, 'e': 800}\n",
        "conver(a)"
      ],
      "execution_count": 0,
      "outputs": [
        {
          "output_type": "stream",
          "text": [
            "\n",
            " Converted Series\n",
            "--------------------\n",
            "a    100\n",
            "b    200\n",
            "c    300\n",
            "d    400\n",
            "e    800\n",
            "dtype: int64\n"
          ],
          "name": "stdout"
        }
      ]
    },
    {
      "cell_type": "markdown",
      "metadata": {
        "id": "aEy4Z1Ud9Jmy",
        "colab_type": "text"
      },
      "source": [
        "**Q103.** Write a python program to change the data type of given a\n",
        "column or a Series?\n",
        "\n",
        "\n",
        "Sample Series\n",
        "\n",
        "Original Data Series\n",
        "\n",
        "0 100\n",
        "\n",
        "1 200\n",
        "\n",
        "2 python\n",
        "\n",
        "3 300.12\n",
        "\n",
        "4 400\n",
        "\n",
        "dtype- object\n",
        "\n",
        "Change the said data type to numeric\n",
        "\n",
        "0 100.00\n",
        "\n",
        "1 200.00\n",
        "\n",
        "2 NaN\n",
        "\n",
        "3 300.12\n",
        "\n",
        "4 400.00\n",
        "\n",
        "dtype- float64"
      ]
    },
    {
      "cell_type": "code",
      "metadata": {
        "id": "vT9HIw9cSeUr",
        "colab_type": "code",
        "outputId": "ab77b27a-e88f-4a29-eec9-d0427e9624e6",
        "colab": {
          "base_uri": "https://localhost:8080/",
          "height": 328
        }
      },
      "source": [
        "s=[100, 200, 'python', 300.12, 400.00]\n",
        "s=pd.Series(s)\n",
        "print('\\n Original Data Series\\n','-'*30, sep='')\n",
        "print(s)\n",
        "s=pd.to_numeric(s,errors='coerce') #invalid parsing set as NaN by applying 'coerce'\n",
        "print('\\n Change the said data type to numeric\\n','-'*40, sep='')\n",
        "print(s)"
      ],
      "execution_count": 0,
      "outputs": [
        {
          "output_type": "stream",
          "text": [
            "\n",
            " Original Data Series\n",
            "------------------------------\n",
            "0       100\n",
            "1       200\n",
            "2    python\n",
            "3    300.12\n",
            "4       400\n",
            "dtype: object\n",
            "\n",
            " Change the said data type to numeric\n",
            "----------------------------------------\n",
            "0    100.00\n",
            "1    200.00\n",
            "2       NaN\n",
            "3    300.12\n",
            "4    400.00\n",
            "dtype: float64\n"
          ],
          "name": "stdout"
        }
      ]
    },
    {
      "cell_type": "markdown",
      "metadata": {
        "id": "vHxDN95ifyHs",
        "colab_type": "text"
      },
      "source": [
        "**Q104.** Write the python pandas program to convert the first column of a\n",
        "DataFrame as a Series?"
      ]
    },
    {
      "cell_type": "code",
      "metadata": {
        "id": "Btndu0QBgA3W",
        "colab_type": "code",
        "outputId": "676e2515-40be-4910-9127-aa5e968bd7ca",
        "colab": {
          "base_uri": "https://localhost:8080/",
          "height": 380
        }
      },
      "source": [
        "df=pd.DataFrame({'col1':[1, 2, 3, 4, 7, 11],'col2':[4, 5, 6, 5, 9, 0],'col3':[7, 5, 8, 12, 1, 11]})\n",
        "print('\\n Original DataFrame\\n','-'*20, sep='')\n",
        "print(df)\n",
        "s=pd.Series(df['col1'])\n",
        "print('\\n 1st column as a Series\\n','-'*30,sep='-')\n",
        "print(s)\n",
        "print(type(s))"
      ],
      "execution_count": 0,
      "outputs": [
        {
          "output_type": "stream",
          "text": [
            "\n",
            " Original DataFrame\n",
            "--------------------\n",
            "   col1  col2  col3\n",
            "0     1     4     7\n",
            "1     2     5     5\n",
            "2     3     6     8\n",
            "3     4     5    12\n",
            "4     7     9     1\n",
            "5    11     0    11\n",
            "\n",
            " 1st column as a Series\n",
            "-------------------------------\n",
            "0     1\n",
            "1     2\n",
            "2     3\n",
            "3     4\n",
            "4     7\n",
            "5    11\n",
            "Name: col1, dtype: int64\n",
            "<class 'pandas.core.series.Series'>\n"
          ],
          "name": "stdout"
        }
      ]
    },
    {
      "cell_type": "markdown",
      "metadata": {
        "id": "ewbssGz19q8-",
        "colab_type": "text"
      },
      "source": [
        "**Q105.** Write a pandas program to create the mean and standard\n",
        "deviation of the data of a given Series?"
      ]
    },
    {
      "cell_type": "code",
      "metadata": {
        "id": "R-55VXW393ua",
        "colab_type": "code",
        "outputId": "52e9a761-534a-4a4d-84e9-13811e7522db",
        "colab": {
          "base_uri": "https://localhost:8080/",
          "height": 415
        }
      },
      "source": [
        "a=[1, 2, 3, 4, 5, 6, 7, 8, 9, 5, 3]\n",
        "s=pd.Series(a)\n",
        "print('\\n Original DataSeries\\n','-'*24, sep='')\n",
        "print(s)\n",
        "print('\\nMean of the said Data Series\\n','-'*40, sep='')\n",
        "print(np.mean(s))\n",
        "print('\\nStandard Deviation of the said Data Series\\n','-'*50, sep='')\n",
        "print(np.std(s))"
      ],
      "execution_count": 0,
      "outputs": [
        {
          "output_type": "stream",
          "text": [
            "\n",
            " Original DataSeries\n",
            "------------------------\n",
            "0     1\n",
            "1     2\n",
            "2     3\n",
            "3     4\n",
            "4     5\n",
            "5     6\n",
            "6     7\n",
            "7     8\n",
            "8     9\n",
            "9     5\n",
            "10    3\n",
            "dtype: int64\n",
            "\n",
            "Mean of the said Data Series\n",
            "----------------------------------------\n",
            "4.818181818181818\n",
            "\n",
            "Standard Deviation of the said Data Series\n",
            "--------------------------------------------------\n",
            "2.405228464604173\n"
          ],
          "name": "stdout"
        }
      ]
    },
    {
      "cell_type": "markdown",
      "metadata": {
        "id": "NOxdW0Gt_eoX",
        "colab_type": "text"
      },
      "source": [
        "**Q106.** Write a pandas program to get powers of an array values\n",
        "element-wise?\n",
        "\n",
        "Note: First array elements raised the powers from the second array."
      ]
    },
    {
      "cell_type": "code",
      "metadata": {
        "id": "1UCYyjCucott",
        "colab_type": "code",
        "colab": {}
      },
      "source": [
        "def output(a1,a2):\n",
        "  a1=np.array(a1)\n",
        "  print('\\n array1\\n',a1)\n",
        "  a2=np.array(a2)\n",
        "  print('\\n array2\\n',a2)\n",
        "  res=np.power(a1,a2)\n",
        "  print('\\n Array elements raised the powers from the second array \\n',res)"
      ],
      "execution_count": 0,
      "outputs": []
    },
    {
      "cell_type": "code",
      "metadata": {
        "id": "kO-cvKRPdflG",
        "colab_type": "code",
        "outputId": "ca6fcfaa-2e3c-43bb-da01-c8675bb1e8ad",
        "colab": {
          "base_uri": "https://localhost:8080/",
          "height": 173
        }
      },
      "source": [
        "a1 = [2, 2, 2, 2, 2] \n",
        "a2 = [2, 3, 4, 5, 6] \n",
        "output(a1,a2)"
      ],
      "execution_count": 0,
      "outputs": [
        {
          "output_type": "stream",
          "text": [
            "\n",
            " array1\n",
            " [2 2 2 2 2]\n",
            "\n",
            " array2\n",
            " [2 3 4 5 6]\n",
            "\n",
            " Array elements raised the powers from the second array \n",
            " [ 4  8 16 32 64]\n"
          ],
          "name": "stdout"
        }
      ]
    },
    {
      "cell_type": "markdown",
      "metadata": {
        "id": "dZzFRBciOJx3",
        "colab_type": "text"
      },
      "source": [
        "**Q107.** Write the pandas program to get the first 3 rows of a given\n",
        "DataFrame?\n",
        "\n",
        "Sample Python dictionary data and list labels\n",
        "\n",
        "exam_data = {'name': ['Anastasia', 'Dima', 'Katherine', 'James', 'Emily', 'Michael',\n",
        "'Matthew', 'Laura', 'Kevin', 'Jonas'],\n",
        "'score': [12.5, 9, 16.5, np.nan, 9, 20, 14.5, np.nan, 8, 19],\n",
        "'attempts'- [1, 3, 2, 3, 2, 3, 1, 1, 2, 1],\n",
        "'qualify'- [ 'yes', 'no', 'yes' , 'no', ' no ', ' yes ', 'yes', 'no', 'no', 'yes' ] }\n",
        "\n",
        "labels = ['a', 'b', 'c', 'd', 'e', 'f', 'g', 'h', 'i', 'j' ]\n",
        "\n",
        "Expected Output\n",
        "\n",
        "First three rows of the data frame\n",
        "\n",
        "attempts name qualify score\n",
        "\n",
        "a 1 Anastasia yes 12.5\n",
        "\n",
        "b 3 Dima no 9.0\n",
        "\n",
        "c 2 Katherine yes 16.5\n"
      ]
    },
    {
      "cell_type": "code",
      "metadata": {
        "id": "8Hj9qhDUOjgD",
        "colab_type": "code",
        "outputId": "0e989aa2-f154-47a9-eab0-df7fb8653fe2",
        "colab": {
          "base_uri": "https://localhost:8080/",
          "height": 380
        }
      },
      "source": [
        "exam_data={'attempts': [1, 3, 2, 3, 2, 3, 1, 1, 2, 1],'name': ['Anastasia', 'Dima', 'Katherine', 'James', 'Emily', 'Michael',\n",
        "'Matthew', 'Laura', 'Kevin', 'Jonas'],'qualify': [ 'yes', 'no', 'yes' , 'no', 'no', 'yes', 'yes', 'no', 'no', 'yes' ],\n",
        "'score': [12.5, 9, 16.5, np.nan, 9, 20, 14.5, np.nan, 8, 19]}\n",
        "print('\\n Original DataFrame\\n','-'*24, sep='')\n",
        "labels = ['a', 'b', 'c', 'd', 'e', 'f', 'g', 'h', 'i', 'j' ]\n",
        "df=pd.DataFrame(exam_data,index=labels)\n",
        "print(df)\n",
        "print('\\n First three rows of the data frame\\n','-'*40, sep='')\n",
        "print(df.iloc[0:3])"
      ],
      "execution_count": 0,
      "outputs": [
        {
          "output_type": "stream",
          "text": [
            "\n",
            " Original DataFrame\n",
            "------------------------\n",
            "   attempts       name qualify  score\n",
            "a         1  Anastasia     yes   12.5\n",
            "b         3       Dima      no    9.0\n",
            "c         2  Katherine     yes   16.5\n",
            "d         3      James      no    NaN\n",
            "e         2      Emily      no    9.0\n",
            "f         3    Michael     yes   20.0\n",
            "g         1    Matthew     yes   14.5\n",
            "h         1      Laura      no    NaN\n",
            "i         2      Kevin      no    8.0\n",
            "j         1      Jonas     yes   19.0\n",
            "\n",
            " First three rows of the data frame\n",
            "----------------------------------------\n",
            "   attempts       name qualify  score\n",
            "a         1  Anastasia     yes   12.5\n",
            "b         3       Dima      no    9.0\n",
            "c         2  Katherine     yes   16.5\n"
          ],
          "name": "stdout"
        }
      ]
    },
    {
      "cell_type": "markdown",
      "metadata": {
        "id": "A-XP1PgKV3aY",
        "colab_type": "text"
      },
      "source": [
        "**Q108:** Write the pandas program to select the specified columns and\n",
        " the rows from above given data frame?"
      ]
    },
    {
      "cell_type": "code",
      "metadata": {
        "id": "mGOQA6fLV6Z_",
        "colab_type": "code",
        "outputId": "73edbfae-484a-49be-c847-bf4965886be8",
        "colab": {
          "base_uri": "https://localhost:8080/",
          "height": 397
        }
      },
      "source": [
        "print('\\n Original DataFrame\\n','-'*24, sep='')\n",
        "print(df)\n",
        "print('\\nSelecting rows and column from Dataframe\\n','-'*46, sep='')\n",
        "print(df.iloc[[1,3,5,6],[1,3]])"
      ],
      "execution_count": 0,
      "outputs": [
        {
          "output_type": "stream",
          "text": [
            "\n",
            " Original DataFrame\n",
            "------------------------\n",
            "   attempts       name qualify  score\n",
            "a         1  Anastasia     yes   12.5\n",
            "b         3       Dima      no    9.0\n",
            "c         2  Katherine     yes   16.5\n",
            "d         3      James      no    NaN\n",
            "e         2      Emily      no    9.0\n",
            "f         3    Michael     yes   20.0\n",
            "g         1    Matthew     yes   14.5\n",
            "h         1      Laura      no    NaN\n",
            "i         2      Kevin      no    8.0\n",
            "j         1      Jonas     yes   19.0\n",
            "\n",
            "Selecting rows and column from Dataframe\n",
            "----------------------------------------------\n",
            "      name  score\n",
            "b     Dima    9.0\n",
            "d    James    NaN\n",
            "f  Michael   20.0\n",
            "g  Matthew   14.5\n"
          ],
          "name": "stdout"
        }
      ]
    },
    {
      "cell_type": "markdown",
      "metadata": {
        "id": "GNLkmBZgZlwb",
        "colab_type": "text"
      },
      "source": [
        "**Q109.** Write the pandas program to calculate mean score for each\n",
        "different student in DataFrame?"
      ]
    },
    {
      "cell_type": "code",
      "metadata": {
        "id": "FrWWphy3bHNI",
        "colab_type": "code",
        "outputId": "fc0f1070-7873-4295-ff03-d9aa58019de4",
        "colab": {
          "base_uri": "https://localhost:8080/",
          "height": 86
        }
      },
      "source": [
        "print('\\nMean score for each different student in DataFrame:\\n','-'*50,sep='-')\n",
        "print(df['score'].mean())"
      ],
      "execution_count": 0,
      "outputs": [
        {
          "output_type": "stream",
          "text": [
            "\n",
            "Mean score for each different student in DataFrame:\n",
            "---------------------------------------------------\n",
            "13.5625\n"
          ],
          "name": "stdout"
        }
      ]
    },
    {
      "cell_type": "markdown",
      "metadata": {
        "id": "VE0XkCA7ktOP",
        "colab_type": "text"
      },
      "source": [
        "**Q110.** Write the Pandas program to rename columns of a given\n",
        "DataFrame ?"
      ]
    },
    {
      "cell_type": "code",
      "metadata": {
        "id": "VOAox9Y-dtKB",
        "colab_type": "code",
        "outputId": "efdf20b7-cee0-49cc-d90c-acd942e424cb",
        "colab": {
          "base_uri": "https://localhost:8080/",
          "height": 259
        }
      },
      "source": [
        "a=np.arange(1,10).reshape((3,3)).T\n",
        "labels=['col1','col2','col3']\n",
        "df=pd.DataFrame(a,columns=labels)\n",
        "print('\\nOriginal DataFrame\\n','-'*20, sep='')\n",
        "print(df)\n",
        "df.rename(columns={'col1':'Column1','col2':'Column2','col3':'Column3'},inplace=True)\n",
        "print('\\nNew data frame after renaming columns:\\n','-'*45, sep='')\n",
        "print(df)\n"
      ],
      "execution_count": 0,
      "outputs": [
        {
          "output_type": "stream",
          "text": [
            "\n",
            "Original DataFrame\n",
            "--------------------\n",
            "   col1  col2  col3\n",
            "0     1     4     7\n",
            "1     2     5     8\n",
            "2     3     6     9\n",
            "\n",
            "New data frame after renaming columns:\n",
            "---------------------------------------------\n",
            "   Column1  Column2  Column3\n",
            "0        1        4        7\n",
            "1        2        5        8\n",
            "2        3        6        9\n"
          ],
          "name": "stdout"
        }
      ]
    },
    {
      "cell_type": "markdown",
      "metadata": {
        "id": "Y3IsvgXOmi9c",
        "colab_type": "text"
      },
      "source": [
        "**Q111.** Write a pandas program to count city-wise number of people from\n",
        "a given of data set (city, name of the person)?\n",
        "\n",
        "Sample data-\n",
        "\n",
        "city Number of people\n",
        "\n",
        "0 California 4\n",
        "\n",
        "1 Georgia 2\n",
        "\n",
        "2 Los Angeles 4"
      ]
    },
    {
      "cell_type": "code",
      "metadata": {
        "id": "EC_b8aPqmvll",
        "colab_type": "code",
        "outputId": "b4a05251-0a91-44cb-bf3e-5ef2960cf06e",
        "colab": {
          "base_uri": "https://localhost:8080/",
          "height": 380
        }
      },
      "source": [
        "df = pd.DataFrame({'name': ['Anastasia', 'Dima', 'Katherine', 'James', 'Emily', 'Michael', 'Matthew', 'Laura', 'Kevin', 'Jonas'],\n",
        "'city': ['California', 'Los Angeles', 'California', 'California', 'California', 'Los Angeles', 'Los Angeles', 'Georgia', 'Georgia', 'Los Angeles']})\n",
        "print('\\nOriginal DataFrame\\n','-'*30, sep='')\n",
        "print(df)\n",
        "count=df.groupby(['city']).size().reset_index(name='Number of People')\n",
        "print('\\n Count\\n','-'*40, sep='')\n",
        "print(count)\n",
        "\n"
      ],
      "execution_count": 0,
      "outputs": [
        {
          "output_type": "stream",
          "text": [
            "\n",
            "Original DataFrame\n",
            "------------------------------\n",
            "        name         city\n",
            "0  Anastasia   California\n",
            "1       Dima  Los Angeles\n",
            "2  Katherine   California\n",
            "3      James   California\n",
            "4      Emily   California\n",
            "5    Michael  Los Angeles\n",
            "6    Matthew  Los Angeles\n",
            "7      Laura      Georgia\n",
            "8      Kevin      Georgia\n",
            "9      Jonas  Los Angeles\n",
            "\n",
            " Count\n",
            "----------------------------------------\n",
            "          city  Number of People\n",
            "0   California                 4\n",
            "1      Georgia                 2\n",
            "2  Los Angeles                 4\n"
          ],
          "name": "stdout"
        }
      ]
    },
    {
      "cell_type": "markdown",
      "metadata": {
        "id": "f3OAJZckwZ-1",
        "colab_type": "text"
      },
      "source": [
        "**Q112.** Write a pandas program to widen output display to see more\n",
        "columns?"
      ]
    },
    {
      "cell_type": "code",
      "metadata": {
        "id": "YJFQIAItpZpK",
        "colab_type": "code",
        "outputId": "36780842-4ee3-410e-92ce-4f873f79180b",
        "colab": {
          "base_uri": "https://localhost:8080/",
          "height": 173
        }
      },
      "source": [
        "a=np.arange(1,76).reshape((3,25))\n",
        "labels=['a','b','c','d','e','f','g','h','i','j','k','l','m','n','o','p','q','r','s','t','u','v','w','x','y']\n",
        "df=pd.DataFrame(a,columns=labels)\n",
        "print('\\nOriginal DataFrame\\n','-'*20, sep='')\n",
        "print(df)"
      ],
      "execution_count": 0,
      "outputs": [
        {
          "output_type": "stream",
          "text": [
            "\n",
            "Original DataFrame\n",
            "--------------------\n",
            "    a   b   c   d   e   f   g   h   i  ...   q   r   s   t   u   v   w   x   y\n",
            "0   1   2   3   4   5   6   7   8   9  ...  17  18  19  20  21  22  23  24  25\n",
            "1  26  27  28  29  30  31  32  33  34  ...  42  43  44  45  46  47  48  49  50\n",
            "2  51  52  53  54  55  56  57  58  59  ...  67  68  69  70  71  72  73  74  75\n",
            "\n",
            "[3 rows x 25 columns]\n"
          ],
          "name": "stdout"
        }
      ]
    },
    {
      "cell_type": "code",
      "metadata": {
        "id": "WMgsMGNjs2BC",
        "colab_type": "code",
        "outputId": "eafae0cb-cd73-4192-ef7f-d36b0f2f9acc",
        "colab": {
          "base_uri": "https://localhost:8080/",
          "height": 225
        }
      },
      "source": [
        "print('\\nAfter widening display to see more columns\\n','-'*50, sep='')\n",
        "pd.set_option(\"display.max_columns\", 100) # maximum column is diaplayed 100\n",
        "print(df)"
      ],
      "execution_count": 0,
      "outputs": [
        {
          "output_type": "stream",
          "text": [
            "\n",
            "After widening display to see more columns\n",
            "--------------------------------------------------\n",
            "    a   b   c   d   e   f   g   h   i   j   k   l   m   n   o   p   q   r   s  \\\n",
            "0   1   2   3   4   5   6   7   8   9  10  11  12  13  14  15  16  17  18  19   \n",
            "1  26  27  28  29  30  31  32  33  34  35  36  37  38  39  40  41  42  43  44   \n",
            "2  51  52  53  54  55  56  57  58  59  60  61  62  63  64  65  66  67  68  69   \n",
            "\n",
            "    t   u   v   w   x   y  \n",
            "0  20  21  22  23  24  25  \n",
            "1  45  46  47  48  49  50  \n",
            "2  70  71  72  73  74  75  \n"
          ],
          "name": "stdout"
        }
      ]
    },
    {
      "cell_type": "markdown",
      "metadata": {
        "id": "MT8lHXFlNtYz",
        "colab_type": "text"
      },
      "source": [
        "**Q113.** Write a pandas program to convert the data frame column type\n",
        "from string to DateTime?"
      ]
    },
    {
      "cell_type": "code",
      "metadata": {
        "id": "M9_G5JRZcMne",
        "colab_type": "code",
        "outputId": "245675f5-d7c4-4e55-9858-1fd80d6b3570",
        "colab": {
          "base_uri": "https://localhost:8080/",
          "height": 259
        }
      },
      "source": [
        "d=['3/11/2000', '3/12/2000', '3/13/2000']\n",
        "s=pd.Series(d)\n",
        "print('\\nString Date:\\n','-'*30, sep='')\n",
        "print(s)\n",
        "t=pd.to_datetime(pd.Series(s))\n",
        "df = pd.DataFrame(t)\n",
        "print('\\nOriginal DataFrame (string to datetime):\\n','-'*50, sep='')\n",
        "print(df)"
      ],
      "execution_count": 0,
      "outputs": [
        {
          "output_type": "stream",
          "text": [
            "\n",
            "String Date:\n",
            "------------------------------\n",
            "0    3/11/2000\n",
            "1    3/12/2000\n",
            "2    3/13/2000\n",
            "dtype: object\n",
            "\n",
            "Original DataFrame (string to datetime):\n",
            "--------------------------------------------------\n",
            "           0\n",
            "0 2000-03-11\n",
            "1 2000-03-12\n",
            "2 2000-03-13\n"
          ],
          "name": "stdout"
        }
      ]
    },
    {
      "cell_type": "markdown",
      "metadata": {
        "id": "u1MZp_4veCZf",
        "colab_type": "text"
      },
      "source": [
        "**Q114.** Write a pandas program to append the data to an empty\n",
        "DataFrame?"
      ]
    },
    {
      "cell_type": "code",
      "metadata": {
        "id": "_Nx2_DZVeW67",
        "colab_type": "code",
        "outputId": "b96a4965-f650-4026-9ad8-c1d2fc1f7527",
        "colab": {
          "base_uri": "https://localhost:8080/",
          "height": 138
        }
      },
      "source": [
        "df = pd.DataFrame() #Create empty Dataframe\n",
        "data = pd.DataFrame({\"col1\": np.arange(3),\"col2\": np.arange(3)})\n",
        "print('\\nAfter appending some data:\\n','-'*30, sep='')\n",
        "df = df.append(data)\n",
        "print(df)"
      ],
      "execution_count": 0,
      "outputs": [
        {
          "output_type": "stream",
          "text": [
            "\n",
            "After appending some data:\n",
            "------------------------------\n",
            "   col1  col2\n",
            "0     0     0\n",
            "1     1     1\n",
            "2     2     2\n"
          ],
          "name": "stdout"
        }
      ]
    },
    {
      "cell_type": "markdown",
      "metadata": {
        "id": "6Ye6gDE1gfkQ",
        "colab_type": "text"
      },
      "source": [
        "**Q115.** Write a pandas program to count the number of columns of a\n",
        "DataFrame?"
      ]
    },
    {
      "cell_type": "code",
      "metadata": {
        "id": "100C20opgiw6",
        "colab_type": "code",
        "outputId": "8837822f-255b-4dd0-f58b-8952fc9ebe90",
        "colab": {
          "base_uri": "https://localhost:8080/",
          "height": 190
        }
      },
      "source": [
        "a=np.arange(1,17).reshape((4,4)).T\n",
        "labels=['col1','col2','col3','col4']\n",
        "df=pd.DataFrame(a,columns=labels)\n",
        "print('\\nOriginal DataFrame\\n','-'*20, sep='')\n",
        "print(df)\n",
        "print('\\n Number of Columns -',len(df.axes[0]))"
      ],
      "execution_count": 0,
      "outputs": [
        {
          "output_type": "stream",
          "text": [
            "\n",
            "Original DataFrame\n",
            "--------------------\n",
            "   col1  col2  col3  col4\n",
            "0     1     5     9    13\n",
            "1     2     6    10    14\n",
            "2     3     7    11    15\n",
            "3     4     8    12    16\n",
            "\n",
            " Number of Columns - 4\n"
          ],
          "name": "stdout"
        }
      ]
    },
    {
      "cell_type": "markdown",
      "metadata": {
        "id": "Ak2y_TwYhqA_",
        "colab_type": "text"
      },
      "source": [
        "**Q116.** Write a Pandas program to remove the last n rows of a given\n",
        "DataFrame "
      ]
    },
    {
      "cell_type": "code",
      "metadata": {
        "id": "GtK53ThUhv-s",
        "colab_type": "code",
        "outputId": "bd32e27d-f6e9-49ca-dd9b-a70644bbca17",
        "colab": {
          "base_uri": "https://localhost:8080/",
          "height": 311
        }
      },
      "source": [
        "a=[[1,4,7],[2,5,5],[3,6,8],[4,9,12],[7,5,1],[11,0,11]]\n",
        "labels=['col1','col2','col3']\n",
        "df=pd.DataFrame(a,columns=labels)\n",
        "print('\\nOriginal DataFrame\\n','-'*20, sep='')\n",
        "print(df)\n",
        "x=len(df.axes[0])\n",
        "df=df.drop([x-1,x-2,x-3])\n",
        "print('\\n After removing last 3 rows of the said DataFrame\\n','-'*60, sep='')\n",
        "print(df)"
      ],
      "execution_count": 0,
      "outputs": [
        {
          "output_type": "stream",
          "text": [
            "\n",
            "Original DataFrame\n",
            "--------------------\n",
            "   col1  col2  col3\n",
            "0     1     4     7\n",
            "1     2     5     5\n",
            "2     3     6     8\n",
            "3     4     9    12\n",
            "4     7     5     1\n",
            "5    11     0    11\n",
            "\n",
            " After removing last 3 rows of the said DataFrame\n",
            "------------------------------------------------------------\n",
            "   col1  col2  col3\n",
            "0     1     4     7\n",
            "1     2     5     5\n",
            "2     3     6     8\n"
          ],
          "name": "stdout"
        }
      ]
    },
    {
      "cell_type": "markdown",
      "metadata": {
        "id": "5zxc00ivefN_",
        "colab_type": "text"
      },
      "source": [
        "**Q117.** Write a Pandas program to import excel data (coalpublic2013.xlsx\n",
        ") into a Pandas data frame."
      ]
    },
    {
      "cell_type": "code",
      "metadata": {
        "id": "DVWBn6bvcnXW",
        "colab_type": "code",
        "outputId": "53d16b06-d93f-4e56-b74c-d197fe376cbd",
        "colab": {
          "base_uri": "https://localhost:8080/",
          "height": 198
        }
      },
      "source": [
        "df=pd.read_excel('coalpublic2013.xlsx')\n",
        "df.head()"
      ],
      "execution_count": 0,
      "outputs": [
        {
          "output_type": "execute_result",
          "data": {
            "text/html": [
              "<div>\n",
              "<style scoped>\n",
              "    .dataframe tbody tr th:only-of-type {\n",
              "        vertical-align: middle;\n",
              "    }\n",
              "\n",
              "    .dataframe tbody tr th {\n",
              "        vertical-align: top;\n",
              "    }\n",
              "\n",
              "    .dataframe thead th {\n",
              "        text-align: right;\n",
              "    }\n",
              "</style>\n",
              "<table border=\"1\" class=\"dataframe\">\n",
              "  <thead>\n",
              "    <tr style=\"text-align: right;\">\n",
              "      <th></th>\n",
              "      <th>Year</th>\n",
              "      <th>MSHA ID</th>\n",
              "      <th>Mine_Name</th>\n",
              "      <th>Production</th>\n",
              "      <th>Labor_Hours</th>\n",
              "    </tr>\n",
              "  </thead>\n",
              "  <tbody>\n",
              "    <tr>\n",
              "      <th>0</th>\n",
              "      <td>2013</td>\n",
              "      <td>103381</td>\n",
              "      <td>Tacoa Highwall Miner</td>\n",
              "      <td>56004</td>\n",
              "      <td>22392</td>\n",
              "    </tr>\n",
              "    <tr>\n",
              "      <th>1</th>\n",
              "      <td>2013</td>\n",
              "      <td>103404</td>\n",
              "      <td>Reid School Mine</td>\n",
              "      <td>28807</td>\n",
              "      <td>28447</td>\n",
              "    </tr>\n",
              "    <tr>\n",
              "      <th>2</th>\n",
              "      <td>2013</td>\n",
              "      <td>100759</td>\n",
              "      <td>North River #1 Underground Min</td>\n",
              "      <td>1440115</td>\n",
              "      <td>474784</td>\n",
              "    </tr>\n",
              "    <tr>\n",
              "      <th>3</th>\n",
              "      <td>2013</td>\n",
              "      <td>103246</td>\n",
              "      <td>Bear Creek</td>\n",
              "      <td>87587</td>\n",
              "      <td>29193</td>\n",
              "    </tr>\n",
              "    <tr>\n",
              "      <th>4</th>\n",
              "      <td>2013</td>\n",
              "      <td>103451</td>\n",
              "      <td>Knight Mine</td>\n",
              "      <td>147499</td>\n",
              "      <td>46393</td>\n",
              "    </tr>\n",
              "  </tbody>\n",
              "</table>\n",
              "</div>"
            ],
            "text/plain": [
              "   Year  MSHA ID                       Mine_Name  Production  Labor_Hours\n",
              "0  2013   103381            Tacoa Highwall Miner       56004        22392\n",
              "1  2013   103404                Reid School Mine       28807        28447\n",
              "2  2013   100759  North River #1 Underground Min     1440115       474784\n",
              "3  2013   103246                      Bear Creek       87587        29193\n",
              "4  2013   103451                     Knight Mine      147499        46393"
            ]
          },
          "metadata": {
            "tags": []
          },
          "execution_count": 197
        }
      ]
    },
    {
      "cell_type": "markdown",
      "metadata": {
        "id": "KhdZ5h6mfQF9",
        "colab_type": "text"
      },
      "source": [
        "**Q118.** Write a Pandas program to import excel data (coalpublic2013.xlsx\n",
        ") into a data frame and find details where \"Mine Name\" starts with\n",
        "\"P."
      ]
    },
    {
      "cell_type": "code",
      "metadata": {
        "id": "5xIuis-z3jsr",
        "colab_type": "code",
        "outputId": "c9209bf8-9b5a-4952-8210-4cacbe98491e",
        "colab": {
          "base_uri": "https://localhost:8080/",
          "height": 198
        }
      },
      "source": [
        "df.head()"
      ],
      "execution_count": 0,
      "outputs": [
        {
          "output_type": "execute_result",
          "data": {
            "text/html": [
              "<div>\n",
              "<style scoped>\n",
              "    .dataframe tbody tr th:only-of-type {\n",
              "        vertical-align: middle;\n",
              "    }\n",
              "\n",
              "    .dataframe tbody tr th {\n",
              "        vertical-align: top;\n",
              "    }\n",
              "\n",
              "    .dataframe thead th {\n",
              "        text-align: right;\n",
              "    }\n",
              "</style>\n",
              "<table border=\"1\" class=\"dataframe\">\n",
              "  <thead>\n",
              "    <tr style=\"text-align: right;\">\n",
              "      <th></th>\n",
              "      <th>Year</th>\n",
              "      <th>MSHA ID</th>\n",
              "      <th>Mine_Name</th>\n",
              "      <th>Production</th>\n",
              "      <th>Labor_Hours</th>\n",
              "    </tr>\n",
              "  </thead>\n",
              "  <tbody>\n",
              "    <tr>\n",
              "      <th>0</th>\n",
              "      <td>2013</td>\n",
              "      <td>103381</td>\n",
              "      <td>Tacoa Highwall Miner</td>\n",
              "      <td>56004</td>\n",
              "      <td>22392</td>\n",
              "    </tr>\n",
              "    <tr>\n",
              "      <th>1</th>\n",
              "      <td>2013</td>\n",
              "      <td>103404</td>\n",
              "      <td>Reid School Mine</td>\n",
              "      <td>28807</td>\n",
              "      <td>28447</td>\n",
              "    </tr>\n",
              "    <tr>\n",
              "      <th>2</th>\n",
              "      <td>2013</td>\n",
              "      <td>100759</td>\n",
              "      <td>North River #1 Underground Min</td>\n",
              "      <td>1440115</td>\n",
              "      <td>474784</td>\n",
              "    </tr>\n",
              "    <tr>\n",
              "      <th>3</th>\n",
              "      <td>2013</td>\n",
              "      <td>103246</td>\n",
              "      <td>Bear Creek</td>\n",
              "      <td>87587</td>\n",
              "      <td>29193</td>\n",
              "    </tr>\n",
              "    <tr>\n",
              "      <th>4</th>\n",
              "      <td>2013</td>\n",
              "      <td>103451</td>\n",
              "      <td>Knight Mine</td>\n",
              "      <td>147499</td>\n",
              "      <td>46393</td>\n",
              "    </tr>\n",
              "  </tbody>\n",
              "</table>\n",
              "</div>"
            ],
            "text/plain": [
              "   Year  MSHA ID                       Mine_Name  Production  Labor_Hours\n",
              "0  2013   103381            Tacoa Highwall Miner       56004        22392\n",
              "1  2013   103404                Reid School Mine       28807        28447\n",
              "2  2013   100759  North River #1 Underground Min     1440115       474784\n",
              "3  2013   103246                      Bear Creek       87587        29193\n",
              "4  2013   103451                     Knight Mine      147499        46393"
            ]
          },
          "metadata": {
            "tags": []
          },
          "execution_count": 198
        }
      ]
    },
    {
      "cell_type": "code",
      "metadata": {
        "id": "Ibj6CWnFrIk3",
        "colab_type": "code",
        "outputId": "4c024a94-a022-4434-9171-755e6716db7f",
        "colab": {
          "base_uri": "https://localhost:8080/",
          "height": 168
        }
      },
      "source": [
        "df2=df[df['Mine_Name'].str.startswith('P')]\n",
        "df2"
      ],
      "execution_count": 0,
      "outputs": [
        {
          "output_type": "execute_result",
          "data": {
            "text/html": [
              "<div>\n",
              "<style scoped>\n",
              "    .dataframe tbody tr th:only-of-type {\n",
              "        vertical-align: middle;\n",
              "    }\n",
              "\n",
              "    .dataframe tbody tr th {\n",
              "        vertical-align: top;\n",
              "    }\n",
              "\n",
              "    .dataframe thead th {\n",
              "        text-align: right;\n",
              "    }\n",
              "</style>\n",
              "<table border=\"1\" class=\"dataframe\">\n",
              "  <thead>\n",
              "    <tr style=\"text-align: right;\">\n",
              "      <th></th>\n",
              "      <th>Year</th>\n",
              "      <th>MSHA ID</th>\n",
              "      <th>Mine_Name</th>\n",
              "      <th>Production</th>\n",
              "      <th>Labor_Hours</th>\n",
              "    </tr>\n",
              "  </thead>\n",
              "  <tbody>\n",
              "    <tr>\n",
              "      <th>13</th>\n",
              "      <td>2013</td>\n",
              "      <td>103332</td>\n",
              "      <td>Powhatan Mine</td>\n",
              "      <td>140521</td>\n",
              "      <td>61394</td>\n",
              "    </tr>\n",
              "    <tr>\n",
              "      <th>18</th>\n",
              "      <td>2013</td>\n",
              "      <td>102976</td>\n",
              "      <td>Piney Woods Preparation Plant</td>\n",
              "      <td>0</td>\n",
              "      <td>14828</td>\n",
              "    </tr>\n",
              "    <tr>\n",
              "      <th>19</th>\n",
              "      <td>2013</td>\n",
              "      <td>102976</td>\n",
              "      <td>Piney Woods Preparation Plant</td>\n",
              "      <td>0</td>\n",
              "      <td>23193</td>\n",
              "    </tr>\n",
              "    <tr>\n",
              "      <th>46</th>\n",
              "      <td>2013</td>\n",
              "      <td>103321</td>\n",
              "      <td>Poplar Springs</td>\n",
              "      <td>189370</td>\n",
              "      <td>76366</td>\n",
              "    </tr>\n",
              "  </tbody>\n",
              "</table>\n",
              "</div>"
            ],
            "text/plain": [
              "    Year  MSHA ID                      Mine_Name  Production  Labor_Hours\n",
              "13  2013   103332                  Powhatan Mine      140521        61394\n",
              "18  2013   102976  Piney Woods Preparation Plant           0        14828\n",
              "19  2013   102976  Piney Woods Preparation Plant           0        23193\n",
              "46  2013   103321                 Poplar Springs      189370        76366"
            ]
          },
          "metadata": {
            "tags": []
          },
          "execution_count": 199
        }
      ]
    },
    {
      "cell_type": "markdown",
      "metadata": {
        "id": "5bqcbVhf1T1M",
        "colab_type": "text"
      },
      "source": [
        "\n",
        "**Q119.** Write a Pandas program to import excel data (employee.xlsx )\n",
        "into a Pandas dataframe and find the list of employees where\n",
        "hire_date> 01-01-07."
      ]
    },
    {
      "cell_type": "code",
      "metadata": {
        "id": "arFgr7TY3X1d",
        "colab_type": "code",
        "outputId": "a8d80eb7-a6ca-4b4e-b6f7-c7bc4252bc45",
        "colab": {
          "base_uri": "https://localhost:8080/",
          "height": 380
        }
      },
      "source": [
        "emp=pd.read_excel('employee.xlsx')\n",
        "print(emp)"
      ],
      "execution_count": 0,
      "outputs": [
        {
          "output_type": "stream",
          "text": [
            "    emp_id   first_name   last_name  hire_date\n",
            "0      100       Steven        King 2003-06-17\n",
            "1      101        Neena     Kochhar 2005-09-21\n",
            "2      102          Lex     De Haan 2001-01-13\n",
            "3      103    Alexander      Hunold 2006-01-03\n",
            "4      104        Bruce       Ernst 2007-05-21\n",
            "5      105        David      Austin 2005-06-25\n",
            "6      106        Valli   Pataballa 2006-02-05\n",
            "7      107        Diana     Lorentz 2007-02-07\n",
            "8      108        Nancy   Greenberg 2002-08-17\n",
            "9      109       Daniel      Faviet 2002-08-16\n",
            "10     110         John        Chen 2005-09-28\n",
            "11     111       Ismael     Sciarra 2005-09-30\n",
            "12     112  Jose Manuel       Urman 2006-03-07\n",
            "13     113         Luis        Popp 2007-12-07\n",
            "14     114          Den    Raphaely 2002-12-07\n",
            "15     115    Alexander        Khoo 2003-05-18\n",
            "16     116       Shelli       Baida 2005-12-24\n",
            "17     117        Sigal      Tobias 2005-07-24\n",
            "18     118          Guy      Himuro 2006-11-15\n",
            "19     119        Karen  Colmenares 2007-08-10\n"
          ],
          "name": "stdout"
        }
      ]
    },
    {
      "cell_type": "code",
      "metadata": {
        "id": "dKv0dfYF34vH",
        "colab_type": "code",
        "outputId": "042c39d9-6123-46b9-b162-328e513ab864",
        "colab": {
          "base_uri": "https://localhost:8080/",
          "height": 168
        }
      },
      "source": [
        "emp.loc[emp['hire_date']>'2007-01-01']"
      ],
      "execution_count": 0,
      "outputs": [
        {
          "output_type": "execute_result",
          "data": {
            "text/html": [
              "<div>\n",
              "<style scoped>\n",
              "    .dataframe tbody tr th:only-of-type {\n",
              "        vertical-align: middle;\n",
              "    }\n",
              "\n",
              "    .dataframe tbody tr th {\n",
              "        vertical-align: top;\n",
              "    }\n",
              "\n",
              "    .dataframe thead th {\n",
              "        text-align: right;\n",
              "    }\n",
              "</style>\n",
              "<table border=\"1\" class=\"dataframe\">\n",
              "  <thead>\n",
              "    <tr style=\"text-align: right;\">\n",
              "      <th></th>\n",
              "      <th>emp_id</th>\n",
              "      <th>first_name</th>\n",
              "      <th>last_name</th>\n",
              "      <th>hire_date</th>\n",
              "    </tr>\n",
              "  </thead>\n",
              "  <tbody>\n",
              "    <tr>\n",
              "      <th>4</th>\n",
              "      <td>104</td>\n",
              "      <td>Bruce</td>\n",
              "      <td>Ernst</td>\n",
              "      <td>2007-05-21</td>\n",
              "    </tr>\n",
              "    <tr>\n",
              "      <th>7</th>\n",
              "      <td>107</td>\n",
              "      <td>Diana</td>\n",
              "      <td>Lorentz</td>\n",
              "      <td>2007-02-07</td>\n",
              "    </tr>\n",
              "    <tr>\n",
              "      <th>13</th>\n",
              "      <td>113</td>\n",
              "      <td>Luis</td>\n",
              "      <td>Popp</td>\n",
              "      <td>2007-12-07</td>\n",
              "    </tr>\n",
              "    <tr>\n",
              "      <th>19</th>\n",
              "      <td>119</td>\n",
              "      <td>Karen</td>\n",
              "      <td>Colmenares</td>\n",
              "      <td>2007-08-10</td>\n",
              "    </tr>\n",
              "  </tbody>\n",
              "</table>\n",
              "</div>"
            ],
            "text/plain": [
              "    emp_id first_name   last_name  hire_date\n",
              "4      104      Bruce       Ernst 2007-05-21\n",
              "7      107      Diana     Lorentz 2007-02-07\n",
              "13     113       Luis        Popp 2007-12-07\n",
              "19     119      Karen  Colmenares 2007-08-10"
            ]
          },
          "metadata": {
            "tags": []
          },
          "execution_count": 201
        }
      ]
    },
    {
      "cell_type": "markdown",
      "metadata": {
        "id": "A2u7FHfH6Dg6",
        "colab_type": "text"
      },
      "source": [
        "**Q120.** Write a Pandas program to import excel data (employee.xlsx )\n",
        "into a Pandas dataframe and find a list of the employees of a specified\n",
        "year"
      ]
    },
    {
      "cell_type": "code",
      "metadata": {
        "id": "sCM1po1j6KnK",
        "colab_type": "code",
        "outputId": "3fe70768-7414-440f-f5e1-5b608f5ae57f",
        "colab": {
          "base_uri": "https://localhost:8080/",
          "height": 198
        }
      },
      "source": [
        "emp.head()"
      ],
      "execution_count": 0,
      "outputs": [
        {
          "output_type": "execute_result",
          "data": {
            "text/html": [
              "<div>\n",
              "<style scoped>\n",
              "    .dataframe tbody tr th:only-of-type {\n",
              "        vertical-align: middle;\n",
              "    }\n",
              "\n",
              "    .dataframe tbody tr th {\n",
              "        vertical-align: top;\n",
              "    }\n",
              "\n",
              "    .dataframe thead th {\n",
              "        text-align: right;\n",
              "    }\n",
              "</style>\n",
              "<table border=\"1\" class=\"dataframe\">\n",
              "  <thead>\n",
              "    <tr style=\"text-align: right;\">\n",
              "      <th></th>\n",
              "      <th>emp_id</th>\n",
              "      <th>first_name</th>\n",
              "      <th>last_name</th>\n",
              "      <th>hire_date</th>\n",
              "    </tr>\n",
              "  </thead>\n",
              "  <tbody>\n",
              "    <tr>\n",
              "      <th>0</th>\n",
              "      <td>100</td>\n",
              "      <td>Steven</td>\n",
              "      <td>King</td>\n",
              "      <td>2003-06-17</td>\n",
              "    </tr>\n",
              "    <tr>\n",
              "      <th>1</th>\n",
              "      <td>101</td>\n",
              "      <td>Neena</td>\n",
              "      <td>Kochhar</td>\n",
              "      <td>2005-09-21</td>\n",
              "    </tr>\n",
              "    <tr>\n",
              "      <th>2</th>\n",
              "      <td>102</td>\n",
              "      <td>Lex</td>\n",
              "      <td>De Haan</td>\n",
              "      <td>2001-01-13</td>\n",
              "    </tr>\n",
              "    <tr>\n",
              "      <th>3</th>\n",
              "      <td>103</td>\n",
              "      <td>Alexander</td>\n",
              "      <td>Hunold</td>\n",
              "      <td>2006-01-03</td>\n",
              "    </tr>\n",
              "    <tr>\n",
              "      <th>4</th>\n",
              "      <td>104</td>\n",
              "      <td>Bruce</td>\n",
              "      <td>Ernst</td>\n",
              "      <td>2007-05-21</td>\n",
              "    </tr>\n",
              "  </tbody>\n",
              "</table>\n",
              "</div>"
            ],
            "text/plain": [
              "   emp_id first_name last_name  hire_date\n",
              "0     100     Steven      King 2003-06-17\n",
              "1     101      Neena   Kochhar 2005-09-21\n",
              "2     102        Lex   De Haan 2001-01-13\n",
              "3     103  Alexander    Hunold 2006-01-03\n",
              "4     104      Bruce     Ernst 2007-05-21"
            ]
          },
          "metadata": {
            "tags": []
          },
          "execution_count": 202
        }
      ]
    },
    {
      "cell_type": "code",
      "metadata": {
        "id": "Za-9ac427Lp0",
        "colab_type": "code",
        "colab": {}
      },
      "source": [
        "def year(a):\n",
        "  return emp.loc[(emp['hire_date']>=str(a)+'-01-01') & (emp['hire_date']<=str(a)+'-12-31')]"
      ],
      "execution_count": 0,
      "outputs": []
    },
    {
      "cell_type": "code",
      "metadata": {
        "id": "3k7BoF6GCTSq",
        "colab_type": "code",
        "outputId": "0ae7d0cf-9bca-4909-9e3b-5cfe3becaf45",
        "colab": {
          "base_uri": "https://localhost:8080/",
          "height": 228
        }
      },
      "source": [
        "year(2005)"
      ],
      "execution_count": 0,
      "outputs": [
        {
          "output_type": "execute_result",
          "data": {
            "text/html": [
              "<div>\n",
              "<style scoped>\n",
              "    .dataframe tbody tr th:only-of-type {\n",
              "        vertical-align: middle;\n",
              "    }\n",
              "\n",
              "    .dataframe tbody tr th {\n",
              "        vertical-align: top;\n",
              "    }\n",
              "\n",
              "    .dataframe thead th {\n",
              "        text-align: right;\n",
              "    }\n",
              "</style>\n",
              "<table border=\"1\" class=\"dataframe\">\n",
              "  <thead>\n",
              "    <tr style=\"text-align: right;\">\n",
              "      <th></th>\n",
              "      <th>emp_id</th>\n",
              "      <th>first_name</th>\n",
              "      <th>last_name</th>\n",
              "      <th>hire_date</th>\n",
              "    </tr>\n",
              "  </thead>\n",
              "  <tbody>\n",
              "    <tr>\n",
              "      <th>1</th>\n",
              "      <td>101</td>\n",
              "      <td>Neena</td>\n",
              "      <td>Kochhar</td>\n",
              "      <td>2005-09-21</td>\n",
              "    </tr>\n",
              "    <tr>\n",
              "      <th>5</th>\n",
              "      <td>105</td>\n",
              "      <td>David</td>\n",
              "      <td>Austin</td>\n",
              "      <td>2005-06-25</td>\n",
              "    </tr>\n",
              "    <tr>\n",
              "      <th>10</th>\n",
              "      <td>110</td>\n",
              "      <td>John</td>\n",
              "      <td>Chen</td>\n",
              "      <td>2005-09-28</td>\n",
              "    </tr>\n",
              "    <tr>\n",
              "      <th>11</th>\n",
              "      <td>111</td>\n",
              "      <td>Ismael</td>\n",
              "      <td>Sciarra</td>\n",
              "      <td>2005-09-30</td>\n",
              "    </tr>\n",
              "    <tr>\n",
              "      <th>16</th>\n",
              "      <td>116</td>\n",
              "      <td>Shelli</td>\n",
              "      <td>Baida</td>\n",
              "      <td>2005-12-24</td>\n",
              "    </tr>\n",
              "    <tr>\n",
              "      <th>17</th>\n",
              "      <td>117</td>\n",
              "      <td>Sigal</td>\n",
              "      <td>Tobias</td>\n",
              "      <td>2005-07-24</td>\n",
              "    </tr>\n",
              "  </tbody>\n",
              "</table>\n",
              "</div>"
            ],
            "text/plain": [
              "    emp_id first_name last_name  hire_date\n",
              "1      101      Neena   Kochhar 2005-09-21\n",
              "5      105      David    Austin 2005-06-25\n",
              "10     110       John      Chen 2005-09-28\n",
              "11     111     Ismael   Sciarra 2005-09-30\n",
              "16     116     Shelli     Baida 2005-12-24\n",
              "17     117      Sigal    Tobias 2005-07-24"
            ]
          },
          "metadata": {
            "tags": []
          },
          "execution_count": 204
        }
      ]
    },
    {
      "cell_type": "code",
      "metadata": {
        "id": "caX05H7BCXkM",
        "colab_type": "code",
        "outputId": "34285d94-9d3f-4534-8953-ba4cc6c99f55",
        "colab": {
          "base_uri": "https://localhost:8080/",
          "height": 168
        }
      },
      "source": [
        "year(2007)"
      ],
      "execution_count": 0,
      "outputs": [
        {
          "output_type": "execute_result",
          "data": {
            "text/html": [
              "<div>\n",
              "<style scoped>\n",
              "    .dataframe tbody tr th:only-of-type {\n",
              "        vertical-align: middle;\n",
              "    }\n",
              "\n",
              "    .dataframe tbody tr th {\n",
              "        vertical-align: top;\n",
              "    }\n",
              "\n",
              "    .dataframe thead th {\n",
              "        text-align: right;\n",
              "    }\n",
              "</style>\n",
              "<table border=\"1\" class=\"dataframe\">\n",
              "  <thead>\n",
              "    <tr style=\"text-align: right;\">\n",
              "      <th></th>\n",
              "      <th>emp_id</th>\n",
              "      <th>first_name</th>\n",
              "      <th>last_name</th>\n",
              "      <th>hire_date</th>\n",
              "    </tr>\n",
              "  </thead>\n",
              "  <tbody>\n",
              "    <tr>\n",
              "      <th>4</th>\n",
              "      <td>104</td>\n",
              "      <td>Bruce</td>\n",
              "      <td>Ernst</td>\n",
              "      <td>2007-05-21</td>\n",
              "    </tr>\n",
              "    <tr>\n",
              "      <th>7</th>\n",
              "      <td>107</td>\n",
              "      <td>Diana</td>\n",
              "      <td>Lorentz</td>\n",
              "      <td>2007-02-07</td>\n",
              "    </tr>\n",
              "    <tr>\n",
              "      <th>13</th>\n",
              "      <td>113</td>\n",
              "      <td>Luis</td>\n",
              "      <td>Popp</td>\n",
              "      <td>2007-12-07</td>\n",
              "    </tr>\n",
              "    <tr>\n",
              "      <th>19</th>\n",
              "      <td>119</td>\n",
              "      <td>Karen</td>\n",
              "      <td>Colmenares</td>\n",
              "      <td>2007-08-10</td>\n",
              "    </tr>\n",
              "  </tbody>\n",
              "</table>\n",
              "</div>"
            ],
            "text/plain": [
              "    emp_id first_name   last_name  hire_date\n",
              "4      104      Bruce       Ernst 2007-05-21\n",
              "7      107      Diana     Lorentz 2007-02-07\n",
              "13     113       Luis        Popp 2007-12-07\n",
              "19     119      Karen  Colmenares 2007-08-10"
            ]
          },
          "metadata": {
            "tags": []
          },
          "execution_count": 205
        }
      ]
    },
    {
      "cell_type": "markdown",
      "metadata": {
        "id": "Hg0DiaVeAObR",
        "colab_type": "text"
      },
      "source": [
        "**Q121.** Write a pandas program to import three datasheets from a given\n",
        "excel data (coalpublic2013.xlsx ) in to a single dataframe"
      ]
    },
    {
      "cell_type": "code",
      "metadata": {
        "id": "BUvuP8FAlJBg",
        "colab_type": "code",
        "outputId": "6cc13a14-017d-4c12-e9b4-31e16914efac",
        "colab": {
          "base_uri": "https://localhost:8080/",
          "height": 407
        }
      },
      "source": [
        "df1 = pd.read_excel('coalpublic2013.xlsx',sheet_name=0)\n",
        "df2 = pd.read_excel('coalpublic2013.xlsx',sheet_name=1)\n",
        "df3 = pd.read_excel('coalpublic2013.xlsx',sheet_name=2)\n",
        "df = pd.concat([df1, df2, df3])\n",
        "df\n"
      ],
      "execution_count": 0,
      "outputs": [
        {
          "output_type": "execute_result",
          "data": {
            "text/html": [
              "<div>\n",
              "<style scoped>\n",
              "    .dataframe tbody tr th:only-of-type {\n",
              "        vertical-align: middle;\n",
              "    }\n",
              "\n",
              "    .dataframe tbody tr th {\n",
              "        vertical-align: top;\n",
              "    }\n",
              "\n",
              "    .dataframe thead th {\n",
              "        text-align: right;\n",
              "    }\n",
              "</style>\n",
              "<table border=\"1\" class=\"dataframe\">\n",
              "  <thead>\n",
              "    <tr style=\"text-align: right;\">\n",
              "      <th></th>\n",
              "      <th>Year</th>\n",
              "      <th>MSHA ID</th>\n",
              "      <th>Mine_Name</th>\n",
              "      <th>Production</th>\n",
              "      <th>Labor_Hours</th>\n",
              "    </tr>\n",
              "  </thead>\n",
              "  <tbody>\n",
              "    <tr>\n",
              "      <th>0</th>\n",
              "      <td>2013</td>\n",
              "      <td>103381</td>\n",
              "      <td>Tacoa Highwall Miner</td>\n",
              "      <td>56004</td>\n",
              "      <td>22392</td>\n",
              "    </tr>\n",
              "    <tr>\n",
              "      <th>1</th>\n",
              "      <td>2013</td>\n",
              "      <td>103404</td>\n",
              "      <td>Reid School Mine</td>\n",
              "      <td>28807</td>\n",
              "      <td>28447</td>\n",
              "    </tr>\n",
              "    <tr>\n",
              "      <th>2</th>\n",
              "      <td>2013</td>\n",
              "      <td>100759</td>\n",
              "      <td>North River #1 Underground Min</td>\n",
              "      <td>1440115</td>\n",
              "      <td>474784</td>\n",
              "    </tr>\n",
              "    <tr>\n",
              "      <th>3</th>\n",
              "      <td>2013</td>\n",
              "      <td>103246</td>\n",
              "      <td>Bear Creek</td>\n",
              "      <td>87587</td>\n",
              "      <td>29193</td>\n",
              "    </tr>\n",
              "    <tr>\n",
              "      <th>4</th>\n",
              "      <td>2013</td>\n",
              "      <td>103451</td>\n",
              "      <td>Knight Mine</td>\n",
              "      <td>147499</td>\n",
              "      <td>46393</td>\n",
              "    </tr>\n",
              "    <tr>\n",
              "      <th>...</th>\n",
              "      <td>...</td>\n",
              "      <td>...</td>\n",
              "      <td>...</td>\n",
              "      <td>...</td>\n",
              "      <td>...</td>\n",
              "    </tr>\n",
              "    <tr>\n",
              "      <th>45</th>\n",
              "      <td>2013</td>\n",
              "      <td>1519322</td>\n",
              "      <td>Ghm #25</td>\n",
              "      <td>25054</td>\n",
              "      <td>3108</td>\n",
              "    </tr>\n",
              "    <tr>\n",
              "      <th>46</th>\n",
              "      <td>2013</td>\n",
              "      <td>103321</td>\n",
              "      <td>Poplar Springs</td>\n",
              "      <td>189370</td>\n",
              "      <td>76366</td>\n",
              "    </tr>\n",
              "    <tr>\n",
              "      <th>47</th>\n",
              "      <td>2013</td>\n",
              "      <td>103358</td>\n",
              "      <td>Old Union</td>\n",
              "      <td>284563</td>\n",
              "      <td>161805</td>\n",
              "    </tr>\n",
              "    <tr>\n",
              "      <th>48</th>\n",
              "      <td>2013</td>\n",
              "      <td>5000030</td>\n",
              "      <td>Usibelli</td>\n",
              "      <td>1631584</td>\n",
              "      <td>286079</td>\n",
              "    </tr>\n",
              "    <tr>\n",
              "      <th>49</th>\n",
              "      <td>2013</td>\n",
              "      <td>201195</td>\n",
              "      <td>Kayenta Mine</td>\n",
              "      <td>7602722</td>\n",
              "      <td>1015333</td>\n",
              "    </tr>\n",
              "  </tbody>\n",
              "</table>\n",
              "<p>150 rows × 5 columns</p>\n",
              "</div>"
            ],
            "text/plain": [
              "    Year  MSHA ID                       Mine_Name  Production  Labor_Hours\n",
              "0   2013   103381            Tacoa Highwall Miner       56004        22392\n",
              "1   2013   103404                Reid School Mine       28807        28447\n",
              "2   2013   100759  North River #1 Underground Min     1440115       474784\n",
              "3   2013   103246                      Bear Creek       87587        29193\n",
              "4   2013   103451                     Knight Mine      147499        46393\n",
              "..   ...      ...                             ...         ...          ...\n",
              "45  2013  1519322                         Ghm #25       25054         3108\n",
              "46  2013   103321                  Poplar Springs      189370        76366\n",
              "47  2013   103358                       Old Union      284563       161805\n",
              "48  2013  5000030                        Usibelli     1631584       286079\n",
              "49  2013   201195                    Kayenta Mine     7602722      1015333\n",
              "\n",
              "[150 rows x 5 columns]"
            ]
          },
          "metadata": {
            "tags": []
          },
          "execution_count": 206
        }
      ]
    },
    {
      "cell_type": "markdown",
      "metadata": {
        "id": "qpyyFCCFC5s2",
        "colab_type": "text"
      },
      "source": [
        "**Q122.** Write a pandas program to import three datasheets from a given\n",
        "excel data (employee.xlsx ) into a single data frame and export the\n",
        "result into new Excel file."
      ]
    },
    {
      "cell_type": "code",
      "metadata": {
        "id": "wPslhmeXDEgB",
        "colab_type": "code",
        "outputId": "a1bc2743-742d-4151-e46c-b0943df7687d",
        "colab": {
          "base_uri": "https://localhost:8080/",
          "height": 1000
        }
      },
      "source": [
        "df1 = pd.read_excel('employee.xlsx',sheet_name=0)\n",
        "df2 = pd.read_excel('employee.xlsx',sheet_name=1)\n",
        "df3 = pd.read_excel('employee.xlsx',sheet_name=2)\n",
        "df = pd.concat([df1, df2, df3])\n",
        "df"
      ],
      "execution_count": 0,
      "outputs": [
        {
          "output_type": "execute_result",
          "data": {
            "text/html": [
              "<div>\n",
              "<style scoped>\n",
              "    .dataframe tbody tr th:only-of-type {\n",
              "        vertical-align: middle;\n",
              "    }\n",
              "\n",
              "    .dataframe tbody tr th {\n",
              "        vertical-align: top;\n",
              "    }\n",
              "\n",
              "    .dataframe thead th {\n",
              "        text-align: right;\n",
              "    }\n",
              "</style>\n",
              "<table border=\"1\" class=\"dataframe\">\n",
              "  <thead>\n",
              "    <tr style=\"text-align: right;\">\n",
              "      <th></th>\n",
              "      <th>emp_id</th>\n",
              "      <th>first_name</th>\n",
              "      <th>last_name</th>\n",
              "      <th>hire_date</th>\n",
              "    </tr>\n",
              "  </thead>\n",
              "  <tbody>\n",
              "    <tr>\n",
              "      <th>0</th>\n",
              "      <td>100</td>\n",
              "      <td>Steven</td>\n",
              "      <td>King</td>\n",
              "      <td>2003-06-17</td>\n",
              "    </tr>\n",
              "    <tr>\n",
              "      <th>1</th>\n",
              "      <td>101</td>\n",
              "      <td>Neena</td>\n",
              "      <td>Kochhar</td>\n",
              "      <td>2005-09-21</td>\n",
              "    </tr>\n",
              "    <tr>\n",
              "      <th>2</th>\n",
              "      <td>102</td>\n",
              "      <td>Lex</td>\n",
              "      <td>De Haan</td>\n",
              "      <td>2001-01-13</td>\n",
              "    </tr>\n",
              "    <tr>\n",
              "      <th>3</th>\n",
              "      <td>103</td>\n",
              "      <td>Alexander</td>\n",
              "      <td>Hunold</td>\n",
              "      <td>2006-01-03</td>\n",
              "    </tr>\n",
              "    <tr>\n",
              "      <th>4</th>\n",
              "      <td>104</td>\n",
              "      <td>Bruce</td>\n",
              "      <td>Ernst</td>\n",
              "      <td>2007-05-21</td>\n",
              "    </tr>\n",
              "    <tr>\n",
              "      <th>5</th>\n",
              "      <td>105</td>\n",
              "      <td>David</td>\n",
              "      <td>Austin</td>\n",
              "      <td>2005-06-25</td>\n",
              "    </tr>\n",
              "    <tr>\n",
              "      <th>6</th>\n",
              "      <td>106</td>\n",
              "      <td>Valli</td>\n",
              "      <td>Pataballa</td>\n",
              "      <td>2006-02-05</td>\n",
              "    </tr>\n",
              "    <tr>\n",
              "      <th>7</th>\n",
              "      <td>107</td>\n",
              "      <td>Diana</td>\n",
              "      <td>Lorentz</td>\n",
              "      <td>2007-02-07</td>\n",
              "    </tr>\n",
              "    <tr>\n",
              "      <th>8</th>\n",
              "      <td>108</td>\n",
              "      <td>Nancy</td>\n",
              "      <td>Greenberg</td>\n",
              "      <td>2002-08-17</td>\n",
              "    </tr>\n",
              "    <tr>\n",
              "      <th>9</th>\n",
              "      <td>109</td>\n",
              "      <td>Daniel</td>\n",
              "      <td>Faviet</td>\n",
              "      <td>2002-08-16</td>\n",
              "    </tr>\n",
              "    <tr>\n",
              "      <th>10</th>\n",
              "      <td>110</td>\n",
              "      <td>John</td>\n",
              "      <td>Chen</td>\n",
              "      <td>2005-09-28</td>\n",
              "    </tr>\n",
              "    <tr>\n",
              "      <th>11</th>\n",
              "      <td>111</td>\n",
              "      <td>Ismael</td>\n",
              "      <td>Sciarra</td>\n",
              "      <td>2005-09-30</td>\n",
              "    </tr>\n",
              "    <tr>\n",
              "      <th>12</th>\n",
              "      <td>112</td>\n",
              "      <td>Jose Manuel</td>\n",
              "      <td>Urman</td>\n",
              "      <td>2006-03-07</td>\n",
              "    </tr>\n",
              "    <tr>\n",
              "      <th>13</th>\n",
              "      <td>113</td>\n",
              "      <td>Luis</td>\n",
              "      <td>Popp</td>\n",
              "      <td>2007-12-07</td>\n",
              "    </tr>\n",
              "    <tr>\n",
              "      <th>14</th>\n",
              "      <td>114</td>\n",
              "      <td>Den</td>\n",
              "      <td>Raphaely</td>\n",
              "      <td>2002-12-07</td>\n",
              "    </tr>\n",
              "    <tr>\n",
              "      <th>15</th>\n",
              "      <td>115</td>\n",
              "      <td>Alexander</td>\n",
              "      <td>Khoo</td>\n",
              "      <td>2003-05-18</td>\n",
              "    </tr>\n",
              "    <tr>\n",
              "      <th>16</th>\n",
              "      <td>116</td>\n",
              "      <td>Shelli</td>\n",
              "      <td>Baida</td>\n",
              "      <td>2005-12-24</td>\n",
              "    </tr>\n",
              "    <tr>\n",
              "      <th>17</th>\n",
              "      <td>117</td>\n",
              "      <td>Sigal</td>\n",
              "      <td>Tobias</td>\n",
              "      <td>2005-07-24</td>\n",
              "    </tr>\n",
              "    <tr>\n",
              "      <th>18</th>\n",
              "      <td>118</td>\n",
              "      <td>Guy</td>\n",
              "      <td>Himuro</td>\n",
              "      <td>2006-11-15</td>\n",
              "    </tr>\n",
              "    <tr>\n",
              "      <th>19</th>\n",
              "      <td>119</td>\n",
              "      <td>Karen</td>\n",
              "      <td>Colmenares</td>\n",
              "      <td>2007-08-10</td>\n",
              "    </tr>\n",
              "    <tr>\n",
              "      <th>0</th>\n",
              "      <td>120</td>\n",
              "      <td>Matthew</td>\n",
              "      <td>Weiss</td>\n",
              "      <td>2004-07-18</td>\n",
              "    </tr>\n",
              "    <tr>\n",
              "      <th>1</th>\n",
              "      <td>121</td>\n",
              "      <td>Adam</td>\n",
              "      <td>Fripp</td>\n",
              "      <td>2005-04-10</td>\n",
              "    </tr>\n",
              "    <tr>\n",
              "      <th>2</th>\n",
              "      <td>122</td>\n",
              "      <td>Payam</td>\n",
              "      <td>Kaufling</td>\n",
              "      <td>2003-05-01</td>\n",
              "    </tr>\n",
              "    <tr>\n",
              "      <th>3</th>\n",
              "      <td>123</td>\n",
              "      <td>Shanta</td>\n",
              "      <td>Vollman</td>\n",
              "      <td>2005-10-10</td>\n",
              "    </tr>\n",
              "    <tr>\n",
              "      <th>4</th>\n",
              "      <td>124</td>\n",
              "      <td>Kevin</td>\n",
              "      <td>Mourgos</td>\n",
              "      <td>2007-11-16</td>\n",
              "    </tr>\n",
              "    <tr>\n",
              "      <th>5</th>\n",
              "      <td>125</td>\n",
              "      <td>Julia</td>\n",
              "      <td>Nayer</td>\n",
              "      <td>2005-07-16</td>\n",
              "    </tr>\n",
              "    <tr>\n",
              "      <th>6</th>\n",
              "      <td>126</td>\n",
              "      <td>Irene</td>\n",
              "      <td>Mikkilineni</td>\n",
              "      <td>2006-09-28</td>\n",
              "    </tr>\n",
              "    <tr>\n",
              "      <th>7</th>\n",
              "      <td>127</td>\n",
              "      <td>James</td>\n",
              "      <td>Landry</td>\n",
              "      <td>2007-01-14</td>\n",
              "    </tr>\n",
              "    <tr>\n",
              "      <th>8</th>\n",
              "      <td>128</td>\n",
              "      <td>Steven</td>\n",
              "      <td>Markle</td>\n",
              "      <td>2008-03-08</td>\n",
              "    </tr>\n",
              "    <tr>\n",
              "      <th>9</th>\n",
              "      <td>129</td>\n",
              "      <td>Laura</td>\n",
              "      <td>Bissot</td>\n",
              "      <td>2005-08-20</td>\n",
              "    </tr>\n",
              "    <tr>\n",
              "      <th>10</th>\n",
              "      <td>130</td>\n",
              "      <td>Mozhe</td>\n",
              "      <td>Atkinson</td>\n",
              "      <td>2005-10-30</td>\n",
              "    </tr>\n",
              "    <tr>\n",
              "      <th>11</th>\n",
              "      <td>131</td>\n",
              "      <td>James</td>\n",
              "      <td>Marlow</td>\n",
              "      <td>2005-02-16</td>\n",
              "    </tr>\n",
              "    <tr>\n",
              "      <th>12</th>\n",
              "      <td>132</td>\n",
              "      <td>TJ</td>\n",
              "      <td>Olson</td>\n",
              "      <td>2007-04-10</td>\n",
              "    </tr>\n",
              "    <tr>\n",
              "      <th>13</th>\n",
              "      <td>133</td>\n",
              "      <td>Jason</td>\n",
              "      <td>Mallin</td>\n",
              "      <td>2004-06-14</td>\n",
              "    </tr>\n",
              "    <tr>\n",
              "      <th>14</th>\n",
              "      <td>134</td>\n",
              "      <td>Michael</td>\n",
              "      <td>Rogers</td>\n",
              "      <td>2006-08-26</td>\n",
              "    </tr>\n",
              "    <tr>\n",
              "      <th>15</th>\n",
              "      <td>135</td>\n",
              "      <td>Ki</td>\n",
              "      <td>Gee</td>\n",
              "      <td>2007-12-12</td>\n",
              "    </tr>\n",
              "    <tr>\n",
              "      <th>16</th>\n",
              "      <td>136</td>\n",
              "      <td>Hazel</td>\n",
              "      <td>Philtanker</td>\n",
              "      <td>2008-02-06</td>\n",
              "    </tr>\n",
              "    <tr>\n",
              "      <th>17</th>\n",
              "      <td>137</td>\n",
              "      <td>Renske</td>\n",
              "      <td>Ladwig</td>\n",
              "      <td>2003-07-14</td>\n",
              "    </tr>\n",
              "    <tr>\n",
              "      <th>18</th>\n",
              "      <td>138</td>\n",
              "      <td>Stephen</td>\n",
              "      <td>Stiles</td>\n",
              "      <td>2005-10-26</td>\n",
              "    </tr>\n",
              "    <tr>\n",
              "      <th>0</th>\n",
              "      <td>141</td>\n",
              "      <td>Trenna</td>\n",
              "      <td>Rajs</td>\n",
              "      <td>2003-10-17</td>\n",
              "    </tr>\n",
              "    <tr>\n",
              "      <th>1</th>\n",
              "      <td>142</td>\n",
              "      <td>Curtis</td>\n",
              "      <td>Davies</td>\n",
              "      <td>2005-01-29</td>\n",
              "    </tr>\n",
              "    <tr>\n",
              "      <th>2</th>\n",
              "      <td>143</td>\n",
              "      <td>Randall</td>\n",
              "      <td>Matos</td>\n",
              "      <td>2006-03-15</td>\n",
              "    </tr>\n",
              "    <tr>\n",
              "      <th>3</th>\n",
              "      <td>144</td>\n",
              "      <td>Peter</td>\n",
              "      <td>Vargas</td>\n",
              "      <td>2006-07-09</td>\n",
              "    </tr>\n",
              "    <tr>\n",
              "      <th>4</th>\n",
              "      <td>145</td>\n",
              "      <td>John</td>\n",
              "      <td>Russell</td>\n",
              "      <td>2004-10-01</td>\n",
              "    </tr>\n",
              "    <tr>\n",
              "      <th>5</th>\n",
              "      <td>146</td>\n",
              "      <td>Karen</td>\n",
              "      <td>Partners</td>\n",
              "      <td>2005-01-05</td>\n",
              "    </tr>\n",
              "    <tr>\n",
              "      <th>6</th>\n",
              "      <td>147</td>\n",
              "      <td>Alberto</td>\n",
              "      <td>Errazuriz</td>\n",
              "      <td>2005-03-10</td>\n",
              "    </tr>\n",
              "    <tr>\n",
              "      <th>7</th>\n",
              "      <td>148</td>\n",
              "      <td>Gerald</td>\n",
              "      <td>Cambrault</td>\n",
              "      <td>2007-10-15</td>\n",
              "    </tr>\n",
              "    <tr>\n",
              "      <th>8</th>\n",
              "      <td>149</td>\n",
              "      <td>Eleni</td>\n",
              "      <td>Zlotkey</td>\n",
              "      <td>2008-01-29</td>\n",
              "    </tr>\n",
              "  </tbody>\n",
              "</table>\n",
              "</div>"
            ],
            "text/plain": [
              "    emp_id   first_name    last_name  hire_date\n",
              "0      100       Steven         King 2003-06-17\n",
              "1      101        Neena      Kochhar 2005-09-21\n",
              "2      102          Lex      De Haan 2001-01-13\n",
              "3      103    Alexander       Hunold 2006-01-03\n",
              "4      104        Bruce        Ernst 2007-05-21\n",
              "5      105        David       Austin 2005-06-25\n",
              "6      106        Valli    Pataballa 2006-02-05\n",
              "7      107        Diana      Lorentz 2007-02-07\n",
              "8      108        Nancy    Greenberg 2002-08-17\n",
              "9      109       Daniel       Faviet 2002-08-16\n",
              "10     110         John         Chen 2005-09-28\n",
              "11     111       Ismael      Sciarra 2005-09-30\n",
              "12     112  Jose Manuel        Urman 2006-03-07\n",
              "13     113         Luis         Popp 2007-12-07\n",
              "14     114          Den     Raphaely 2002-12-07\n",
              "15     115    Alexander         Khoo 2003-05-18\n",
              "16     116       Shelli        Baida 2005-12-24\n",
              "17     117        Sigal       Tobias 2005-07-24\n",
              "18     118          Guy       Himuro 2006-11-15\n",
              "19     119        Karen   Colmenares 2007-08-10\n",
              "0      120      Matthew        Weiss 2004-07-18\n",
              "1      121         Adam        Fripp 2005-04-10\n",
              "2      122        Payam     Kaufling 2003-05-01\n",
              "3      123       Shanta      Vollman 2005-10-10\n",
              "4      124        Kevin      Mourgos 2007-11-16\n",
              "5      125        Julia        Nayer 2005-07-16\n",
              "6      126        Irene  Mikkilineni 2006-09-28\n",
              "7      127        James       Landry 2007-01-14\n",
              "8      128       Steven       Markle 2008-03-08\n",
              "9      129        Laura       Bissot 2005-08-20\n",
              "10     130        Mozhe     Atkinson 2005-10-30\n",
              "11     131        James       Marlow 2005-02-16\n",
              "12     132           TJ        Olson 2007-04-10\n",
              "13     133        Jason       Mallin 2004-06-14\n",
              "14     134      Michael       Rogers 2006-08-26\n",
              "15     135           Ki          Gee 2007-12-12\n",
              "16     136        Hazel   Philtanker 2008-02-06\n",
              "17     137       Renske       Ladwig 2003-07-14\n",
              "18     138      Stephen       Stiles 2005-10-26\n",
              "0      141       Trenna         Rajs 2003-10-17\n",
              "1      142       Curtis       Davies 2005-01-29\n",
              "2      143      Randall        Matos 2006-03-15\n",
              "3      144        Peter       Vargas 2006-07-09\n",
              "4      145         John      Russell 2004-10-01\n",
              "5      146        Karen     Partners 2005-01-05\n",
              "6      147      Alberto    Errazuriz 2005-03-10\n",
              "7      148       Gerald    Cambrault 2007-10-15\n",
              "8      149        Eleni      Zlotkey 2008-01-29"
            ]
          },
          "metadata": {
            "tags": []
          },
          "execution_count": 207
        }
      ]
    },
    {
      "cell_type": "markdown",
      "metadata": {
        "id": "tFHoxslJJAC1",
        "colab_type": "text"
      },
      "source": [
        "**Q123.** Write a pandas program to create the Pivot table with multiple\n",
        "indexes from the data set of the titanic.csv"
      ]
    },
    {
      "cell_type": "code",
      "metadata": {
        "id": "Nmfk81cJJJgO",
        "colab_type": "code",
        "outputId": "7891bbcc-73f3-4cc7-fce4-35f4f017e212",
        "colab": {
          "base_uri": "https://localhost:8080/",
          "height": 235
        }
      },
      "source": [
        "df=pd.read_csv('titanic.csv')\n",
        "df.head()\n"
      ],
      "execution_count": 0,
      "outputs": [
        {
          "output_type": "execute_result",
          "data": {
            "text/html": [
              "<div>\n",
              "<style scoped>\n",
              "    .dataframe tbody tr th:only-of-type {\n",
              "        vertical-align: middle;\n",
              "    }\n",
              "\n",
              "    .dataframe tbody tr th {\n",
              "        vertical-align: top;\n",
              "    }\n",
              "\n",
              "    .dataframe thead th {\n",
              "        text-align: right;\n",
              "    }\n",
              "</style>\n",
              "<table border=\"1\" class=\"dataframe\">\n",
              "  <thead>\n",
              "    <tr style=\"text-align: right;\">\n",
              "      <th></th>\n",
              "      <th>survived</th>\n",
              "      <th>pclass</th>\n",
              "      <th>sex</th>\n",
              "      <th>age</th>\n",
              "      <th>sibsp</th>\n",
              "      <th>parch</th>\n",
              "      <th>fare</th>\n",
              "      <th>embarked</th>\n",
              "      <th>class</th>\n",
              "      <th>who</th>\n",
              "      <th>adult_male</th>\n",
              "      <th>deck</th>\n",
              "      <th>embark_town</th>\n",
              "      <th>alive</th>\n",
              "      <th>alone</th>\n",
              "      <th>Unnamed: 15</th>\n",
              "    </tr>\n",
              "  </thead>\n",
              "  <tbody>\n",
              "    <tr>\n",
              "      <th>0</th>\n",
              "      <td>0</td>\n",
              "      <td>3</td>\n",
              "      <td>male</td>\n",
              "      <td>22.0</td>\n",
              "      <td>1</td>\n",
              "      <td>0</td>\n",
              "      <td>7.2500</td>\n",
              "      <td>S</td>\n",
              "      <td>Third</td>\n",
              "      <td>man</td>\n",
              "      <td>True</td>\n",
              "      <td>NaN</td>\n",
              "      <td>Southampton</td>\n",
              "      <td>no</td>\n",
              "      <td>False</td>\n",
              "      <td>NaN</td>\n",
              "    </tr>\n",
              "    <tr>\n",
              "      <th>1</th>\n",
              "      <td>1</td>\n",
              "      <td>1</td>\n",
              "      <td>female</td>\n",
              "      <td>38.0</td>\n",
              "      <td>1</td>\n",
              "      <td>0</td>\n",
              "      <td>71.2833</td>\n",
              "      <td>C</td>\n",
              "      <td>First</td>\n",
              "      <td>woman</td>\n",
              "      <td>False</td>\n",
              "      <td>C</td>\n",
              "      <td>Cherbourg</td>\n",
              "      <td>yes</td>\n",
              "      <td>False</td>\n",
              "      <td>NaN</td>\n",
              "    </tr>\n",
              "    <tr>\n",
              "      <th>2</th>\n",
              "      <td>1</td>\n",
              "      <td>3</td>\n",
              "      <td>female</td>\n",
              "      <td>26.0</td>\n",
              "      <td>0</td>\n",
              "      <td>0</td>\n",
              "      <td>7.9250</td>\n",
              "      <td>S</td>\n",
              "      <td>Third</td>\n",
              "      <td>woman</td>\n",
              "      <td>False</td>\n",
              "      <td>NaN</td>\n",
              "      <td>Southampton</td>\n",
              "      <td>yes</td>\n",
              "      <td>True</td>\n",
              "      <td>NaN</td>\n",
              "    </tr>\n",
              "    <tr>\n",
              "      <th>3</th>\n",
              "      <td>1</td>\n",
              "      <td>1</td>\n",
              "      <td>female</td>\n",
              "      <td>35.0</td>\n",
              "      <td>1</td>\n",
              "      <td>0</td>\n",
              "      <td>53.1000</td>\n",
              "      <td>S</td>\n",
              "      <td>First</td>\n",
              "      <td>woman</td>\n",
              "      <td>False</td>\n",
              "      <td>C</td>\n",
              "      <td>Southampton</td>\n",
              "      <td>yes</td>\n",
              "      <td>False</td>\n",
              "      <td>NaN</td>\n",
              "    </tr>\n",
              "    <tr>\n",
              "      <th>4</th>\n",
              "      <td>0</td>\n",
              "      <td>3</td>\n",
              "      <td>male</td>\n",
              "      <td>35.0</td>\n",
              "      <td>0</td>\n",
              "      <td>0</td>\n",
              "      <td>8.0500</td>\n",
              "      <td>S</td>\n",
              "      <td>Third</td>\n",
              "      <td>man</td>\n",
              "      <td>True</td>\n",
              "      <td>NaN</td>\n",
              "      <td>Southampton</td>\n",
              "      <td>no</td>\n",
              "      <td>True</td>\n",
              "      <td>NaN</td>\n",
              "    </tr>\n",
              "  </tbody>\n",
              "</table>\n",
              "</div>"
            ],
            "text/plain": [
              "   survived  pclass     sex   age  sibsp  parch     fare embarked  class  \\\n",
              "0         0       3    male  22.0      1      0   7.2500        S  Third   \n",
              "1         1       1  female  38.0      1      0  71.2833        C  First   \n",
              "2         1       3  female  26.0      0      0   7.9250        S  Third   \n",
              "3         1       1  female  35.0      1      0  53.1000        S  First   \n",
              "4         0       3    male  35.0      0      0   8.0500        S  Third   \n",
              "\n",
              "     who  adult_male deck  embark_town alive  alone  Unnamed: 15  \n",
              "0    man        True  NaN  Southampton    no  False          NaN  \n",
              "1  woman       False    C    Cherbourg   yes  False          NaN  \n",
              "2  woman       False  NaN  Southampton   yes   True          NaN  \n",
              "3  woman       False    C  Southampton   yes  False          NaN  \n",
              "4    man        True  NaN  Southampton    no   True          NaN  "
            ]
          },
          "metadata": {
            "tags": []
          },
          "execution_count": 208
        }
      ]
    },
    {
      "cell_type": "code",
      "metadata": {
        "id": "mo_VQDb5N_05",
        "colab_type": "code",
        "outputId": "971a5bea-0cd5-4a48-dd39-443cea8b140f",
        "colab": {
          "base_uri": "https://localhost:8080/",
          "height": 518
        }
      },
      "source": [
        "x= df.pivot_table(df, index = ['sex','age','pclass','survived','embarked'])\n",
        "print(x)"
      ],
      "execution_count": 0,
      "outputs": [
        {
          "output_type": "stream",
          "text": [
            "                                       adult_male  alone      fare  parch  \\\n",
            "sex    age   pclass survived embarked                                       \n",
            "female 0.75  3      1        C                0.0    0.0   19.2583    1.0   \n",
            "       1.00  3      1        C                0.0    0.0   15.7417    2.0   \n",
            "                             S                0.0    0.0   11.1333    1.0   \n",
            "       2.00  1      0        S                0.0    0.0  151.5500    2.0   \n",
            "             2      1        S                0.0    0.0   26.0000    1.0   \n",
            "...                                           ...    ...       ...    ...   \n",
            "male   70.00 2      0        S                1.0    1.0   10.5000    0.0   \n",
            "       70.50 3      0        Q                1.0    1.0    7.7500    0.0   \n",
            "       71.00 1      0        C                1.0    1.0   42.0792    0.0   \n",
            "       74.00 3      0        S                1.0    1.0    7.7750    0.0   \n",
            "       80.00 1      1        S                1.0    1.0   30.0000    0.0   \n",
            "\n",
            "                                       sibsp  \n",
            "sex    age   pclass survived embarked         \n",
            "female 0.75  3      1        C           2.0  \n",
            "       1.00  3      1        C           0.0  \n",
            "                             S           1.0  \n",
            "       2.00  1      0        S           1.0  \n",
            "             2      1        S           1.0  \n",
            "...                                      ...  \n",
            "male   70.00 2      0        S           0.0  \n",
            "       70.50 3      0        Q           0.0  \n",
            "       71.00 1      0        C           0.0  \n",
            "       74.00 3      0        S           0.0  \n",
            "       80.00 1      1        S           0.0  \n",
            "\n",
            "[420 rows x 5 columns]\n"
          ],
          "name": "stdout"
        }
      ]
    },
    {
      "cell_type": "markdown",
      "metadata": {
        "id": "V75wBbZvjTs0",
        "colab_type": "text"
      },
      "source": [
        "**Q124.** Write a Pandas program to create the Pivot table and find survival\n",
        "rate by gender?"
      ]
    },
    {
      "cell_type": "code",
      "metadata": {
        "id": "7ObhGJ9kfakA",
        "colab_type": "code",
        "outputId": "297eef8a-61f8-410c-d7aa-2a61eb95b1c2",
        "colab": {
          "base_uri": "https://localhost:8080/",
          "height": 86
        }
      },
      "source": [
        "y= df.pivot_table('survived', index = ['sex'])\n",
        "print(y)"
      ],
      "execution_count": 0,
      "outputs": [
        {
          "output_type": "stream",
          "text": [
            "        survived\n",
            "sex             \n",
            "female  0.742038\n",
            "male    0.188908\n"
          ],
          "name": "stdout"
        }
      ]
    },
    {
      "cell_type": "markdown",
      "metadata": {
        "id": "q2e0D9c_j0xy",
        "colab_type": "text"
      },
      "source": [
        "**Q125.**Write a pandas program to make partition each of the passengers\n",
        "into 4 categories based on their age."
      ]
    },
    {
      "cell_type": "code",
      "metadata": {
        "id": "ZuOI5O1okcPc",
        "colab_type": "code",
        "outputId": "a6d3cd9e-0eff-42c4-8075-f3aa6a3c1e42",
        "colab": {
          "base_uri": "https://localhost:8080/",
          "height": 242
        }
      },
      "source": [
        "ans=pd.cut(df['age'], [0,10,30,60,80])\n",
        "print(ans)"
      ],
      "execution_count": 0,
      "outputs": [
        {
          "output_type": "stream",
          "text": [
            "0      (10.0, 30.0]\n",
            "1      (30.0, 60.0]\n",
            "2      (10.0, 30.0]\n",
            "3      (30.0, 60.0]\n",
            "4      (30.0, 60.0]\n",
            "           ...     \n",
            "886    (10.0, 30.0]\n",
            "887    (10.0, 30.0]\n",
            "888             NaN\n",
            "889    (10.0, 30.0]\n",
            "890    (30.0, 60.0]\n",
            "Name: age, Length: 891, dtype: category\n",
            "Categories (4, interval[int64]): [(0, 10] < (10, 30] < (30, 60] < (60, 80]]\n"
          ],
          "name": "stdout"
        }
      ]
    },
    {
      "cell_type": "markdown",
      "metadata": {
        "id": "hBRjVmEMlFE0",
        "colab_type": "text"
      },
      "source": [
        "**Q126.** Write a pandas program to create the Pivot table and find survival\n",
        "rate by the gender, age of the different categories of various\n",
        "classes."
      ]
    },
    {
      "cell_type": "code",
      "metadata": {
        "id": "Ec-P4cLPlLLo",
        "colab_type": "code",
        "outputId": "691f3618-ac20-40e0-e156-8f98f0e922df",
        "colab": {
          "base_uri": "https://localhost:8080/",
          "height": 190
        }
      },
      "source": [
        "z= df.pivot_table('survived', index = ['sex',ans],columns=['class'])\n",
        "print(z)"
      ],
      "execution_count": 0,
      "outputs": [
        {
          "output_type": "stream",
          "text": [
            "class               First    Second     Third\n",
            "sex    age                                   \n",
            "female (0, 10]   0.000000  1.000000  0.500000\n",
            "       (10, 30]  0.970588  0.916667  0.508772\n",
            "       (30, 60]  0.979167  0.900000  0.272727\n",
            "       (60, 80]  1.000000       NaN  1.000000\n",
            "male   (0, 10]   1.000000  1.000000  0.363636\n",
            "       (10, 30]  0.458333  0.023256  0.139073\n",
            "       (30, 60]  0.412698  0.090909  0.118421\n",
            "       (60, 80]  0.083333  0.333333  0.000000\n"
          ],
          "name": "stdout"
        }
      ]
    },
    {
      "cell_type": "markdown",
      "metadata": {
        "id": "j8HQpHXPm77y",
        "colab_type": "text"
      },
      "source": [
        "**Q127.** Write a pandas program to create the Pivot table and calculate\n",
        "number of women and men were in a particular cabin class."
      ]
    },
    {
      "cell_type": "code",
      "metadata": {
        "id": "3C9-_3TknCI7",
        "colab_type": "code",
        "outputId": "55ba3bd7-d183-4375-a91b-acb8ad181928",
        "colab": {
          "base_uri": "https://localhost:8080/",
          "height": 207
        }
      },
      "source": [
        "result= df.pivot_table('survived',index = ['who','class'],aggfunc='count')\n",
        "print(result)"
      ],
      "execution_count": 0,
      "outputs": [
        {
          "output_type": "stream",
          "text": [
            "              survived\n",
            "who   class           \n",
            "child First          6\n",
            "      Second        19\n",
            "      Third         58\n",
            "man   First        119\n",
            "      Second        99\n",
            "      Third        319\n",
            "woman First         91\n",
            "      Second        66\n",
            "      Third        114\n"
          ],
          "name": "stdout"
        }
      ]
    },
    {
      "cell_type": "markdown",
      "metadata": {
        "id": "LwJsdxBV063c",
        "colab_type": "text"
      },
      "source": [
        "**Q128.**Write a pandas program to create the Pivot table and separate\n",
        "the gender according to whether they travelled alone or not to get\n",
        "the probability of survival."
      ]
    },
    {
      "cell_type": "code",
      "metadata": {
        "id": "QuFS35db06Ha",
        "colab_type": "code",
        "outputId": "38574d0d-0b81-4e55-f035-ee1ffeb0b19f",
        "colab": {
          "base_uri": "https://localhost:8080/",
          "height": 121
        }
      },
      "source": [
        "r=df.pivot_table('survived',index=['sex','alone'])\n",
        "print(r)"
      ],
      "execution_count": 0,
      "outputs": [
        {
          "output_type": "stream",
          "text": [
            "              survived\n",
            "sex    alone          \n",
            "female False  0.712766\n",
            "       True   0.785714\n",
            "male   False  0.271084\n",
            "       True   0.155718\n"
          ],
          "name": "stdout"
        }
      ]
    },
    {
      "cell_type": "markdown",
      "metadata": {
        "id": "0FRUx1-F3Iww",
        "colab_type": "text"
      },
      "source": [
        "**Q129.**Write a pandas program to create the Pivot table and find the\n",
        "probability of survival by class, gender, solo boarding, and the port\n",
        "of embarkation."
      ]
    },
    {
      "cell_type": "code",
      "metadata": {
        "id": "5kI2anKp3fYJ",
        "colab_type": "code",
        "outputId": "a1a5cebe-0a8b-413d-be39-54a3c5a81474",
        "colab": {
          "base_uri": "https://localhost:8080/",
          "height": 259
        }
      },
      "source": [
        "r2=df.pivot_table('survived',index=['sex','alone','class'],columns=['embark_town'])\n",
        "print(r2)"
      ],
      "execution_count": 0,
      "outputs": [
        {
          "output_type": "stream",
          "text": [
            "embark_town          Cherbourg  Queenstown  Southampton\n",
            "sex    alone class                                     \n",
            "female False First    1.000000    1.000000     0.941176\n",
            "             Second   1.000000         NaN     0.923077\n",
            "             Third    0.611111    0.625000     0.327586\n",
            "       True  First    0.944444         NaN     1.000000\n",
            "             Second   1.000000    1.000000     0.892857\n",
            "             Third    0.800000    0.760000     0.466667\n",
            "male   False First    0.473684    0.000000     0.407407\n",
            "             Second   0.166667         NaN     0.300000\n",
            "             Third    0.500000    0.100000     0.142857\n",
            "       True  First    0.347826         NaN     0.326923\n",
            "             Second   0.250000    0.000000     0.089552\n",
            "             Third    0.151515    0.068966     0.123762\n"
          ],
          "name": "stdout"
        }
      ]
    },
    {
      "cell_type": "markdown",
      "metadata": {
        "id": "ot20VZmbA2KF",
        "colab_type": "text"
      },
      "source": [
        "**Q130.** Write a pandas program to get current date, oldest date and\n",
        "number of days between Current date and the oldest date of UFO\n",
        "dataset."
      ]
    },
    {
      "cell_type": "code",
      "metadata": {
        "id": "AaMO7cqP_lpp",
        "colab_type": "code",
        "outputId": "724288a3-d567-45c4-9fc9-010908056822",
        "colab": {
          "base_uri": "https://localhost:8080/",
          "height": 425
        }
      },
      "source": [
        "df=pd.read_csv('ufo.csv',sep=',')\n",
        "df['Date_time']=pd.to_datetime(df['Date_time'])\n",
        "df['date_documented']=pd.to_datetime(df['date_documented'])\n",
        "df.head()\n"
      ],
      "execution_count": 0,
      "outputs": [
        {
          "output_type": "execute_result",
          "data": {
            "text/html": [
              "<div>\n",
              "<style scoped>\n",
              "    .dataframe tbody tr th:only-of-type {\n",
              "        vertical-align: middle;\n",
              "    }\n",
              "\n",
              "    .dataframe tbody tr th {\n",
              "        vertical-align: top;\n",
              "    }\n",
              "\n",
              "    .dataframe thead th {\n",
              "        text-align: right;\n",
              "    }\n",
              "</style>\n",
              "<table border=\"1\" class=\"dataframe\">\n",
              "  <thead>\n",
              "    <tr style=\"text-align: right;\">\n",
              "      <th></th>\n",
              "      <th>Date_time</th>\n",
              "      <th>city</th>\n",
              "      <th>state/province</th>\n",
              "      <th>country</th>\n",
              "      <th>UFO_shape</th>\n",
              "      <th>length_of_encounter_seconds</th>\n",
              "      <th>described_duration_of_encounter</th>\n",
              "      <th>description</th>\n",
              "      <th>date_documented</th>\n",
              "      <th>latitude</th>\n",
              "      <th>longitude</th>\n",
              "    </tr>\n",
              "  </thead>\n",
              "  <tbody>\n",
              "    <tr>\n",
              "      <th>0</th>\n",
              "      <td>1910-06-01 15:00:00</td>\n",
              "      <td>wills point</td>\n",
              "      <td>tx</td>\n",
              "      <td>us</td>\n",
              "      <td>cigar</td>\n",
              "      <td>120</td>\n",
              "      <td>2 minutes</td>\n",
              "      <td>Cigar shaped object moving from West to East</td>\n",
              "      <td>2005-04-16</td>\n",
              "      <td>32.709167</td>\n",
              "      <td>-96.008056</td>\n",
              "    </tr>\n",
              "    <tr>\n",
              "      <th>1</th>\n",
              "      <td>1920-06-11 21:00:00</td>\n",
              "      <td>cicero</td>\n",
              "      <td>in</td>\n",
              "      <td>us</td>\n",
              "      <td>unknown</td>\n",
              "      <td>60</td>\n",
              "      <td>1 minute</td>\n",
              "      <td>((NUFORC Note:  Probable hoax.  Note date.  PD...</td>\n",
              "      <td>2009-05-12</td>\n",
              "      <td>40.123889</td>\n",
              "      <td>-86.013333</td>\n",
              "    </tr>\n",
              "    <tr>\n",
              "      <th>2</th>\n",
              "      <td>1929-07-05 14:00:00</td>\n",
              "      <td>buchanan  (or burns)</td>\n",
              "      <td>or</td>\n",
              "      <td>us</td>\n",
              "      <td>disk</td>\n",
              "      <td>60</td>\n",
              "      <td>1min</td>\n",
              "      <td>we were traveling east of burns&amp;#44clmbing up ...</td>\n",
              "      <td>2002-08-16</td>\n",
              "      <td>43.642500</td>\n",
              "      <td>-118.627500</td>\n",
              "    </tr>\n",
              "    <tr>\n",
              "      <th>3</th>\n",
              "      <td>1931-06-01 13:00:00</td>\n",
              "      <td>abilene</td>\n",
              "      <td>ks</td>\n",
              "      <td>us</td>\n",
              "      <td>disk</td>\n",
              "      <td>1800</td>\n",
              "      <td>30 min. approx.</td>\n",
              "      <td>This is a what my mother related to me regardi...</td>\n",
              "      <td>2006-02-14</td>\n",
              "      <td>38.917222</td>\n",
              "      <td>-97.213611</td>\n",
              "    </tr>\n",
              "    <tr>\n",
              "      <th>4</th>\n",
              "      <td>1939-06-01 20:00:00</td>\n",
              "      <td>waterloo</td>\n",
              "      <td>al</td>\n",
              "      <td>us</td>\n",
              "      <td>fireball</td>\n",
              "      <td>300</td>\n",
              "      <td>5 minutes</td>\n",
              "      <td>4 high school students see bright&amp;#44 ground-l...</td>\n",
              "      <td>2014-02-21</td>\n",
              "      <td>34.918056</td>\n",
              "      <td>-88.064167</td>\n",
              "    </tr>\n",
              "  </tbody>\n",
              "</table>\n",
              "</div>"
            ],
            "text/plain": [
              "            Date_time                  city state/province country UFO_shape  \\\n",
              "0 1910-06-01 15:00:00           wills point             tx      us     cigar   \n",
              "1 1920-06-11 21:00:00                cicero             in      us   unknown   \n",
              "2 1929-07-05 14:00:00  buchanan  (or burns)             or      us      disk   \n",
              "3 1931-06-01 13:00:00               abilene             ks      us      disk   \n",
              "4 1939-06-01 20:00:00              waterloo             al      us  fireball   \n",
              "\n",
              "   length_of_encounter_seconds described_duration_of_encounter  \\\n",
              "0                          120                       2 minutes   \n",
              "1                           60                        1 minute   \n",
              "2                           60                            1min   \n",
              "3                         1800                 30 min. approx.   \n",
              "4                          300                       5 minutes   \n",
              "\n",
              "                                         description date_documented  \\\n",
              "0       Cigar shaped object moving from West to East      2005-04-16   \n",
              "1  ((NUFORC Note:  Probable hoax.  Note date.  PD...      2009-05-12   \n",
              "2  we were traveling east of burns&#44clmbing up ...      2002-08-16   \n",
              "3  This is a what my mother related to me regardi...      2006-02-14   \n",
              "4  4 high school students see bright&#44 ground-l...      2014-02-21   \n",
              "\n",
              "    latitude   longitude  \n",
              "0  32.709167  -96.008056  \n",
              "1  40.123889  -86.013333  \n",
              "2  43.642500 -118.627500  \n",
              "3  38.917222  -97.213611  \n",
              "4  34.918056  -88.064167  "
            ]
          },
          "metadata": {
            "tags": []
          },
          "execution_count": 218
        }
      ]
    },
    {
      "cell_type": "code",
      "metadata": {
        "id": "NRBp45LD891V",
        "colab_type": "code",
        "outputId": "03b01319-e3f0-43cd-dfd4-d0fec01c7b5e",
        "colab": {
          "base_uri": "https://localhost:8080/",
          "height": 190
        }
      },
      "source": [
        "cd=df['Date_time'].max()\n",
        "print('\\n Current Date : \\n',cd)\n",
        "od=df['Date_time'].min()\n",
        "print('\\n Oldest Date : \\n',od)\n",
        "print('\\nNumber of days between Current date and the oldest date\\n','-'*50)\n",
        "print((cd-od).days,'days')"
      ],
      "execution_count": 0,
      "outputs": [
        {
          "output_type": "stream",
          "text": [
            "\n",
            " Current Date : \n",
            " 2004-12-08 05:30:00\n",
            "\n",
            " Oldest Date : \n",
            " 1910-06-01 15:00:00\n",
            "\n",
            "Number of days between Current date and the oldest date\n",
            " --------------------------------------------------\n",
            "34523 days\n"
          ],
          "name": "stdout"
        }
      ]
    },
    {
      "cell_type": "markdown",
      "metadata": {
        "id": "ygy4igK5HXtQ",
        "colab_type": "text"
      },
      "source": [
        "**Q131.**Write a pandas program to get all sighting days of the\n",
        "unidentified flying object (ufo) between 1950-10-10 and 1960-10-\n",
        "10."
      ]
    },
    {
      "cell_type": "code",
      "metadata": {
        "id": "6xel40I_HdxA",
        "colab_type": "code",
        "outputId": "00306d3d-ca26-4e2a-d663-97eae7078944",
        "colab": {
          "base_uri": "https://localhost:8080/",
          "height": 1000
        }
      },
      "source": [
        "x=df.loc[(df['Date_time']>'1950-10-10 00:00:00') & (df['Date_time']<'1960-10-09 23:59:59')]\n",
        "print(x)"
      ],
      "execution_count": 0,
      "outputs": [
        {
          "output_type": "stream",
          "text": [
            "             Date_time                           city state/province country  \\\n",
            "33 1951-06-01 07:00:00               brandon (canada)             mb      ca   \n",
            "34 1951-07-01 03:00:00                  otis orchards             wa      us   \n",
            "35 1951-02-03 22:00:00                  thompsonville             ct      us   \n",
            "36 1951-06-03 13:00:00                         jasper             nc      us   \n",
            "37 1952-07-01 15:00:00                         sebeka             mn      us   \n",
            "38 1952-07-01 22:00:00                        detroit             mi      us   \n",
            "39 1952-08-01 21:30:00                          tampa             fl      us   \n",
            "40 1952-10-01 12:00:00                    kansas city             mo      us   \n",
            "41 1953-04-01 15:00:00                      haverhill             ma      us   \n",
            "42 1953-04-01 18:00:00                      cambridge             ma      us   \n",
            "43 1953-07-01 05:30:00  colorado springs (mtsn nw of)             co      us   \n",
            "44 1953-08-01 12:00:00                       berkeley             mo      us   \n",
            "45 1954-02-01 02:00:00                      fairbanks             ak      us   \n",
            "46 1954-06-01 00:00:00                        houston             tx      us   \n",
            "47 1954-06-01 06:00:00                           ovid             ny      us   \n",
            "48 1954-06-01 08:00:00  springfield (rural area near)             il      us   \n",
            "49 1955-05-01 15:00:00                       holbrook             ma      us   \n",
            "50 1955-06-01 02:00:00                         bagley             mn      us   \n",
            "51 1955-06-01 15:29:00                     cincinnati             oh      us   \n",
            "52 1955-06-01 17:00:00           martinez (outskirts)             ca      us   \n",
            "53 1956-01-01 05:30:00                        weirton             wv      us   \n",
            "54 1956-03-01 13:00:00                       petaluma             ca      us   \n",
            "55 1956-05-01 12:00:00                         canton             oh      us   \n",
            "56 1956-06-01 19:00:00                         belton             mo      us   \n",
            "57 1957-01-01 21:00:00                         dallas             tx      us   \n",
            "58 1957-05-01 12:00:00                         canton             oh      us   \n",
            "59 1957-06-01 10:00:00                        el paso             tx      us   \n",
            "60 1957-06-01 20:00:00                    glens falls             ny      us   \n",
            "61 1958-01-01 22:00:00                            pep             tx      us   \n",
            "62 1958-06-01 02:00:00                      middlesex             nc      us   \n",
            "63 1958-06-01 19:00:00                  san francisco             ca      us   \n",
            "64 1958-06-01 21:00:00          new york city (bronx)             ny      us   \n",
            "65 1959-04-01 01:00:00                          miami             fl      us   \n",
            "66 1959-05-01 18:30:00                       columbus             oh      us   \n",
            "67 1959-06-01 12:00:00                         orange             ct      us   \n",
            "68 1959-06-01 18:30:00                         sidney             oh      us   \n",
            "69 1960-02-01 22:15:00                       st. paul             mn      us   \n",
            "70 1960-02-01 23:00:00                       hartwell             ga      us   \n",
            "71 1960-04-01 21:00:00                        houston             tx      us   \n",
            "72 1960-05-01 20:00:00                         tucson             az      us   \n",
            "\n",
            "   UFO_shape  length_of_encounter_seconds described_duration_of_encounter  \\\n",
            "33      disk                         1800                      30 minutes   \n",
            "34      disk                          120                      ~2 minutes   \n",
            "35      disk                           30                      30 seconds   \n",
            "36      oval                          300                       5 minutes   \n",
            "37     other                         1800                          30 min   \n",
            "38    sphere                          300                       5 minutes   \n",
            "39      oval                         9000                  2 hrs. 30 min.   \n",
            "40      disk                           90                         90 sec.   \n",
            "41   chevron                            2                         seconds   \n",
            "42    sphere                          180                       3 minutes   \n",
            "43      disk                           10                      10 seconds   \n",
            "44  fireball                          300                       5 minutes   \n",
            "45   unknown                         1140                         19 min.   \n",
            "46      disk                          180                     2-3 minutes   \n",
            "47      disk                          600                         10 min.   \n",
            "48  cylinder                          600                      5-10 mins.   \n",
            "49       egg                           60                        1 minute   \n",
            "50    circle                         7200                         2 hours   \n",
            "51      disk                          120               approx. 1-1/2 min   \n",
            "52    circle                         1800                      30 minutes   \n",
            "53      disk                           10                      10 seconds   \n",
            "54      oval                         1800                      30 minutes   \n",
            "55     cigar                          120                       2 minutes   \n",
            "56     other                          600                          10min.   \n",
            "57   unknown                           20                      20 seconds   \n",
            "58     cigar                          180                       3 minutes   \n",
            "59      disk                            7                  5 to 7 seconds   \n",
            "60      disk                          240                         3or4min   \n",
            "61  fireball                            2                            2sec   \n",
            "62    circle                         3600                          1 hour   \n",
            "63      oval                          120                       2 minutes   \n",
            "64      oval                           10                      10 seconds   \n",
            "65    sphere                         2700                   30-45 minutes   \n",
            "66     light                          180                         2-3 min   \n",
            "67  cylinder                         3600                         1 hour?   \n",
            "68     light                          300                       5 minutes   \n",
            "69     cigar                            3                       3 seconds   \n",
            "70     cigar                           45         approx 30 to 45 seconds   \n",
            "71     other                          300                      <5 minutes   \n",
            "72     light                          300                     4-5 minutes   \n",
            "\n",
            "                                          description date_documented  \\\n",
            "33  Circular Craft and Man in Black Sighted in Sum...      2001-02-18   \n",
            "34  Cigar shaped Disc darting back and forth (East...      2013-12-23   \n",
            "35  A golden-orange glowing bowl&#44 flat on top&#...      2004-07-25   \n",
            "36  MIDDAY OVAL SHAPE&#44 ANITQUE COLOR OBJECT SIT...      2005-06-20   \n",
            "37  Silver donut shape object sighted over rural M...      2011-12-12   \n",
            "38  object sits stationary for 5 minutes and then ...      2003-10-31   \n",
            "39  Triangulation radar fix (USAF&#44 civil&#44 Na...      2000-12-02   \n",
            "40  1952 daylight sighting of multiple discs in fo...      2008-10-31   \n",
            "41                Historical account&#44 Haverhill MA      2005-09-02   \n",
            "42  Two red-orange lights skirted Boston rooftops ...      2013-07-14   \n",
            "43  Absolutely huge UFO hovered 40 feet above hous...      2004-07-25   \n",
            "44    Early 50&#39s sighting in Berkeley&#44 Missouri      2004-01-22   \n",
            "45  RADAR INTERCEPT OF UFO BY USAF PILOT IN ALASKA...      2009-01-10   \n",
            "46  I fulfilled my duty by passing on an unusual a...      2008-06-12   \n",
            "47  I saw two silver/gray objects of different sha...      2001-12-05   \n",
            "48  This happened many years ago when I was a chil...      2000-12-02   \n",
            "49  I turned around and over the trees was a large...      2005-04-16   \n",
            "50  I was 5 years old at the time&#44 family of 4 ...      1999-05-24   \n",
            "51  June 1955.  Bronze saucer/cylindrical craft; a...      2003-06-18   \n",
            "52  We observed a large object aprox.size &quot;fo...      2000-02-16   \n",
            "53  My Uncle Sam was driving to work very early on...      2000-01-07   \n",
            "54  Objects were several thousand feet in altitude...      1999-01-28   \n",
            "55  At first the silver disc was stationary. As it...      2005-09-15   \n",
            "56  THE EVENT WAS A PERSONAL CONTACT WITH AN ALIEN...      1999-01-28   \n",
            "57  I was flying the first of 4 USAF aircraft on a...      2004-08-24   \n",
            "58  Cigar shaped object is motionless for more tha...      2004-04-27   \n",
            "59  The UFO did not make any sounds.  The craft&#3...      2002-07-26   \n",
            "60  there was no mistakeing what i was looking at ...      2000-12-02   \n",
            "61  Green fire balls&#44 Texas Panhandle&#44 late ...      2009-12-12   \n",
            "62                               white glowing lights      2006-03-11   \n",
            "63  A low flying huge silver flying saucer positio...      2003-10-31   \n",
            "64  7 brightly illuminated elliptical discs racing...      2005-04-16   \n",
            "65  1959 childhood encounter with a spherical&#44 ...      2008-02-14   \n",
            "66  Red-orange lights over seen motionless over Lo...      2002-02-22   \n",
            "67  Sighted craft and transport of object to the g...      2009-03-19   \n",
            "68  Saw a bright light shining down.  Pulled over ...      2007-04-27   \n",
            "69  A cigar-shaped UFO glided down towards the ear...      2000-03-16   \n",
            "70  My father explained an event of a large cigar-...      2005-04-16   \n",
            "71  Sharp right angle turn in flight direction aft...      2003-12-19   \n",
            "72  Lights only&#44 no sound&#44 moving across the...      2005-09-02   \n",
            "\n",
            "     latitude   longitude  \n",
            "33  49.833333  -99.950000  \n",
            "34  47.700556 -117.105278  \n",
            "35  41.996944  -72.599444  \n",
            "36  35.201389  -77.206944  \n",
            "37  46.630000  -95.088611  \n",
            "38  42.331389  -83.045833  \n",
            "39  27.947222  -82.458611  \n",
            "40  39.099722  -94.578333  \n",
            "41  42.776111  -71.077778  \n",
            "42  42.375000  -71.106111  \n",
            "43  38.833889 -104.820833  \n",
            "44  38.754444  -90.331111  \n",
            "45  64.837778 -147.716389  \n",
            "46  29.763056  -95.363056  \n",
            "47  42.676389  -76.823333  \n",
            "48  39.801667  -89.643611  \n",
            "49  42.155000  -71.009167  \n",
            "50  47.521667  -95.398056  \n",
            "51  39.161944  -84.456944  \n",
            "52  38.019444 -122.133056  \n",
            "53  40.418889  -80.589722  \n",
            "54  38.232500 -122.635556  \n",
            "55  40.798889  -81.378611  \n",
            "56  38.811944  -94.531667  \n",
            "57  32.783333  -96.800000  \n",
            "58  40.798889  -81.378611  \n",
            "59  31.758611 -106.486389  \n",
            "60  43.309444  -73.644444  \n",
            "61  33.816111 -102.557778  \n",
            "62  35.790000  -78.204167  \n",
            "63  37.775000 -122.418333  \n",
            "64  40.714167  -74.006389  \n",
            "65  25.773889  -80.193889  \n",
            "66  39.961111  -82.998889  \n",
            "67  41.278333  -73.026111  \n",
            "68  40.284167  -84.155556  \n",
            "69  44.944444  -93.093056  \n",
            "70  34.352778  -82.932222  \n",
            "71  29.763056  -95.363056  \n",
            "72  32.221667 -110.925833  \n"
          ],
          "name": "stdout"
        }
      ]
    },
    {
      "cell_type": "markdown",
      "metadata": {
        "id": "qu_F0Brgs_wD",
        "colab_type": "text"
      },
      "source": [
        "**Q132.**Write a Pandas program to extract the year, month, day, hour,\n",
        "minute, second, and weekday from unidentified flying object (UFO)\n",
        "reporting date."
      ]
    },
    {
      "cell_type": "code",
      "metadata": {
        "id": "unMX2ChwtC0M",
        "colab_type": "code",
        "outputId": "1a71b1b0-f366-42d8-86a7-c595545c736e",
        "colab": {
          "base_uri": "https://localhost:8080/",
          "height": 1000
        }
      },
      "source": [
        "import datetime as dt\n",
        "print('\\n Year \\n','-'*25, sep='')\n",
        "print(df['Date_time'].dt.year.head(5))\n",
        "print('\\n Month \\n','-'*25, sep='')\n",
        "print(df['Date_time'].dt.month.head(5))\n",
        "print('\\n Day \\n','-'*25, sep='')\n",
        "print(df['Date_time'].dt.day.head(5))\n",
        "print('\\n Hour \\n','-'*25, sep='')\n",
        "print(df['Date_time'].dt.hour.head(5))\n",
        "print('\\n Minute \\n','-'*25, sep='')\n",
        "print(df['Date_time'].dt.minute.head(5))\n",
        "print('\\n Second \\n','-'*25, sep='')\n",
        "print(df['Date_time'].dt.second.head(5))\n",
        "print('\\n Weekday \\n','-'*25, sep='')\n",
        "print(df['Date_time'].dt.day_name().head(5))\n"
      ],
      "execution_count": 0,
      "outputs": [
        {
          "output_type": "stream",
          "text": [
            "\n",
            " Year \n",
            "-------------------------\n",
            "0    1910\n",
            "1    1920\n",
            "2    1929\n",
            "3    1931\n",
            "4    1939\n",
            "Name: Date_time, dtype: int64\n",
            "\n",
            " Month \n",
            "-------------------------\n",
            "0    6\n",
            "1    6\n",
            "2    7\n",
            "3    6\n",
            "4    6\n",
            "Name: Date_time, dtype: int64\n",
            "\n",
            " Day \n",
            "-------------------------\n",
            "0     1\n",
            "1    11\n",
            "2     5\n",
            "3     1\n",
            "4     1\n",
            "Name: Date_time, dtype: int64\n",
            "\n",
            " Hour \n",
            "-------------------------\n",
            "0    15\n",
            "1    21\n",
            "2    14\n",
            "3    13\n",
            "4    20\n",
            "Name: Date_time, dtype: int64\n",
            "\n",
            " Minute \n",
            "-------------------------\n",
            "0    0\n",
            "1    0\n",
            "2    0\n",
            "3    0\n",
            "4    0\n",
            "Name: Date_time, dtype: int64\n",
            "\n",
            " Second \n",
            "-------------------------\n",
            "0    0\n",
            "1    0\n",
            "2    0\n",
            "3    0\n",
            "4    0\n",
            "Name: Date_time, dtype: int64\n",
            "\n",
            " Weekday \n",
            "-------------------------\n",
            "0    Wednesday\n",
            "1       Friday\n",
            "2       Friday\n",
            "3       Monday\n",
            "4     Thursday\n",
            "Name: Date_time, dtype: object\n"
          ],
          "name": "stdout"
        }
      ]
    },
    {
      "cell_type": "markdown",
      "metadata": {
        "id": "v2umFP-G0DsA",
        "colab_type": "text"
      },
      "source": [
        "**Q133.** Write a pandas program to count year-country wise frequency of\n",
        "reporting dates of the unidentified flying object(UFO)."
      ]
    },
    {
      "cell_type": "code",
      "metadata": {
        "id": "tXLpL4XW0ILR",
        "colab_type": "code",
        "outputId": "f36d6a9b-eba7-4c9c-ee4f-1b97bc3d5c88",
        "colab": {
          "base_uri": "https://localhost:8080/",
          "height": 242
        }
      },
      "source": [
        "df['Year']=df['Date_time'].dt.year\n",
        "y=df.groupby(['Year','country']).size()\n",
        "print(y)"
      ],
      "execution_count": 0,
      "outputs": [
        {
          "output_type": "stream",
          "text": [
            "Year  country\n",
            "1910  us          1\n",
            "1920  us          1\n",
            "1929  us          1\n",
            "1931  us          1\n",
            "1939  us          2\n",
            "                 ..\n",
            "2002  ca          1\n",
            "      us         13\n",
            "2003  us          9\n",
            "2004  ca          1\n",
            "      us          6\n",
            "Length: 79, dtype: int64\n"
          ],
          "name": "stdout"
        }
      ]
    },
    {
      "cell_type": "markdown",
      "metadata": {
        "id": "nh6rICZ629Vl",
        "colab_type": "text"
      },
      "source": [
        "**Q134.** Write a pandas program to get the difference (in days) between\n",
        "documented date and reporting date of unidentified flying object\n",
        "(UFO)."
      ]
    },
    {
      "cell_type": "code",
      "metadata": {
        "id": "xcIW7-6H-94f",
        "colab_type": "code",
        "outputId": "28124596-fca6-4f2e-ccc9-ac5fd7abe802",
        "colab": {
          "base_uri": "https://localhost:8080/",
          "height": 311
        }
      },
      "source": [
        "print('\\n Difference in days between documented date and reporting date\\n','-'*70)\n",
        "df['difference(in days)'] = (df['date_documented'] - df['Date_time']).dt.days\n",
        "print(df[['Date_time','date_documented','difference(in days)']])"
      ],
      "execution_count": 0,
      "outputs": [
        {
          "output_type": "stream",
          "text": [
            "\n",
            " Difference in days between documented date and reporting date\n",
            " ----------------------------------------------------------------------\n",
            "              Date_time date_documented  difference(in days)\n",
            "0   1910-06-01 15:00:00      2005-04-16                34652\n",
            "1   1920-06-11 21:00:00      2009-05-12                32476\n",
            "2   1929-07-05 14:00:00      2002-08-16                26704\n",
            "3   1931-06-01 13:00:00      2006-02-14                27286\n",
            "4   1939-06-01 20:00:00      2014-02-21                27293\n",
            "..                  ...             ...                  ...\n",
            "342 2004-04-05 20:35:00      2004-04-09                    3\n",
            "343 2004-10-06 23:00:00      2004-10-27                   20\n",
            "344 2004-11-07 20:30:00      2004-11-09                    1\n",
            "345 2004-12-08 05:30:00      2007-08-07                  971\n",
            "346 2004-02-10 05:15:00      2004-02-12                    1\n",
            "\n",
            "[347 rows x 3 columns]\n"
          ],
          "name": "stdout"
        }
      ]
    },
    {
      "cell_type": "markdown",
      "metadata": {
        "id": "o8P8RB8PBR9p",
        "colab_type": "text"
      },
      "source": [
        "**Q135.** Write a pandas program to generate sequences of fixedfrequency dates and time spans."
      ]
    },
    {
      "cell_type": "code",
      "metadata": {
        "id": "7oM6hHT7BV8H",
        "colab_type": "code",
        "outputId": "a1bd3578-6713-4845-ba81-d1993e13894e",
        "colab": {
          "base_uri": "https://localhost:8080/",
          "height": 86
        }
      },
      "source": [
        "# generate date starts from 1-may-2020  having 1hour frequency\n",
        "x=pd.date_range(start='2020-05-01',periods=5,freq='H')\n",
        "print(x)"
      ],
      "execution_count": 0,
      "outputs": [
        {
          "output_type": "stream",
          "text": [
            "DatetimeIndex(['2020-05-01 00:00:00', '2020-05-01 01:00:00',\n",
            "               '2020-05-01 02:00:00', '2020-05-01 03:00:00',\n",
            "               '2020-05-01 04:00:00'],\n",
            "              dtype='datetime64[ns]', freq='H')\n"
          ],
          "name": "stdout"
        }
      ]
    },
    {
      "cell_type": "code",
      "metadata": {
        "id": "YH638drRj3iW",
        "colab_type": "code",
        "outputId": "e66feda7-f5d8-44fa-df36-196140864ef1",
        "colab": {
          "base_uri": "https://localhost:8080/",
          "height": 86
        }
      },
      "source": [
        "# generate date starts from 1-may-2020  having 1 minute frequency\n",
        "z=pd.date_range(start='2020-05-01',periods=5,freq='min')\n",
        "print(z)"
      ],
      "execution_count": 0,
      "outputs": [
        {
          "output_type": "stream",
          "text": [
            "DatetimeIndex(['2020-05-01 00:00:00', '2020-05-01 00:01:00',\n",
            "               '2020-05-01 00:02:00', '2020-05-01 00:03:00',\n",
            "               '2020-05-01 00:04:00'],\n",
            "              dtype='datetime64[ns]', freq='T')\n"
          ],
          "name": "stdout"
        }
      ]
    },
    {
      "cell_type": "code",
      "metadata": {
        "id": "4qgM7EEzkQee",
        "colab_type": "code",
        "outputId": "2a2516d4-1852-4b4e-dc96-a2742faba4c8",
        "colab": {
          "base_uri": "https://localhost:8080/",
          "height": 86
        }
      },
      "source": [
        "# generate date starts from 1-may-2020  having 1 second frequency\n",
        "z=pd.date_range(start='2020-05-01',periods=5,freq='S')\n",
        "print(z)"
      ],
      "execution_count": 0,
      "outputs": [
        {
          "output_type": "stream",
          "text": [
            "DatetimeIndex(['2020-05-01 00:00:00', '2020-05-01 00:00:01',\n",
            "               '2020-05-01 00:00:02', '2020-05-01 00:00:03',\n",
            "               '2020-05-01 00:00:04'],\n",
            "              dtype='datetime64[ns]', freq='S')\n"
          ],
          "name": "stdout"
        }
      ]
    },
    {
      "cell_type": "code",
      "metadata": {
        "id": "-rwYdpVYherk",
        "colab_type": "code",
        "outputId": "a0bb8a36-2f8c-4124-afa1-222fbb9e44c1",
        "colab": {
          "base_uri": "https://localhost:8080/",
          "height": 69
        }
      },
      "source": [
        "#generate dates starts from 1-may-2020  having frequency 2 month\n",
        "y=pd.date_range(start='2020-05-01',periods=5,freq='2M')\n",
        "print(y)"
      ],
      "execution_count": 0,
      "outputs": [
        {
          "output_type": "stream",
          "text": [
            "DatetimeIndex(['2020-05-31', '2020-07-31', '2020-09-30', '2020-11-30',\n",
            "               '2021-01-31'],\n",
            "              dtype='datetime64[ns]', freq='2M')\n"
          ],
          "name": "stdout"
        }
      ]
    },
    {
      "cell_type": "markdown",
      "metadata": {
        "id": "U_D20XZbkmg1",
        "colab_type": "text"
      },
      "source": [
        "**Q136.** Write a pandas program to manipulate and convert date times\n",
        "with timezone information."
      ]
    },
    {
      "cell_type": "code",
      "metadata": {
        "id": "vIy9sSjZE5ju",
        "colab_type": "code",
        "outputId": "21e3fad8-e5e8-44cb-c389-ae1c2122746e",
        "colab": {
          "base_uri": "https://localhost:8080/",
          "height": 173
        }
      },
      "source": [
        "d = pd.date_range('2020-01-01', periods=3, freq='H')\n",
        "d = d.tz_localize('UTC')\n",
        "print(d)\n",
        "print('\\n Converting From UTC to US/Pacific time zone:\\n','-'*50)\n",
        "print(d.tz_convert('US/Pacific'))"
      ],
      "execution_count": 0,
      "outputs": [
        {
          "output_type": "stream",
          "text": [
            "DatetimeIndex(['2020-01-01 00:00:00+00:00', '2020-01-01 01:00:00+00:00',\n",
            "               '2020-01-01 02:00:00+00:00'],\n",
            "              dtype='datetime64[ns, UTC]', freq='H')\n",
            "\n",
            " Converting From UTC to US/Pacific time zone:\n",
            " --------------------------------------------------\n",
            "DatetimeIndex(['2019-12-31 16:00:00-08:00', '2019-12-31 17:00:00-08:00',\n",
            "               '2019-12-31 18:00:00-08:00'],\n",
            "              dtype='datetime64[ns, US/Pacific]', freq='H')\n"
          ],
          "name": "stdout"
        }
      ]
    },
    {
      "cell_type": "markdown",
      "metadata": {
        "id": "yLMHr1ADmCV4",
        "colab_type": "text"
      },
      "source": [
        "**Q137.** Write a pandas program to create the graphical analysis of UFO\n",
        "(unidentified flying object) Sightings year."
      ]
    },
    {
      "cell_type": "code",
      "metadata": {
        "id": "m4ZHElym8KIF",
        "colab_type": "code",
        "outputId": "8fbfd3b7-98ba-4bc7-908a-9d072ef334c0",
        "colab": {
          "base_uri": "https://localhost:8080/",
          "height": 435
        }
      },
      "source": [
        "u=df['Year'].value_counts()\n",
        "plt.figure(figsize=(16,5))\n",
        "plt.title('UFO Sightings by Year',fontsize=15)\n",
        "plt.ylabel('Number of reports',fontsize=14)\n",
        "plt.xlabel('Year',fontsize=14) \n",
        "ax=sns.barplot(x=u.index,y=u.values,palette='Reds')\n",
        "#plt.subplots_adjust(bottom=0)\n",
        "#ax.figure.autofmt_xdate()\n",
        "plt.xticks(rotation=90)"
      ],
      "execution_count": 0,
      "outputs": [
        {
          "output_type": "execute_result",
          "data": {
            "text/plain": [
              "(array([ 0,  1,  2,  3,  4,  5,  6,  7,  8,  9, 10, 11, 12, 13, 14, 15, 16,\n",
              "        17, 18, 19, 20, 21, 22, 23, 24, 25, 26, 27, 28, 29, 30, 31, 32, 33,\n",
              "        34, 35, 36, 37, 38, 39, 40, 41, 42, 43, 44, 45, 46, 47, 48, 49, 50,\n",
              "        51, 52, 53, 54, 55, 56, 57, 58, 59, 60, 61, 62, 63, 64, 65, 66, 67]),\n",
              " <a list of 68 Text major ticklabel objects>)"
            ]
          },
          "metadata": {
            "tags": []
          },
          "execution_count": 229
        },
        {
          "output_type": "display_data",
          "data": {
            "image/png": "[encoded data removed]",
            "text/plain": [
              "<Figure size 1152x360 with 1 Axes>"
            ]
          },
          "metadata": {
            "tags": [],
            "needs_background": "light"
          }
        }
      ]
    },
    {
      "cell_type": "markdown",
      "metadata": {
        "id": "T0jjapZH5uTK",
        "colab_type": "text"
      },
      "source": [
        "**Q138.** Write a pandas program to create a comparison of the top 10\n",
        "years in which the (UFO) was sighted VS each Month."
      ]
    },
    {
      "cell_type": "code",
      "metadata": {
        "id": "cCZzH-GP9fl-",
        "colab_type": "code",
        "outputId": "87f3106a-03ba-48f6-901e-ef85e36a2bfa",
        "colab": {
          "base_uri": "https://localhost:8080/",
          "height": 378
        }
      },
      "source": [
        "df['Month']=df['Date_time'].dt.month\n",
        "result=df.pivot_table(index='Year',columns='Month',aggfunc='count')\n",
        "result['Date_time'].head(10)"
      ],
      "execution_count": 0,
      "outputs": [
        {
          "output_type": "execute_result",
          "data": {
            "text/html": [
              "<div>\n",
              "<style scoped>\n",
              "    .dataframe tbody tr th:only-of-type {\n",
              "        vertical-align: middle;\n",
              "    }\n",
              "\n",
              "    .dataframe tbody tr th {\n",
              "        vertical-align: top;\n",
              "    }\n",
              "\n",
              "    .dataframe thead th {\n",
              "        text-align: right;\n",
              "    }\n",
              "</style>\n",
              "<table border=\"1\" class=\"dataframe\">\n",
              "  <thead>\n",
              "    <tr style=\"text-align: right;\">\n",
              "      <th>Month</th>\n",
              "      <th>1</th>\n",
              "      <th>2</th>\n",
              "      <th>3</th>\n",
              "      <th>4</th>\n",
              "      <th>5</th>\n",
              "      <th>6</th>\n",
              "      <th>7</th>\n",
              "      <th>8</th>\n",
              "      <th>9</th>\n",
              "      <th>10</th>\n",
              "      <th>11</th>\n",
              "      <th>12</th>\n",
              "    </tr>\n",
              "    <tr>\n",
              "      <th>Year</th>\n",
              "      <th></th>\n",
              "      <th></th>\n",
              "      <th></th>\n",
              "      <th></th>\n",
              "      <th></th>\n",
              "      <th></th>\n",
              "      <th></th>\n",
              "      <th></th>\n",
              "      <th></th>\n",
              "      <th></th>\n",
              "      <th></th>\n",
              "      <th></th>\n",
              "    </tr>\n",
              "  </thead>\n",
              "  <tbody>\n",
              "    <tr>\n",
              "      <th>1910</th>\n",
              "      <td>NaN</td>\n",
              "      <td>NaN</td>\n",
              "      <td>NaN</td>\n",
              "      <td>NaN</td>\n",
              "      <td>NaN</td>\n",
              "      <td>1.0</td>\n",
              "      <td>NaN</td>\n",
              "      <td>NaN</td>\n",
              "      <td>NaN</td>\n",
              "      <td>NaN</td>\n",
              "      <td>NaN</td>\n",
              "      <td>NaN</td>\n",
              "    </tr>\n",
              "    <tr>\n",
              "      <th>1920</th>\n",
              "      <td>NaN</td>\n",
              "      <td>NaN</td>\n",
              "      <td>NaN</td>\n",
              "      <td>NaN</td>\n",
              "      <td>NaN</td>\n",
              "      <td>1.0</td>\n",
              "      <td>NaN</td>\n",
              "      <td>NaN</td>\n",
              "      <td>NaN</td>\n",
              "      <td>NaN</td>\n",
              "      <td>NaN</td>\n",
              "      <td>NaN</td>\n",
              "    </tr>\n",
              "    <tr>\n",
              "      <th>1929</th>\n",
              "      <td>NaN</td>\n",
              "      <td>NaN</td>\n",
              "      <td>NaN</td>\n",
              "      <td>NaN</td>\n",
              "      <td>NaN</td>\n",
              "      <td>NaN</td>\n",
              "      <td>1.0</td>\n",
              "      <td>NaN</td>\n",
              "      <td>NaN</td>\n",
              "      <td>NaN</td>\n",
              "      <td>NaN</td>\n",
              "      <td>NaN</td>\n",
              "    </tr>\n",
              "    <tr>\n",
              "      <th>1931</th>\n",
              "      <td>NaN</td>\n",
              "      <td>NaN</td>\n",
              "      <td>NaN</td>\n",
              "      <td>NaN</td>\n",
              "      <td>NaN</td>\n",
              "      <td>1.0</td>\n",
              "      <td>NaN</td>\n",
              "      <td>NaN</td>\n",
              "      <td>NaN</td>\n",
              "      <td>NaN</td>\n",
              "      <td>NaN</td>\n",
              "      <td>NaN</td>\n",
              "    </tr>\n",
              "    <tr>\n",
              "      <th>1939</th>\n",
              "      <td>NaN</td>\n",
              "      <td>NaN</td>\n",
              "      <td>NaN</td>\n",
              "      <td>NaN</td>\n",
              "      <td>NaN</td>\n",
              "      <td>1.0</td>\n",
              "      <td>1.0</td>\n",
              "      <td>NaN</td>\n",
              "      <td>NaN</td>\n",
              "      <td>NaN</td>\n",
              "      <td>NaN</td>\n",
              "      <td>NaN</td>\n",
              "    </tr>\n",
              "    <tr>\n",
              "      <th>1941</th>\n",
              "      <td>NaN</td>\n",
              "      <td>NaN</td>\n",
              "      <td>NaN</td>\n",
              "      <td>NaN</td>\n",
              "      <td>NaN</td>\n",
              "      <td>1.0</td>\n",
              "      <td>NaN</td>\n",
              "      <td>NaN</td>\n",
              "      <td>NaN</td>\n",
              "      <td>NaN</td>\n",
              "      <td>NaN</td>\n",
              "      <td>NaN</td>\n",
              "    </tr>\n",
              "    <tr>\n",
              "      <th>1942</th>\n",
              "      <td>NaN</td>\n",
              "      <td>NaN</td>\n",
              "      <td>NaN</td>\n",
              "      <td>NaN</td>\n",
              "      <td>NaN</td>\n",
              "      <td>1.0</td>\n",
              "      <td>NaN</td>\n",
              "      <td>NaN</td>\n",
              "      <td>NaN</td>\n",
              "      <td>NaN</td>\n",
              "      <td>NaN</td>\n",
              "      <td>NaN</td>\n",
              "    </tr>\n",
              "    <tr>\n",
              "      <th>1944</th>\n",
              "      <td>1.0</td>\n",
              "      <td>NaN</td>\n",
              "      <td>NaN</td>\n",
              "      <td>1.0</td>\n",
              "      <td>NaN</td>\n",
              "      <td>1.0</td>\n",
              "      <td>NaN</td>\n",
              "      <td>NaN</td>\n",
              "      <td>NaN</td>\n",
              "      <td>NaN</td>\n",
              "      <td>NaN</td>\n",
              "      <td>NaN</td>\n",
              "    </tr>\n",
              "    <tr>\n",
              "      <th>1945</th>\n",
              "      <td>NaN</td>\n",
              "      <td>NaN</td>\n",
              "      <td>NaN</td>\n",
              "      <td>NaN</td>\n",
              "      <td>NaN</td>\n",
              "      <td>2.0</td>\n",
              "      <td>1.0</td>\n",
              "      <td>1.0</td>\n",
              "      <td>NaN</td>\n",
              "      <td>NaN</td>\n",
              "      <td>NaN</td>\n",
              "      <td>NaN</td>\n",
              "    </tr>\n",
              "    <tr>\n",
              "      <th>1946</th>\n",
              "      <td>1.0</td>\n",
              "      <td>1.0</td>\n",
              "      <td>NaN</td>\n",
              "      <td>NaN</td>\n",
              "      <td>NaN</td>\n",
              "      <td>NaN</td>\n",
              "      <td>1.0</td>\n",
              "      <td>NaN</td>\n",
              "      <td>NaN</td>\n",
              "      <td>NaN</td>\n",
              "      <td>NaN</td>\n",
              "      <td>NaN</td>\n",
              "    </tr>\n",
              "  </tbody>\n",
              "</table>\n",
              "</div>"
            ],
            "text/plain": [
              "Month   1    2   3    4   5    6    7    8   9   10  11  12\n",
              "Year                                                       \n",
              "1910   NaN  NaN NaN  NaN NaN  1.0  NaN  NaN NaN NaN NaN NaN\n",
              "1920   NaN  NaN NaN  NaN NaN  1.0  NaN  NaN NaN NaN NaN NaN\n",
              "1929   NaN  NaN NaN  NaN NaN  NaN  1.0  NaN NaN NaN NaN NaN\n",
              "1931   NaN  NaN NaN  NaN NaN  1.0  NaN  NaN NaN NaN NaN NaN\n",
              "1939   NaN  NaN NaN  NaN NaN  1.0  1.0  NaN NaN NaN NaN NaN\n",
              "1941   NaN  NaN NaN  NaN NaN  1.0  NaN  NaN NaN NaN NaN NaN\n",
              "1942   NaN  NaN NaN  NaN NaN  1.0  NaN  NaN NaN NaN NaN NaN\n",
              "1944   1.0  NaN NaN  1.0 NaN  1.0  NaN  NaN NaN NaN NaN NaN\n",
              "1945   NaN  NaN NaN  NaN NaN  2.0  1.0  1.0 NaN NaN NaN NaN\n",
              "1946   1.0  1.0 NaN  NaN NaN  NaN  1.0  NaN NaN NaN NaN NaN"
            ]
          },
          "metadata": {
            "tags": []
          },
          "execution_count": 230
        }
      ]
    },
    {
      "cell_type": "code",
      "metadata": {
        "id": "ToNeJfjqsTYo",
        "colab_type": "code",
        "outputId": "d8dbfb92-06e2-4a40-ba7b-eff6fe611dde",
        "colab": {
          "base_uri": "https://localhost:8080/",
          "height": 378
        }
      },
      "source": [
        "result['Date_time'].tail(10)"
      ],
      "execution_count": 0,
      "outputs": [
        {
          "output_type": "execute_result",
          "data": {
            "text/html": [
              "<div>\n",
              "<style scoped>\n",
              "    .dataframe tbody tr th:only-of-type {\n",
              "        vertical-align: middle;\n",
              "    }\n",
              "\n",
              "    .dataframe tbody tr th {\n",
              "        vertical-align: top;\n",
              "    }\n",
              "\n",
              "    .dataframe thead th {\n",
              "        text-align: right;\n",
              "    }\n",
              "</style>\n",
              "<table border=\"1\" class=\"dataframe\">\n",
              "  <thead>\n",
              "    <tr style=\"text-align: right;\">\n",
              "      <th>Month</th>\n",
              "      <th>1</th>\n",
              "      <th>2</th>\n",
              "      <th>3</th>\n",
              "      <th>4</th>\n",
              "      <th>5</th>\n",
              "      <th>6</th>\n",
              "      <th>7</th>\n",
              "      <th>8</th>\n",
              "      <th>9</th>\n",
              "      <th>10</th>\n",
              "      <th>11</th>\n",
              "      <th>12</th>\n",
              "    </tr>\n",
              "    <tr>\n",
              "      <th>Year</th>\n",
              "      <th></th>\n",
              "      <th></th>\n",
              "      <th></th>\n",
              "      <th></th>\n",
              "      <th></th>\n",
              "      <th></th>\n",
              "      <th></th>\n",
              "      <th></th>\n",
              "      <th></th>\n",
              "      <th></th>\n",
              "      <th></th>\n",
              "      <th></th>\n",
              "    </tr>\n",
              "  </thead>\n",
              "  <tbody>\n",
              "    <tr>\n",
              "      <th>1995</th>\n",
              "      <td>2.0</td>\n",
              "      <td>1.0</td>\n",
              "      <td>NaN</td>\n",
              "      <td>1.0</td>\n",
              "      <td>1.0</td>\n",
              "      <td>1.0</td>\n",
              "      <td>3.0</td>\n",
              "      <td>NaN</td>\n",
              "      <td>1.0</td>\n",
              "      <td>NaN</td>\n",
              "      <td>2.0</td>\n",
              "      <td>NaN</td>\n",
              "    </tr>\n",
              "    <tr>\n",
              "      <th>1996</th>\n",
              "      <td>NaN</td>\n",
              "      <td>1.0</td>\n",
              "      <td>NaN</td>\n",
              "      <td>1.0</td>\n",
              "      <td>1.0</td>\n",
              "      <td>1.0</td>\n",
              "      <td>3.0</td>\n",
              "      <td>3.0</td>\n",
              "      <td>1.0</td>\n",
              "      <td>NaN</td>\n",
              "      <td>1.0</td>\n",
              "      <td>NaN</td>\n",
              "    </tr>\n",
              "    <tr>\n",
              "      <th>1997</th>\n",
              "      <td>NaN</td>\n",
              "      <td>2.0</td>\n",
              "      <td>1.0</td>\n",
              "      <td>NaN</td>\n",
              "      <td>2.0</td>\n",
              "      <td>1.0</td>\n",
              "      <td>3.0</td>\n",
              "      <td>1.0</td>\n",
              "      <td>1.0</td>\n",
              "      <td>1.0</td>\n",
              "      <td>1.0</td>\n",
              "      <td>1.0</td>\n",
              "    </tr>\n",
              "    <tr>\n",
              "      <th>1998</th>\n",
              "      <td>1.0</td>\n",
              "      <td>2.0</td>\n",
              "      <td>1.0</td>\n",
              "      <td>3.0</td>\n",
              "      <td>NaN</td>\n",
              "      <td>2.0</td>\n",
              "      <td>1.0</td>\n",
              "      <td>NaN</td>\n",
              "      <td>NaN</td>\n",
              "      <td>1.0</td>\n",
              "      <td>NaN</td>\n",
              "      <td>2.0</td>\n",
              "    </tr>\n",
              "    <tr>\n",
              "      <th>1999</th>\n",
              "      <td>NaN</td>\n",
              "      <td>NaN</td>\n",
              "      <td>2.0</td>\n",
              "      <td>NaN</td>\n",
              "      <td>1.0</td>\n",
              "      <td>2.0</td>\n",
              "      <td>4.0</td>\n",
              "      <td>NaN</td>\n",
              "      <td>NaN</td>\n",
              "      <td>1.0</td>\n",
              "      <td>NaN</td>\n",
              "      <td>1.0</td>\n",
              "    </tr>\n",
              "    <tr>\n",
              "      <th>2000</th>\n",
              "      <td>NaN</td>\n",
              "      <td>3.0</td>\n",
              "      <td>2.0</td>\n",
              "      <td>NaN</td>\n",
              "      <td>2.0</td>\n",
              "      <td>1.0</td>\n",
              "      <td>1.0</td>\n",
              "      <td>NaN</td>\n",
              "      <td>NaN</td>\n",
              "      <td>NaN</td>\n",
              "      <td>1.0</td>\n",
              "      <td>2.0</td>\n",
              "    </tr>\n",
              "    <tr>\n",
              "      <th>2001</th>\n",
              "      <td>2.0</td>\n",
              "      <td>1.0</td>\n",
              "      <td>2.0</td>\n",
              "      <td>2.0</td>\n",
              "      <td>1.0</td>\n",
              "      <td>2.0</td>\n",
              "      <td>NaN</td>\n",
              "      <td>1.0</td>\n",
              "      <td>2.0</td>\n",
              "      <td>NaN</td>\n",
              "      <td>1.0</td>\n",
              "      <td>1.0</td>\n",
              "    </tr>\n",
              "    <tr>\n",
              "      <th>2002</th>\n",
              "      <td>3.0</td>\n",
              "      <td>1.0</td>\n",
              "      <td>1.0</td>\n",
              "      <td>NaN</td>\n",
              "      <td>3.0</td>\n",
              "      <td>NaN</td>\n",
              "      <td>2.0</td>\n",
              "      <td>1.0</td>\n",
              "      <td>2.0</td>\n",
              "      <td>1.0</td>\n",
              "      <td>NaN</td>\n",
              "      <td>NaN</td>\n",
              "    </tr>\n",
              "    <tr>\n",
              "      <th>2003</th>\n",
              "      <td>1.0</td>\n",
              "      <td>NaN</td>\n",
              "      <td>1.0</td>\n",
              "      <td>2.0</td>\n",
              "      <td>1.0</td>\n",
              "      <td>NaN</td>\n",
              "      <td>2.0</td>\n",
              "      <td>NaN</td>\n",
              "      <td>NaN</td>\n",
              "      <td>1.0</td>\n",
              "      <td>1.0</td>\n",
              "      <td>NaN</td>\n",
              "    </tr>\n",
              "    <tr>\n",
              "      <th>2004</th>\n",
              "      <td>NaN</td>\n",
              "      <td>2.0</td>\n",
              "      <td>NaN</td>\n",
              "      <td>1.0</td>\n",
              "      <td>NaN</td>\n",
              "      <td>NaN</td>\n",
              "      <td>NaN</td>\n",
              "      <td>NaN</td>\n",
              "      <td>NaN</td>\n",
              "      <td>2.0</td>\n",
              "      <td>1.0</td>\n",
              "      <td>1.0</td>\n",
              "    </tr>\n",
              "  </tbody>\n",
              "</table>\n",
              "</div>"
            ],
            "text/plain": [
              "Month   1    2    3    4    5    6    7    8    9    10   11   12\n",
              "Year                                                             \n",
              "1995   2.0  1.0  NaN  1.0  1.0  1.0  3.0  NaN  1.0  NaN  2.0  NaN\n",
              "1996   NaN  1.0  NaN  1.0  1.0  1.0  3.0  3.0  1.0  NaN  1.0  NaN\n",
              "1997   NaN  2.0  1.0  NaN  2.0  1.0  3.0  1.0  1.0  1.0  1.0  1.0\n",
              "1998   1.0  2.0  1.0  3.0  NaN  2.0  1.0  NaN  NaN  1.0  NaN  2.0\n",
              "1999   NaN  NaN  2.0  NaN  1.0  2.0  4.0  NaN  NaN  1.0  NaN  1.0\n",
              "2000   NaN  3.0  2.0  NaN  2.0  1.0  1.0  NaN  NaN  NaN  1.0  2.0\n",
              "2001   2.0  1.0  2.0  2.0  1.0  2.0  NaN  1.0  2.0  NaN  1.0  1.0\n",
              "2002   3.0  1.0  1.0  NaN  3.0  NaN  2.0  1.0  2.0  1.0  NaN  NaN\n",
              "2003   1.0  NaN  1.0  2.0  1.0  NaN  2.0  NaN  NaN  1.0  1.0  NaN\n",
              "2004   NaN  2.0  NaN  1.0  NaN  NaN  NaN  NaN  NaN  2.0  1.0  1.0"
            ]
          },
          "metadata": {
            "tags": []
          },
          "execution_count": 231
        }
      ]
    },
    {
      "cell_type": "markdown",
      "metadata": {
        "id": "lBP3mKpEsbDm",
        "colab_type": "text"
      },
      "source": [
        "**Q139.** Write a pandas program to create a heatmap (rectangular data as\n",
        "a colour-encoded matrix) for comparison of top 10 years in\n",
        "which (UFO ) was sighted VS each Month."
      ]
    },
    {
      "cell_type": "code",
      "metadata": {
        "id": "vUhhpphwszCn",
        "colab_type": "code",
        "outputId": "ecd6800c-4402-4f93-cdbb-e76d7b00a474",
        "colab": {
          "base_uri": "https://localhost:8080/",
          "height": 464
        }
      },
      "source": [
        "plt.figure(figsize=(10,7))\n",
        "sns.heatmap(result['Date_time'].iloc[58:],vmax=4,vmin=0,annot=True)"
      ],
      "execution_count": 0,
      "outputs": [
        {
          "output_type": "execute_result",
          "data": {
            "text/plain": [
              "<matplotlib.axes._subplots.AxesSubplot at 0x7f312dbb7e80>"
            ]
          },
          "metadata": {
            "tags": []
          },
          "execution_count": 232
        },
        {
          "output_type": "display_data",
          "data": {
            "image/png": "[encoded data removed]",
            "text/plain": [
              "<Figure size 720x504 with 2 Axes>"
            ]
          },
          "metadata": {
            "tags": [],
            "needs_background": "light"
          }
        }
      ]
    },
    {
      "cell_type": "markdown",
      "metadata": {
        "id": "6-oOLIzHc6Zx",
        "colab_type": "text"
      },
      "source": [
        "**Q140.** Write a pandas program to create a Timewheel of Hour VS Year\n",
        "comparison of the top 10 years in which the (UFO) was sighted."
      ]
    },
    {
      "cell_type": "code",
      "metadata": {
        "id": "j00V77kPdnmo",
        "colab_type": "code",
        "outputId": "10402866-2bf8-4a3f-c3aa-b825ef328670",
        "colab": {
          "base_uri": "https://localhost:8080/",
          "height": 248
        }
      },
      "source": [
        "df['Hour']=df['Date_time'].dt.hour\n",
        "ans=df.pivot_table(index='Hour',columns='Year',aggfunc='count')\n",
        "ans['Date_time'].head(5)"
      ],
      "execution_count": 0,
      "outputs": [
        {
          "output_type": "execute_result",
          "data": {
            "text/html": [
              "<div>\n",
              "<style scoped>\n",
              "    .dataframe tbody tr th:only-of-type {\n",
              "        vertical-align: middle;\n",
              "    }\n",
              "\n",
              "    .dataframe tbody tr th {\n",
              "        vertical-align: top;\n",
              "    }\n",
              "\n",
              "    .dataframe thead th {\n",
              "        text-align: right;\n",
              "    }\n",
              "</style>\n",
              "<table border=\"1\" class=\"dataframe\">\n",
              "  <thead>\n",
              "    <tr style=\"text-align: right;\">\n",
              "      <th>Year</th>\n",
              "      <th>1910</th>\n",
              "      <th>1920</th>\n",
              "      <th>1929</th>\n",
              "      <th>1931</th>\n",
              "      <th>1939</th>\n",
              "      <th>1941</th>\n",
              "      <th>1942</th>\n",
              "      <th>1944</th>\n",
              "      <th>1945</th>\n",
              "      <th>1946</th>\n",
              "      <th>1947</th>\n",
              "      <th>1948</th>\n",
              "      <th>1949</th>\n",
              "      <th>1950</th>\n",
              "      <th>1951</th>\n",
              "      <th>1952</th>\n",
              "      <th>1953</th>\n",
              "      <th>1954</th>\n",
              "      <th>1955</th>\n",
              "      <th>1956</th>\n",
              "      <th>1957</th>\n",
              "      <th>1958</th>\n",
              "      <th>1959</th>\n",
              "      <th>1960</th>\n",
              "      <th>1961</th>\n",
              "      <th>1962</th>\n",
              "      <th>1963</th>\n",
              "      <th>1964</th>\n",
              "      <th>1965</th>\n",
              "      <th>1966</th>\n",
              "      <th>1967</th>\n",
              "      <th>1968</th>\n",
              "      <th>1969</th>\n",
              "      <th>1970</th>\n",
              "      <th>1971</th>\n",
              "      <th>1972</th>\n",
              "      <th>1973</th>\n",
              "      <th>1974</th>\n",
              "      <th>1975</th>\n",
              "      <th>1976</th>\n",
              "      <th>1977</th>\n",
              "      <th>1978</th>\n",
              "      <th>1979</th>\n",
              "      <th>1980</th>\n",
              "      <th>1981</th>\n",
              "      <th>1982</th>\n",
              "      <th>1983</th>\n",
              "      <th>1984</th>\n",
              "      <th>1985</th>\n",
              "      <th>1986</th>\n",
              "      <th>1987</th>\n",
              "      <th>1988</th>\n",
              "      <th>1989</th>\n",
              "      <th>1990</th>\n",
              "      <th>1991</th>\n",
              "      <th>1992</th>\n",
              "      <th>1993</th>\n",
              "      <th>1994</th>\n",
              "      <th>1995</th>\n",
              "      <th>1996</th>\n",
              "      <th>1997</th>\n",
              "      <th>1998</th>\n",
              "      <th>1999</th>\n",
              "      <th>2000</th>\n",
              "      <th>2001</th>\n",
              "      <th>2002</th>\n",
              "      <th>2003</th>\n",
              "      <th>2004</th>\n",
              "    </tr>\n",
              "    <tr>\n",
              "      <th>Hour</th>\n",
              "      <th></th>\n",
              "      <th></th>\n",
              "      <th></th>\n",
              "      <th></th>\n",
              "      <th></th>\n",
              "      <th></th>\n",
              "      <th></th>\n",
              "      <th></th>\n",
              "      <th></th>\n",
              "      <th></th>\n",
              "      <th></th>\n",
              "      <th></th>\n",
              "      <th></th>\n",
              "      <th></th>\n",
              "      <th></th>\n",
              "      <th></th>\n",
              "      <th></th>\n",
              "      <th></th>\n",
              "      <th></th>\n",
              "      <th></th>\n",
              "      <th></th>\n",
              "      <th></th>\n",
              "      <th></th>\n",
              "      <th></th>\n",
              "      <th></th>\n",
              "      <th></th>\n",
              "      <th></th>\n",
              "      <th></th>\n",
              "      <th></th>\n",
              "      <th></th>\n",
              "      <th></th>\n",
              "      <th></th>\n",
              "      <th></th>\n",
              "      <th></th>\n",
              "      <th></th>\n",
              "      <th></th>\n",
              "      <th></th>\n",
              "      <th></th>\n",
              "      <th></th>\n",
              "      <th></th>\n",
              "      <th></th>\n",
              "      <th></th>\n",
              "      <th></th>\n",
              "      <th></th>\n",
              "      <th></th>\n",
              "      <th></th>\n",
              "      <th></th>\n",
              "      <th></th>\n",
              "      <th></th>\n",
              "      <th></th>\n",
              "      <th></th>\n",
              "      <th></th>\n",
              "      <th></th>\n",
              "      <th></th>\n",
              "      <th></th>\n",
              "      <th></th>\n",
              "      <th></th>\n",
              "      <th></th>\n",
              "      <th></th>\n",
              "      <th></th>\n",
              "      <th></th>\n",
              "      <th></th>\n",
              "      <th></th>\n",
              "      <th></th>\n",
              "      <th></th>\n",
              "      <th></th>\n",
              "      <th></th>\n",
              "      <th></th>\n",
              "    </tr>\n",
              "  </thead>\n",
              "  <tbody>\n",
              "    <tr>\n",
              "      <th>0</th>\n",
              "      <td>NaN</td>\n",
              "      <td>NaN</td>\n",
              "      <td>NaN</td>\n",
              "      <td>NaN</td>\n",
              "      <td>NaN</td>\n",
              "      <td>NaN</td>\n",
              "      <td>NaN</td>\n",
              "      <td>NaN</td>\n",
              "      <td>NaN</td>\n",
              "      <td>NaN</td>\n",
              "      <td>NaN</td>\n",
              "      <td>NaN</td>\n",
              "      <td>NaN</td>\n",
              "      <td>NaN</td>\n",
              "      <td>NaN</td>\n",
              "      <td>NaN</td>\n",
              "      <td>NaN</td>\n",
              "      <td>1.0</td>\n",
              "      <td>NaN</td>\n",
              "      <td>NaN</td>\n",
              "      <td>NaN</td>\n",
              "      <td>NaN</td>\n",
              "      <td>NaN</td>\n",
              "      <td>NaN</td>\n",
              "      <td>NaN</td>\n",
              "      <td>1.0</td>\n",
              "      <td>1.0</td>\n",
              "      <td>NaN</td>\n",
              "      <td>NaN</td>\n",
              "      <td>NaN</td>\n",
              "      <td>1.0</td>\n",
              "      <td>2.0</td>\n",
              "      <td>1.0</td>\n",
              "      <td>2.0</td>\n",
              "      <td>NaN</td>\n",
              "      <td>NaN</td>\n",
              "      <td>NaN</td>\n",
              "      <td>1.0</td>\n",
              "      <td>NaN</td>\n",
              "      <td>NaN</td>\n",
              "      <td>NaN</td>\n",
              "      <td>NaN</td>\n",
              "      <td>NaN</td>\n",
              "      <td>1.0</td>\n",
              "      <td>1.0</td>\n",
              "      <td>1.0</td>\n",
              "      <td>NaN</td>\n",
              "      <td>NaN</td>\n",
              "      <td>NaN</td>\n",
              "      <td>NaN</td>\n",
              "      <td>1.0</td>\n",
              "      <td>NaN</td>\n",
              "      <td>1.0</td>\n",
              "      <td>NaN</td>\n",
              "      <td>NaN</td>\n",
              "      <td>NaN</td>\n",
              "      <td>1.0</td>\n",
              "      <td>NaN</td>\n",
              "      <td>NaN</td>\n",
              "      <td>NaN</td>\n",
              "      <td>NaN</td>\n",
              "      <td>2.0</td>\n",
              "      <td>2.0</td>\n",
              "      <td>NaN</td>\n",
              "      <td>3.0</td>\n",
              "      <td>NaN</td>\n",
              "      <td>1.0</td>\n",
              "      <td>NaN</td>\n",
              "    </tr>\n",
              "    <tr>\n",
              "      <th>1</th>\n",
              "      <td>NaN</td>\n",
              "      <td>NaN</td>\n",
              "      <td>NaN</td>\n",
              "      <td>NaN</td>\n",
              "      <td>NaN</td>\n",
              "      <td>NaN</td>\n",
              "      <td>NaN</td>\n",
              "      <td>NaN</td>\n",
              "      <td>1.0</td>\n",
              "      <td>NaN</td>\n",
              "      <td>NaN</td>\n",
              "      <td>NaN</td>\n",
              "      <td>NaN</td>\n",
              "      <td>NaN</td>\n",
              "      <td>NaN</td>\n",
              "      <td>NaN</td>\n",
              "      <td>NaN</td>\n",
              "      <td>NaN</td>\n",
              "      <td>NaN</td>\n",
              "      <td>NaN</td>\n",
              "      <td>NaN</td>\n",
              "      <td>NaN</td>\n",
              "      <td>1.0</td>\n",
              "      <td>NaN</td>\n",
              "      <td>NaN</td>\n",
              "      <td>NaN</td>\n",
              "      <td>NaN</td>\n",
              "      <td>NaN</td>\n",
              "      <td>NaN</td>\n",
              "      <td>1.0</td>\n",
              "      <td>NaN</td>\n",
              "      <td>NaN</td>\n",
              "      <td>NaN</td>\n",
              "      <td>NaN</td>\n",
              "      <td>1.0</td>\n",
              "      <td>NaN</td>\n",
              "      <td>1.0</td>\n",
              "      <td>1.0</td>\n",
              "      <td>NaN</td>\n",
              "      <td>NaN</td>\n",
              "      <td>NaN</td>\n",
              "      <td>1.0</td>\n",
              "      <td>NaN</td>\n",
              "      <td>1.0</td>\n",
              "      <td>1.0</td>\n",
              "      <td>1.0</td>\n",
              "      <td>NaN</td>\n",
              "      <td>NaN</td>\n",
              "      <td>1.0</td>\n",
              "      <td>NaN</td>\n",
              "      <td>1.0</td>\n",
              "      <td>NaN</td>\n",
              "      <td>NaN</td>\n",
              "      <td>NaN</td>\n",
              "      <td>NaN</td>\n",
              "      <td>NaN</td>\n",
              "      <td>1.0</td>\n",
              "      <td>NaN</td>\n",
              "      <td>NaN</td>\n",
              "      <td>1.0</td>\n",
              "      <td>1.0</td>\n",
              "      <td>1.0</td>\n",
              "      <td>NaN</td>\n",
              "      <td>NaN</td>\n",
              "      <td>1.0</td>\n",
              "      <td>1.0</td>\n",
              "      <td>1.0</td>\n",
              "      <td>1.0</td>\n",
              "    </tr>\n",
              "    <tr>\n",
              "      <th>2</th>\n",
              "      <td>NaN</td>\n",
              "      <td>NaN</td>\n",
              "      <td>NaN</td>\n",
              "      <td>NaN</td>\n",
              "      <td>1.0</td>\n",
              "      <td>NaN</td>\n",
              "      <td>NaN</td>\n",
              "      <td>NaN</td>\n",
              "      <td>NaN</td>\n",
              "      <td>1.0</td>\n",
              "      <td>1.0</td>\n",
              "      <td>1.0</td>\n",
              "      <td>NaN</td>\n",
              "      <td>NaN</td>\n",
              "      <td>NaN</td>\n",
              "      <td>NaN</td>\n",
              "      <td>NaN</td>\n",
              "      <td>1.0</td>\n",
              "      <td>1.0</td>\n",
              "      <td>NaN</td>\n",
              "      <td>NaN</td>\n",
              "      <td>1.0</td>\n",
              "      <td>NaN</td>\n",
              "      <td>NaN</td>\n",
              "      <td>NaN</td>\n",
              "      <td>NaN</td>\n",
              "      <td>1.0</td>\n",
              "      <td>NaN</td>\n",
              "      <td>NaN</td>\n",
              "      <td>NaN</td>\n",
              "      <td>NaN</td>\n",
              "      <td>NaN</td>\n",
              "      <td>NaN</td>\n",
              "      <td>1.0</td>\n",
              "      <td>NaN</td>\n",
              "      <td>NaN</td>\n",
              "      <td>NaN</td>\n",
              "      <td>NaN</td>\n",
              "      <td>NaN</td>\n",
              "      <td>NaN</td>\n",
              "      <td>NaN</td>\n",
              "      <td>NaN</td>\n",
              "      <td>1.0</td>\n",
              "      <td>NaN</td>\n",
              "      <td>NaN</td>\n",
              "      <td>NaN</td>\n",
              "      <td>NaN</td>\n",
              "      <td>NaN</td>\n",
              "      <td>NaN</td>\n",
              "      <td>NaN</td>\n",
              "      <td>NaN</td>\n",
              "      <td>NaN</td>\n",
              "      <td>NaN</td>\n",
              "      <td>NaN</td>\n",
              "      <td>NaN</td>\n",
              "      <td>NaN</td>\n",
              "      <td>1.0</td>\n",
              "      <td>NaN</td>\n",
              "      <td>1.0</td>\n",
              "      <td>NaN</td>\n",
              "      <td>NaN</td>\n",
              "      <td>NaN</td>\n",
              "      <td>1.0</td>\n",
              "      <td>1.0</td>\n",
              "      <td>NaN</td>\n",
              "      <td>NaN</td>\n",
              "      <td>2.0</td>\n",
              "      <td>NaN</td>\n",
              "    </tr>\n",
              "    <tr>\n",
              "      <th>3</th>\n",
              "      <td>NaN</td>\n",
              "      <td>NaN</td>\n",
              "      <td>NaN</td>\n",
              "      <td>NaN</td>\n",
              "      <td>NaN</td>\n",
              "      <td>NaN</td>\n",
              "      <td>NaN</td>\n",
              "      <td>NaN</td>\n",
              "      <td>NaN</td>\n",
              "      <td>NaN</td>\n",
              "      <td>NaN</td>\n",
              "      <td>NaN</td>\n",
              "      <td>NaN</td>\n",
              "      <td>NaN</td>\n",
              "      <td>1.0</td>\n",
              "      <td>NaN</td>\n",
              "      <td>NaN</td>\n",
              "      <td>NaN</td>\n",
              "      <td>NaN</td>\n",
              "      <td>NaN</td>\n",
              "      <td>NaN</td>\n",
              "      <td>NaN</td>\n",
              "      <td>NaN</td>\n",
              "      <td>NaN</td>\n",
              "      <td>NaN</td>\n",
              "      <td>NaN</td>\n",
              "      <td>NaN</td>\n",
              "      <td>NaN</td>\n",
              "      <td>NaN</td>\n",
              "      <td>NaN</td>\n",
              "      <td>NaN</td>\n",
              "      <td>NaN</td>\n",
              "      <td>NaN</td>\n",
              "      <td>NaN</td>\n",
              "      <td>NaN</td>\n",
              "      <td>NaN</td>\n",
              "      <td>NaN</td>\n",
              "      <td>NaN</td>\n",
              "      <td>1.0</td>\n",
              "      <td>NaN</td>\n",
              "      <td>NaN</td>\n",
              "      <td>NaN</td>\n",
              "      <td>NaN</td>\n",
              "      <td>NaN</td>\n",
              "      <td>NaN</td>\n",
              "      <td>NaN</td>\n",
              "      <td>NaN</td>\n",
              "      <td>NaN</td>\n",
              "      <td>NaN</td>\n",
              "      <td>1.0</td>\n",
              "      <td>NaN</td>\n",
              "      <td>1.0</td>\n",
              "      <td>NaN</td>\n",
              "      <td>NaN</td>\n",
              "      <td>NaN</td>\n",
              "      <td>NaN</td>\n",
              "      <td>NaN</td>\n",
              "      <td>NaN</td>\n",
              "      <td>NaN</td>\n",
              "      <td>NaN</td>\n",
              "      <td>NaN</td>\n",
              "      <td>NaN</td>\n",
              "      <td>NaN</td>\n",
              "      <td>NaN</td>\n",
              "      <td>NaN</td>\n",
              "      <td>NaN</td>\n",
              "      <td>NaN</td>\n",
              "      <td>NaN</td>\n",
              "    </tr>\n",
              "    <tr>\n",
              "      <th>4</th>\n",
              "      <td>NaN</td>\n",
              "      <td>NaN</td>\n",
              "      <td>NaN</td>\n",
              "      <td>NaN</td>\n",
              "      <td>NaN</td>\n",
              "      <td>NaN</td>\n",
              "      <td>NaN</td>\n",
              "      <td>NaN</td>\n",
              "      <td>NaN</td>\n",
              "      <td>NaN</td>\n",
              "      <td>NaN</td>\n",
              "      <td>NaN</td>\n",
              "      <td>NaN</td>\n",
              "      <td>1.0</td>\n",
              "      <td>NaN</td>\n",
              "      <td>NaN</td>\n",
              "      <td>NaN</td>\n",
              "      <td>NaN</td>\n",
              "      <td>NaN</td>\n",
              "      <td>NaN</td>\n",
              "      <td>NaN</td>\n",
              "      <td>NaN</td>\n",
              "      <td>NaN</td>\n",
              "      <td>NaN</td>\n",
              "      <td>NaN</td>\n",
              "      <td>NaN</td>\n",
              "      <td>NaN</td>\n",
              "      <td>1.0</td>\n",
              "      <td>NaN</td>\n",
              "      <td>NaN</td>\n",
              "      <td>NaN</td>\n",
              "      <td>NaN</td>\n",
              "      <td>NaN</td>\n",
              "      <td>NaN</td>\n",
              "      <td>NaN</td>\n",
              "      <td>NaN</td>\n",
              "      <td>NaN</td>\n",
              "      <td>NaN</td>\n",
              "      <td>NaN</td>\n",
              "      <td>NaN</td>\n",
              "      <td>NaN</td>\n",
              "      <td>NaN</td>\n",
              "      <td>1.0</td>\n",
              "      <td>NaN</td>\n",
              "      <td>NaN</td>\n",
              "      <td>NaN</td>\n",
              "      <td>NaN</td>\n",
              "      <td>NaN</td>\n",
              "      <td>NaN</td>\n",
              "      <td>NaN</td>\n",
              "      <td>NaN</td>\n",
              "      <td>NaN</td>\n",
              "      <td>NaN</td>\n",
              "      <td>NaN</td>\n",
              "      <td>1.0</td>\n",
              "      <td>NaN</td>\n",
              "      <td>NaN</td>\n",
              "      <td>NaN</td>\n",
              "      <td>1.0</td>\n",
              "      <td>NaN</td>\n",
              "      <td>1.0</td>\n",
              "      <td>NaN</td>\n",
              "      <td>NaN</td>\n",
              "      <td>NaN</td>\n",
              "      <td>1.0</td>\n",
              "      <td>NaN</td>\n",
              "      <td>NaN</td>\n",
              "      <td>NaN</td>\n",
              "    </tr>\n",
              "  </tbody>\n",
              "</table>\n",
              "</div>"
            ],
            "text/plain": [
              "Year  1910  1920  1929  1931  1939  1941  1942  1944  1945  1946  1947  1948  \\\n",
              "Hour                                                                           \n",
              "0      NaN   NaN   NaN   NaN   NaN   NaN   NaN   NaN   NaN   NaN   NaN   NaN   \n",
              "1      NaN   NaN   NaN   NaN   NaN   NaN   NaN   NaN   1.0   NaN   NaN   NaN   \n",
              "2      NaN   NaN   NaN   NaN   1.0   NaN   NaN   NaN   NaN   1.0   1.0   1.0   \n",
              "3      NaN   NaN   NaN   NaN   NaN   NaN   NaN   NaN   NaN   NaN   NaN   NaN   \n",
              "4      NaN   NaN   NaN   NaN   NaN   NaN   NaN   NaN   NaN   NaN   NaN   NaN   \n",
              "\n",
              "Year  1949  1950  1951  1952  1953  1954  1955  1956  1957  1958  1959  1960  \\\n",
              "Hour                                                                           \n",
              "0      NaN   NaN   NaN   NaN   NaN   1.0   NaN   NaN   NaN   NaN   NaN   NaN   \n",
              "1      NaN   NaN   NaN   NaN   NaN   NaN   NaN   NaN   NaN   NaN   1.0   NaN   \n",
              "2      NaN   NaN   NaN   NaN   NaN   1.0   1.0   NaN   NaN   1.0   NaN   NaN   \n",
              "3      NaN   NaN   1.0   NaN   NaN   NaN   NaN   NaN   NaN   NaN   NaN   NaN   \n",
              "4      NaN   1.0   NaN   NaN   NaN   NaN   NaN   NaN   NaN   NaN   NaN   NaN   \n",
              "\n",
              "Year  1961  1962  1963  1964  1965  1966  1967  1968  1969  1970  1971  1972  \\\n",
              "Hour                                                                           \n",
              "0      NaN   1.0   1.0   NaN   NaN   NaN   1.0   2.0   1.0   2.0   NaN   NaN   \n",
              "1      NaN   NaN   NaN   NaN   NaN   1.0   NaN   NaN   NaN   NaN   1.0   NaN   \n",
              "2      NaN   NaN   1.0   NaN   NaN   NaN   NaN   NaN   NaN   1.0   NaN   NaN   \n",
              "3      NaN   NaN   NaN   NaN   NaN   NaN   NaN   NaN   NaN   NaN   NaN   NaN   \n",
              "4      NaN   NaN   NaN   1.0   NaN   NaN   NaN   NaN   NaN   NaN   NaN   NaN   \n",
              "\n",
              "Year  1973  1974  1975  1976  1977  1978  1979  1980  1981  1982  1983  1984  \\\n",
              "Hour                                                                           \n",
              "0      NaN   1.0   NaN   NaN   NaN   NaN   NaN   1.0   1.0   1.0   NaN   NaN   \n",
              "1      1.0   1.0   NaN   NaN   NaN   1.0   NaN   1.0   1.0   1.0   NaN   NaN   \n",
              "2      NaN   NaN   NaN   NaN   NaN   NaN   1.0   NaN   NaN   NaN   NaN   NaN   \n",
              "3      NaN   NaN   1.0   NaN   NaN   NaN   NaN   NaN   NaN   NaN   NaN   NaN   \n",
              "4      NaN   NaN   NaN   NaN   NaN   NaN   1.0   NaN   NaN   NaN   NaN   NaN   \n",
              "\n",
              "Year  1985  1986  1987  1988  1989  1990  1991  1992  1993  1994  1995  1996  \\\n",
              "Hour                                                                           \n",
              "0      NaN   NaN   1.0   NaN   1.0   NaN   NaN   NaN   1.0   NaN   NaN   NaN   \n",
              "1      1.0   NaN   1.0   NaN   NaN   NaN   NaN   NaN   1.0   NaN   NaN   1.0   \n",
              "2      NaN   NaN   NaN   NaN   NaN   NaN   NaN   NaN   1.0   NaN   1.0   NaN   \n",
              "3      NaN   1.0   NaN   1.0   NaN   NaN   NaN   NaN   NaN   NaN   NaN   NaN   \n",
              "4      NaN   NaN   NaN   NaN   NaN   NaN   1.0   NaN   NaN   NaN   1.0   NaN   \n",
              "\n",
              "Year  1997  1998  1999  2000  2001  2002  2003  2004  \n",
              "Hour                                                  \n",
              "0      NaN   2.0   2.0   NaN   3.0   NaN   1.0   NaN  \n",
              "1      1.0   1.0   NaN   NaN   1.0   1.0   1.0   1.0  \n",
              "2      NaN   NaN   1.0   1.0   NaN   NaN   2.0   NaN  \n",
              "3      NaN   NaN   NaN   NaN   NaN   NaN   NaN   NaN  \n",
              "4      1.0   NaN   NaN   NaN   1.0   NaN   NaN   NaN  "
            ]
          },
          "metadata": {
            "tags": []
          },
          "execution_count": 233
        }
      ]
    },
    {
      "cell_type": "markdown",
      "metadata": {
        "id": "ivX7bQXqowrp",
        "colab_type": "text"
      },
      "source": [
        "**Q141.** Write a python program to draw the line using given axis values\n",
        "with the suitable label in the x-axis, y-axis, and a title."
      ]
    },
    {
      "cell_type": "code",
      "metadata": {
        "id": "nLKpw3YPfn3E",
        "colab_type": "code",
        "outputId": "d527e14f-a49c-4218-e69e-7e14bab38e97",
        "colab": {
          "base_uri": "https://localhost:8080/",
          "height": 312
        }
      },
      "source": [
        "X=np.arange(1,4)\n",
        "Y=np.array([2,4,1])\n",
        "plt.xlim(1, 3)\n",
        "plt.ylim(1, 4)\n",
        "plt.title('Sample Graph')\n",
        "plt.ylabel('Y-axis')\n",
        "plt.xlabel('X-axis') \n",
        "plt.plot(X,Y)"
      ],
      "execution_count": 0,
      "outputs": [
        {
          "output_type": "execute_result",
          "data": {
            "text/plain": [
              "[<matplotlib.lines.Line2D at 0x7f312b285908>]"
            ]
          },
          "metadata": {
            "tags": []
          },
          "execution_count": 234
        },
        {
          "output_type": "display_data",
          "data": {
            "image/png": "[encoded data removed]",
            "text/plain": [
              "<Figure size 432x288 with 1 Axes>"
            ]
          },
          "metadata": {
            "tags": [],
            "needs_background": "light"
          }
        }
      ]
    },
    {
      "cell_type": "markdown",
      "metadata": {
        "id": "i4vlX3nHqgGx",
        "colab_type": "text"
      },
      "source": [
        "**Q142.** Write a python program to draw the line charts of the financial\n",
        "data of the Alphabet Inc., between October."
      ]
    },
    {
      "cell_type": "code",
      "metadata": {
        "id": "C4Ngne0Oqlxc",
        "colab_type": "code",
        "outputId": "ea3f031b-1d8d-4429-8d48-88cd7b844b48",
        "colab": {
          "base_uri": "https://localhost:8080/",
          "height": 138
        }
      },
      "source": [
        "df=pd.read_csv('fdata.csv',parse_dates=True,index_col=0)\n",
        "print(df)"
      ],
      "execution_count": 0,
      "outputs": [
        {
          "output_type": "stream",
          "text": [
            "                  Open        High         Low       Close\n",
            "Date                                                      \n",
            "2016-10-03  774.250000  776.065002  769.500000  772.559998\n",
            "2016-10-04  776.030029  778.710022  772.890015  776.429993\n",
            "2016-10-05  779.309998  782.070007  775.650024  776.469971\n",
            "2016-10-06  779.000000  780.479980  775.539978  776.859985\n",
            "2016-10-07  779.659973  779.659973  770.750000  775.080017\n"
          ],
          "name": "stdout"
        }
      ]
    },
    {
      "cell_type": "code",
      "metadata": {
        "id": "7nOo5lcsrTvS",
        "colab_type": "code",
        "outputId": "3b71a42c-cb3b-4c02-80b8-8aab0235f0f7",
        "colab": {
          "base_uri": "https://localhost:8080/",
          "height": 320
        }
      },
      "source": [
        "df.plot()"
      ],
      "execution_count": 0,
      "outputs": [
        {
          "output_type": "execute_result",
          "data": {
            "text/plain": [
              "<matplotlib.axes._subplots.AxesSubplot at 0x7f312b2853c8>"
            ]
          },
          "metadata": {
            "tags": []
          },
          "execution_count": 236
        },
        {
          "output_type": "display_data",
          "data": {
            "image/png": "[encoded data removed]",
            "text/plain": [
              "<Figure size 432x288 with 1 Axes>"
            ]
          },
          "metadata": {
            "tags": [],
            "needs_background": "light"
          }
        }
      ]
    },
    {
      "cell_type": "markdown",
      "metadata": {
        "id": "8Z-y-I90s76D",
        "colab_type": "text"
      },
      "source": [
        "**Q143.** Write a Python program to plot two or more lines on same plot\n",
        "with the suitable legends of each line."
      ]
    },
    {
      "cell_type": "code",
      "metadata": {
        "id": "J74focLRtDX3",
        "colab_type": "code",
        "outputId": "4a72fa6a-da8a-4269-92fc-81bfb7a3f865",
        "colab": {
          "base_uri": "https://localhost:8080/",
          "height": 312
        }
      },
      "source": [
        "X1=np.arange(1,4)*10\n",
        "Y1=np.array([2,4,1])*10\n",
        "Y2=np.array([4,1,3])*10\n",
        "plt.xlim(10, 30)\n",
        "plt.ylim(10, 40)\n",
        "plt.title('Two or more lines on same plot with the suitable legends')\n",
        "plt.ylabel('Y-axis')\n",
        "plt.xlabel('X-axis') \n",
        "plt.plot(X1,Y1,label='line1')\n",
        "plt.plot(X1,Y2,label='line2')\n",
        "plt.legend()\n"
      ],
      "execution_count": 0,
      "outputs": [
        {
          "output_type": "execute_result",
          "data": {
            "text/plain": [
              "<matplotlib.legend.Legend at 0x7f312b1176d8>"
            ]
          },
          "metadata": {
            "tags": []
          },
          "execution_count": 237
        },
        {
          "output_type": "display_data",
          "data": {
            "image/png": "[encoded data removed]",
            "text/plain": [
              "<Figure size 432x288 with 1 Axes>"
            ]
          },
          "metadata": {
            "tags": [],
            "needs_background": "light"
          }
        }
      ]
    },
    {
      "cell_type": "markdown",
      "metadata": {
        "id": "yvxNw7QwuVG5",
        "colab_type": "text"
      },
      "source": [
        "**Q144.** Write a python programming to display a bar chart of the\n",
        "popularity of programming languages."
      ]
    },
    {
      "cell_type": "code",
      "metadata": {
        "id": "LOTa2FYdwVEw",
        "colab_type": "code",
        "outputId": "a785e3e6-2cf1-4cd2-c526-8a70c1189091",
        "colab": {
          "base_uri": "https://localhost:8080/",
          "height": 525
        }
      },
      "source": [
        "programming_languages = ['Java', 'Python', 'PHP', 'JavaScript', 'C#', 'C++']\n",
        "Popularity=[22.2, 17.6, 8.8, 8, 7.7 , 6.7]\n",
        "x=pd.Series(Popularity,index=programming_languages)\n",
        "print(x)\n",
        "plt.figure(figsize=(10,5))\n",
        "x.plot(kind='bar',align='edge')\n",
        "plt.title('PopularitY of Programming Language\\n' + 'Worldwide, Oct 2017 compared to a year ago')\n",
        "plt.xlabel('Programming_languages')\n",
        "plt.ylabel('Popularity')\n",
        "plt.xlim(0, 6)\n",
        "plt.minorticks_on()\n",
        "plt.grid(which='major', linestyle='-', color='red')\n",
        "plt.grid(which='minor', linestyle=':', color='black')"
      ],
      "execution_count": 0,
      "outputs": [
        {
          "output_type": "stream",
          "text": [
            "Java          22.2\n",
            "Python        17.6\n",
            "PHP            8.8\n",
            "JavaScript     8.0\n",
            "C#             7.7\n",
            "C++            6.7\n",
            "dtype: float64\n"
          ],
          "name": "stdout"
        },
        {
          "output_type": "display_data",
          "data": {
            "image/png": "[encoded data removed]",
            "text/plain": [
              "<Figure size 720x360 with 1 Axes>"
            ]
          },
          "metadata": {
            "tags": [],
            "needs_background": "light"
          }
        }
      ]
    },
    {
      "cell_type": "markdown",
      "metadata": {
        "id": "4gTcrKKP0wYJ",
        "colab_type": "text"
      },
      "source": [
        "**Q145.** Write a python programming to display a horizontal bar chart of\n",
        "the popularity of programming languages."
      ]
    },
    {
      "cell_type": "code",
      "metadata": {
        "id": "ULKZAFgg05FH",
        "colab_type": "code",
        "outputId": "11d03032-81aa-4827-b070-abc3c3d3b542",
        "colab": {
          "base_uri": "https://localhost:8080/",
          "height": 365
        }
      },
      "source": [
        "plt.figure(figsize=(10,5))\n",
        "x.plot(kind='barh',color='green',align='edge')\n",
        "plt.title('PopularitY of Programming Language\\n' + 'Worldwide, Oct 2017 compared to a year ago')\n",
        "plt.ylabel('Programming_languages')\n",
        "plt.xlabel('Popularity')\n",
        "plt.minorticks_on()\n",
        "plt.ylim(0, 6)\n",
        "plt.grid(which='major', linestyle='-', color='red')\n",
        "plt.grid(which='minor', linestyle=':', color='black')"
      ],
      "execution_count": 0,
      "outputs": [
        {
          "output_type": "display_data",
          "data": {
            "image/png": "[encoded data removed]",
            "text/plain": [
              "<Figure size 720x360 with 1 Axes>"
            ]
          },
          "metadata": {
            "tags": [],
            "needs_background": "light"
          }
        }
      ]
    },
    {
      "cell_type": "markdown",
      "metadata": {
        "id": "crNPgQ4g45It",
        "colab_type": "text"
      },
      "source": [
        "**Q146.** Write a python programming to display a bar chart of the\n",
        "Popularity of programming languages. Increase bottom margin."
      ]
    },
    {
      "cell_type": "code",
      "metadata": {
        "id": "RNeYyDSpMhTq",
        "colab_type": "code",
        "outputId": "c4d28306-ddcc-47b4-cddc-fd22481ef08b",
        "colab": {
          "base_uri": "https://localhost:8080/",
          "height": 391
        }
      },
      "source": [
        "programming_languages = ['Java', 'Python', 'PHP', 'JavaScript', 'C#', 'C++']\n",
        "Popularity=[22.2, 17.6, 8.8, 8, 7.7 , 6.7]\n",
        "x=pd.Series(Popularity,index=programming_languages)\n",
        "print(x)\n",
        "plt.figure(figsize=(10,5))\n",
        "x.plot(kind='bar',align='edge')\n",
        "plt.title('PopularitY of Programming Language\\n' + 'Worldwide, Oct 2017 compared to a year ago')\n",
        "plt.xlabel('Programming_languages')\n",
        "plt.ylabel('Popularity')\n",
        "plt.xlim(0, 6)\n",
        "plt.subplots_adjust(bottom=0.5)\n",
        "plt.minorticks_on()\n",
        "plt.grid(which='major', linestyle='-', color='red')\n",
        "plt.grid(which='minor', linestyle=':', color='black')"
      ],
      "execution_count": 0,
      "outputs": [
        {
          "output_type": "stream",
          "text": [
            "Java          22.2\n",
            "Python        17.6\n",
            "PHP            8.8\n",
            "JavaScript     8.0\n",
            "C#             7.7\n",
            "C++            6.7\n",
            "dtype: float64\n"
          ],
          "name": "stdout"
        },
        {
          "output_type": "display_data",
          "data": {
            "image/png": "[encoded data removed]",
            "text/plain": [
              "<Figure size 720x360 with 1 Axes>"
            ]
          },
          "metadata": {
            "tags": [],
            "needs_background": "light"
          }
        }
      ]
    },
    {
      "cell_type": "markdown",
      "metadata": {
        "id": "VPT6UjWx4uSn",
        "colab_type": "text"
      },
      "source": [
        "**Q147.** Write a python program to create the bar plot from a DataFrame."
      ]
    },
    {
      "cell_type": "code",
      "metadata": {
        "id": "Z68d8AChxeuv",
        "colab_type": "code",
        "outputId": "53cd94c7-cca6-4608-f013-b7abbd325f4d",
        "colab": {
          "base_uri": "https://localhost:8080/",
          "height": 173
        }
      },
      "source": [
        "df=pd.DataFrame({'a':[4,2,4,2,2],'b':[8,3,7,6,4],'c':[5,4,4,4,3],'d':[7,2,7,8,3],'e':[6,6,8,6,2]},index=[2,4,6,8,10])\n",
        "print('\\n Dataframe \\n','-'*15)\n",
        "print(df)"
      ],
      "execution_count": 0,
      "outputs": [
        {
          "output_type": "stream",
          "text": [
            "\n",
            " Dataframe \n",
            " ---------------\n",
            "    a  b  c  d  e\n",
            "2   4  8  5  7  6\n",
            "4   2  3  4  2  6\n",
            "6   4  7  4  7  8\n",
            "8   2  6  4  8  6\n",
            "10  2  4  3  3  2\n"
          ],
          "name": "stdout"
        }
      ]
    },
    {
      "cell_type": "code",
      "metadata": {
        "id": "qmQMaVPP7S-D",
        "colab_type": "code",
        "outputId": "f4cf1e53-8243-4c4d-b9cd-308614bd85b1",
        "colab": {
          "base_uri": "https://localhost:8080/",
          "height": 285
        }
      },
      "source": [
        "plt.figure(figsize=(10,5))\n",
        "df.plot(kind='bar')\n",
        "plt.minorticks_on()\n",
        "plt.grid(which='major', linestyle='-', color='green')\n",
        "plt.grid(which='minor', linestyle=':', color='black')\n"
      ],
      "execution_count": 0,
      "outputs": [
        {
          "output_type": "display_data",
          "data": {
            "text/plain": [
              "<Figure size 720x360 with 0 Axes>"
            ]
          },
          "metadata": {
            "tags": []
          }
        },
        {
          "output_type": "display_data",
          "data": {
            "image/png": "[encoded data removed]",
            "text/plain": [
              "<Figure size 432x288 with 1 Axes>"
            ]
          },
          "metadata": {
            "tags": [],
            "needs_background": "light"
          }
        }
      ]
    },
    {
      "cell_type": "markdown",
      "metadata": {
        "id": "LGjMTqVW-_oN",
        "colab_type": "text"
      },
      "source": [
        "**Q148.** Write a python program to draw the scatter plot comparing two\n",
        "subject marks of Mathematics and Science. Use marks of 10 students.\n",
        "\n",
        "Sample data:\n",
        "Test Data\n",
        "\n",
        "math_marks = [88, 92 , 80, 89, 100, 80, 60, 100, 80, 34]\n",
        "\n",
        "science_marks = [35, 79, 79 , 48, 100, 88, 32, 45, 20, 30]\n",
        "\n",
        "marks_range = [10, 20, 30, 40, 50, 60, 70, 80, 90, 100]"
      ]
    },
    {
      "cell_type": "code",
      "metadata": {
        "id": "ONLLl1M8_E2I",
        "colab_type": "code",
        "outputId": "778392c0-a274-4d68-c5db-15e62043d452",
        "colab": {
          "base_uri": "https://localhost:8080/",
          "height": 367
        }
      },
      "source": [
        "plt.figure(figsize=(10,5))\n",
        "math_marks = [88, 92 , 80, 89, 100, 80, 60, 100, 80, 34]\n",
        "science_marks = [35, 79, 79 , 48, 100, 88, 32, 45, 20, 30]\n",
        "marks_range = [10, 20, 30, 40, 50, 60, 70, 80, 90, 100]\n",
        "plt.scatter(y=math_marks,x=marks_range,label='Math marks', color='red')\n",
        "plt.scatter(y=science_marks,x=marks_range,label='Science marks', color='green')\n",
        "plt.xlim(0,120)\n",
        "plt.title('Scatter Plot')\n",
        "plt.xlabel('Marks range')\n",
        "plt.ylabel('Marks scored')\n",
        "plt.legend()"
      ],
      "execution_count": 0,
      "outputs": [
        {
          "output_type": "execute_result",
          "data": {
            "text/plain": [
              "<matplotlib.legend.Legend at 0x7f312acf9668>"
            ]
          },
          "metadata": {
            "tags": []
          },
          "execution_count": 244
        },
        {
          "output_type": "display_data",
          "data": {
            "image/png": "[encoded data removed]",
            "text/plain": [
              "<Figure size 720x360 with 1 Axes>"
            ]
          },
          "metadata": {
            "tags": [],
            "needs_background": "light"
          }
        }
      ]
    },
    {
      "cell_type": "markdown",
      "metadata": {
        "id": "OOvxrDvWIHWW",
        "colab_type": "text"
      },
      "source": [
        "**Q149.** Write a python program to draw the scatter plot for three different\n",
        "groups comparing weights and heights."
      ]
    },
    {
      "cell_type": "code",
      "metadata": {
        "id": "ro8pw-3OVP9c",
        "colab_type": "code",
        "outputId": "eb123d54-f954-4420-b1b9-8dc941857bcc",
        "colab": {
          "base_uri": "https://localhost:8080/",
          "height": 367
        }
      },
      "source": [
        "plt.figure(figsize=(10,5))\n",
        "w1=[67,57,59,59,55,61,60,61,56,56]\n",
        "h1=[100,197.5,98,125,113,157.5,134,150,125,114.3] \n",
        "w2=[61.9,64,62.1,64.2,62.3,65.4,62.4,61.4,62.5,63]\n",
        "h2=[152.8,155.3,135.1,125.2,151.3,135,182.2,195.9,165.1,125.1] \n",
        "w3=[68.2,67.2,68.4,68.7,71,71.3,70.8,70,71.1,71.7]\n",
        "h3=[165.8,170.9,192.8,135.4,161.4,136.1,167.1,235.1,181.1,177.3]\n",
        "plt.scatter(y=h1,x=w1,marker='*', color='red')\n",
        "plt.scatter(y=h2,x=w2,marker='*', color='green')\n",
        "plt.scatter(y=h3,x=w3,marker='*', color='blue')\n",
        "plt.xlim(55,75)\n",
        "plt.ylim(80,260)\n",
        "plt.title('Group wise Weight vs Height scatter plot')\n",
        "plt.xlabel('Weight')\n",
        "plt.ylabel('Height')\n"
      ],
      "execution_count": 0,
      "outputs": [
        {
          "output_type": "execute_result",
          "data": {
            "text/plain": [
              "Text(0, 0.5, 'Height')"
            ]
          },
          "metadata": {
            "tags": []
          },
          "execution_count": 245
        },
        {
          "output_type": "display_data",
          "data": {
            "image/png": "[encoded data removed]",
            "text/plain": [
              "<Figure size 720x360 with 1 Axes>"
            ]
          },
          "metadata": {
            "tags": [],
            "needs_background": "light"
          }
        }
      ]
    },
    {
      "cell_type": "markdown",
      "metadata": {
        "id": "rdvUsK2-E51s",
        "colab_type": "text"
      },
      "source": [
        "**Q150.** Write a python program to draw the scatter plot for three different\n",
        "groups comparing weights and heights."
      ]
    },
    {
      "cell_type": "code",
      "metadata": {
        "id": "q33w5dTfFBRC",
        "colab_type": "code",
        "outputId": "c84671d5-e1c1-4a25-bf87-3f7b06d043c2",
        "colab": {
          "base_uri": "https://localhost:8080/",
          "height": 215
        }
      },
      "source": [
        "df=pd.read_csv('data.csv')\n",
        "df.head(5)"
      ],
      "execution_count": 0,
      "outputs": [
        {
          "output_type": "execute_result",
          "data": {
            "text/html": [
              "<div>\n",
              "<style scoped>\n",
              "    .dataframe tbody tr th:only-of-type {\n",
              "        vertical-align: middle;\n",
              "    }\n",
              "\n",
              "    .dataframe tbody tr th {\n",
              "        vertical-align: top;\n",
              "    }\n",
              "\n",
              "    .dataframe thead th {\n",
              "        text-align: right;\n",
              "    }\n",
              "</style>\n",
              "<table border=\"1\" class=\"dataframe\">\n",
              "  <thead>\n",
              "    <tr style=\"text-align: right;\">\n",
              "      <th></th>\n",
              "      <th>year</th>\n",
              "      <th>CSIRO_sea_level</th>\n",
              "      <th>CSIRO - Lower error bound (inches)</th>\n",
              "      <th>CSIRO - Upper error bound (inches)</th>\n",
              "      <th>NOAA - Adjusted sea level (inches)</th>\n",
              "    </tr>\n",
              "  </thead>\n",
              "  <tbody>\n",
              "    <tr>\n",
              "      <th>0</th>\n",
              "      <td>1880</td>\n",
              "      <td>0.000000</td>\n",
              "      <td>-0.952756</td>\n",
              "      <td>0.952756</td>\n",
              "      <td>NaN</td>\n",
              "    </tr>\n",
              "    <tr>\n",
              "      <th>1</th>\n",
              "      <td>1881</td>\n",
              "      <td>0.220472</td>\n",
              "      <td>-0.732283</td>\n",
              "      <td>1.173228</td>\n",
              "      <td>NaN</td>\n",
              "    </tr>\n",
              "    <tr>\n",
              "      <th>2</th>\n",
              "      <td>1882</td>\n",
              "      <td>-0.440945</td>\n",
              "      <td>-1.346457</td>\n",
              "      <td>0.464567</td>\n",
              "      <td>NaN</td>\n",
              "    </tr>\n",
              "    <tr>\n",
              "      <th>3</th>\n",
              "      <td>1883</td>\n",
              "      <td>-0.232283</td>\n",
              "      <td>-1.129921</td>\n",
              "      <td>0.665354</td>\n",
              "      <td>NaN</td>\n",
              "    </tr>\n",
              "    <tr>\n",
              "      <th>4</th>\n",
              "      <td>1884</td>\n",
              "      <td>0.590551</td>\n",
              "      <td>-0.283465</td>\n",
              "      <td>1.464567</td>\n",
              "      <td>NaN</td>\n",
              "    </tr>\n",
              "  </tbody>\n",
              "</table>\n",
              "</div>"
            ],
            "text/plain": [
              "   year  CSIRO_sea_level  CSIRO - Lower error bound (inches)  \\\n",
              "0  1880         0.000000                           -0.952756   \n",
              "1  1881         0.220472                           -0.732283   \n",
              "2  1882        -0.440945                           -1.346457   \n",
              "3  1883        -0.232283                           -1.129921   \n",
              "4  1884         0.590551                           -0.283465   \n",
              "\n",
              "   CSIRO - Upper error bound (inches)  NOAA - Adjusted sea level (inches)  \n",
              "0                            0.952756                                 NaN  \n",
              "1                            1.173228                                 NaN  \n",
              "2                            0.464567                                 NaN  \n",
              "3                            0.665354                                 NaN  \n",
              "4                            1.464567                                 NaN  "
            ]
          },
          "metadata": {
            "tags": []
          },
          "execution_count": 246
        }
      ]
    },
    {
      "cell_type": "code",
      "metadata": {
        "id": "wz3CdV2WHBa_",
        "colab_type": "code",
        "outputId": "3f6fc1f1-2f5b-429b-cb2e-db65611c4786",
        "colab": {
          "base_uri": "https://localhost:8080/",
          "height": 475
        }
      },
      "source": [
        "plt.figure(figsize=(11,7))\n",
        "plt.scatter(x=df['year'],y=df['CSIRO_sea_level'])\n",
        "plt.xlim(1860,2020)\n",
        "plt.ylim(-2,10)\n",
        "plt.title('Rise in Sealevel')\n",
        "plt.xlabel('Year')\n",
        "plt.ylabel('Sea Level (inches)')\n"
      ],
      "execution_count": 0,
      "outputs": [
        {
          "output_type": "execute_result",
          "data": {
            "text/plain": [
              "Text(0, 0.5, 'Sea Level (inches)')"
            ]
          },
          "metadata": {
            "tags": []
          },
          "execution_count": 247
        },
        {
          "output_type": "display_data",
          "data": {
            "image/png": "[encoded data removed]",
            "text/plain": [
              "<Figure size 792x504 with 1 Axes>"
            ]
          },
          "metadata": {
            "tags": [],
            "needs_background": "light"
          }
        }
      ]
    }
  ]
}