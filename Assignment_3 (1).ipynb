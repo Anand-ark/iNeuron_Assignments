{
  "nbformat": 4,
  "nbformat_minor": 0,
  "metadata": {
    "colab": {
      "name": "Assignment 3",
      "provenance": []
    },
    "kernelspec": {
      "name": "python3",
      "display_name": "Python 3"
    }
  },
  "cells": [
    {
      "cell_type": "markdown",
      "metadata": {
        "id": "9xDeeGtrOisc",
        "colab_type": "text"
      },
      "source": [
        "**TASK 1**"
      ]
    },
    {
      "cell_type": "markdown",
      "metadata": {
        "id": "cdpf2wMAOt7Q",
        "colab_type": "text"
      },
      "source": [
        "1.Write a function to compute 5/0 and use try/except to catch the exceptions."
      ]
    },
    {
      "cell_type": "code",
      "metadata": {
        "id": "AiMcft6bM51S",
        "colab_type": "code",
        "colab": {}
      },
      "source": [
        "def div(n,d):\n",
        "  try:\n",
        "    ans=n/d\n",
        "  except ZeroDivisionError as z:\n",
        "    print(\"Error Dividing by Zero\")\n",
        "    ans='Result is Infinity'\n",
        "  return ans"
      ],
      "execution_count": 0,
      "outputs": []
    },
    {
      "cell_type": "code",
      "metadata": {
        "id": "QTxAYwn3T5Q0",
        "colab_type": "code",
        "outputId": "75f08576-46c5-40b5-d43d-72ad36ab02df",
        "colab": {
          "base_uri": "https://localhost:8080/",
          "height": 52
        }
      },
      "source": [
        "div(5,0)"
      ],
      "execution_count": 0,
      "outputs": [
        {
          "output_type": "stream",
          "text": [
            "Error Dividing by Zero\n"
          ],
          "name": "stdout"
        },
        {
          "output_type": "execute_result",
          "data": {
            "text/plain": [
              "'Result is Infinity'"
            ]
          },
          "metadata": {
            "tags": []
          },
          "execution_count": 33
        }
      ]
    },
    {
      "cell_type": "markdown",
      "metadata": {
        "id": "wKmS9FdOOxfy",
        "colab_type": "text"
      },
      "source": [
        "2.Implement a Python program to generate all sentences where subject is in [\"Americans\",\n",
        "\"Indians\"] and verb is in [\"Play\", \"watch\"] and the object is in [\"Baseball\",\"cricket\"].\n",
        "\n",
        "Hint: Subject,Verb and Object should be declared in the program as shown below.\n",
        "\n",
        "subjects=[\"Americans \",\"Indians\"]\n",
        "verbs=[\"play\",\"watch\"]\n",
        "objects=[\"Baseball\",\"Cricket\"]\n",
        "\n",
        "Output should come as below:\n",
        "\n",
        "Americans play Baseball.\n",
        "\n",
        "Americans play Cricket.\n",
        "\n",
        "Americans watch Baseball.\n",
        "\n",
        "Americans watch Cricket.\n",
        "\n",
        "Indians play Baseball.\n",
        "\n",
        "Indians play Cricket.\n",
        "\n",
        "Indians watch Baseball.\n",
        "\n",
        "Indians watch Cricket"
      ]
    },
    {
      "cell_type": "code",
      "metadata": {
        "id": "A6y4pPNOd3t3",
        "colab_type": "code",
        "outputId": "f8d30bc6-da19-407f-d5c6-e9b74df9e4e6",
        "colab": {
          "base_uri": "https://localhost:8080/",
          "height": 155
        }
      },
      "source": [
        "subjects=[\"Americans \",\"Indians\"]\n",
        "verbs=[\"play\",\"watch\"]\n",
        "objects=[\"Baseball\",\"Cricket\"]\n",
        "answer=[(sub+\" \"+vb+\" \"+obj+\".\") for sub in subjects for vb in verbs for obj in objects]\n",
        "for i in answer:\n",
        "  print(i)\n"
      ],
      "execution_count": 0,
      "outputs": [
        {
          "output_type": "stream",
          "text": [
            "Americans  play Baseball.\n",
            "Americans  play Cricket.\n",
            "Americans  watch Baseball.\n",
            "Americans  watch Cricket.\n",
            "Indians play Baseball.\n",
            "Indians play Cricket.\n",
            "Indians watch Baseball.\n",
            "Indians watch Cricket.\n"
          ],
          "name": "stdout"
        }
      ]
    },
    {
      "cell_type": "markdown",
      "metadata": {
        "id": "eRPhcopGPIBc",
        "colab_type": "text"
      },
      "source": [
        "**TASK 2**"
      ]
    },
    {
      "cell_type": "code",
      "metadata": {
        "id": "mXyYRyBsOgnW",
        "colab_type": "code",
        "colab": {}
      },
      "source": [
        "import numpy as np"
      ],
      "execution_count": 0,
      "outputs": []
    },
    {
      "cell_type": "markdown",
      "metadata": {
        "id": "hJEigQYwPL5f",
        "colab_type": "text"
      },
      "source": [
        "1.Write a function so that the columns of the output matrix are powers of the input vector.\n",
        "\n",
        "The order of the powers is determined by the increasing boolean argument. Specifically, when\n",
        "increasing is False, the i-th output column is the input vector raised element-wise to the power\n",
        "of N - i - 1.\n",
        "\n",
        "HINT: Such a matrix with a geometric progression in each row is named for AlexandreTheophile Vandermonde."
      ]
    },
    {
      "cell_type": "code",
      "metadata": {
        "id": "g4fQPcYK_JeV",
        "colab_type": "code",
        "colab": {}
      },
      "source": [
        "def vanderm(x,N,increasing):\n",
        "  #if N is not Specified in the Argument or N=None\n",
        "  if(N==None and increasing==False):\n",
        "    result1=[[x[i]**(len(x)-j) for j in range(1,len(x)+1)] for i in range(0,len(x))]\n",
        "    return np.array(result1)\n",
        "  elif(N==None and increasing==True):\n",
        "    result2=[[x[i]**(j) for j in range(0,len(x))] for i in range(0,len(x))]\n",
        "    return np.array(result2)\n",
        "  #if N is Specified in the Argument\n",
        "  elif(increasing==False):\n",
        "    result3=[[x[i]**(N-j) for j in range(1,N+1)] for i in range(0,len(x)) ]\n",
        "    return np.array(result3)\n",
        "  else:\n",
        "    result4=[[x[i]**(j) for j in range(0,N)] for i in range(0,len(x)) ]\n",
        "    return np.array(result4)"
      ],
      "execution_count": 0,
      "outputs": []
    },
    {
      "cell_type": "code",
      "metadata": {
        "id": "ZxypL21TDxVy",
        "colab_type": "code",
        "outputId": "993e43a0-9478-4766-9a50-a78ded2e075c",
        "colab": {
          "base_uri": "https://localhost:8080/",
          "height": 121
        }
      },
      "source": [
        "vanderm([1,2,3,4,5,6],None,True)"
      ],
      "execution_count": 35,
      "outputs": [
        {
          "output_type": "execute_result",
          "data": {
            "text/plain": [
              "array([[   1,    1,    1,    1,    1,    1],\n",
              "       [   1,    2,    4,    8,   16,   32],\n",
              "       [   1,    3,    9,   27,   81,  243],\n",
              "       [   1,    4,   16,   64,  256, 1024],\n",
              "       [   1,    5,   25,  125,  625, 3125],\n",
              "       [   1,    6,   36,  216, 1296, 7776]])"
            ]
          },
          "metadata": {
            "tags": []
          },
          "execution_count": 35
        }
      ]
    },
    {
      "cell_type": "code",
      "metadata": {
        "id": "8Qyw9ARiJ-wo",
        "colab_type": "code",
        "outputId": "c8f06f9f-18e3-41db-8ed1-cf684956f592",
        "colab": {
          "base_uri": "https://localhost:8080/",
          "height": 121
        }
      },
      "source": [
        "vanderm([1,2,3,4,5,6],None,False)"
      ],
      "execution_count": 36,
      "outputs": [
        {
          "output_type": "execute_result",
          "data": {
            "text/plain": [
              "array([[   1,    1,    1,    1,    1,    1],\n",
              "       [  32,   16,    8,    4,    2,    1],\n",
              "       [ 243,   81,   27,    9,    3,    1],\n",
              "       [1024,  256,   64,   16,    4,    1],\n",
              "       [3125,  625,  125,   25,    5,    1],\n",
              "       [7776, 1296,  216,   36,    6,    1]])"
            ]
          },
          "metadata": {
            "tags": []
          },
          "execution_count": 36
        }
      ]
    },
    {
      "cell_type": "code",
      "metadata": {
        "id": "-H9pn5akBkVt",
        "colab_type": "code",
        "outputId": "3800dae3-3d3f-4ae3-ee97-0a8125e96a47",
        "colab": {
          "base_uri": "https://localhost:8080/",
          "height": 121
        }
      },
      "source": [
        "vanderm([1,2,3,4,5,6],3,True)"
      ],
      "execution_count": 37,
      "outputs": [
        {
          "output_type": "execute_result",
          "data": {
            "text/plain": [
              "array([[ 1,  1,  1],\n",
              "       [ 1,  2,  4],\n",
              "       [ 1,  3,  9],\n",
              "       [ 1,  4, 16],\n",
              "       [ 1,  5, 25],\n",
              "       [ 1,  6, 36]])"
            ]
          },
          "metadata": {
            "tags": []
          },
          "execution_count": 37
        }
      ]
    },
    {
      "cell_type": "code",
      "metadata": {
        "id": "748hsU4kKI7u",
        "colab_type": "code",
        "outputId": "3b6c726b-89ef-4e8f-b497-ee7138f3d3bf",
        "colab": {
          "base_uri": "https://localhost:8080/",
          "height": 121
        }
      },
      "source": [
        "vanderm([1,2,3,4,5,6],3,False)"
      ],
      "execution_count": 38,
      "outputs": [
        {
          "output_type": "execute_result",
          "data": {
            "text/plain": [
              "array([[ 1,  1,  1],\n",
              "       [ 4,  2,  1],\n",
              "       [ 9,  3,  1],\n",
              "       [16,  4,  1],\n",
              "       [25,  5,  1],\n",
              "       [36,  6,  1]])"
            ]
          },
          "metadata": {
            "tags": []
          },
          "execution_count": 38
        }
      ]
    }
  ]
}